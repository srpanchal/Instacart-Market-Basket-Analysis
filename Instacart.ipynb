{
 "cells": [
  {
   "cell_type": "markdown",
   "id": "9e8f1ad0",
   "metadata": {
    "id": "9e8f1ad0"
   },
   "source": [
    "# Instacart Market Basket Analysis"
   ]
  },
  {
   "cell_type": "code",
   "execution_count": 1,
   "id": "9d146228",
   "metadata": {
    "scrolled": false
   },
   "outputs": [],
   "source": [
    "#!pip install wordcloud cufflinks pyspark"
   ]
  },
  {
   "cell_type": "code",
   "execution_count": 30,
   "id": "a504103e",
   "metadata": {
    "id": "a504103e"
   },
   "outputs": [
    {
     "data": {
      "text/html": [
       "        <script type=\"text/javascript\">\n",
       "        window.PlotlyConfig = {MathJaxConfig: 'local'};\n",
       "        if (window.MathJax) {MathJax.Hub.Config({SVG: {font: \"STIX-Web\"}});}\n",
       "        if (typeof require !== 'undefined') {\n",
       "        require.undef(\"plotly\");\n",
       "        requirejs.config({\n",
       "            paths: {\n",
       "                'plotly': ['https://cdn.plot.ly/plotly-2.2.0.min']\n",
       "            }\n",
       "        });\n",
       "        require(['plotly'], function(Plotly) {\n",
       "            window._Plotly = Plotly;\n",
       "        });\n",
       "        }\n",
       "        </script>\n",
       "        "
      ]
     },
     "metadata": {},
     "output_type": "display_data"
    }
   ],
   "source": [
    "import pandas as pd\n",
    "import seaborn as sns\n",
    "import matplotlib.pyplot as plt\n",
    "import numpy as np\n",
    "from time import time\n",
    "from scipy import stats\n",
    "from apyori import apriori\n",
    "from collections import Counter\n",
    "from itertools import combinations\n",
    "\n",
    "from numpy import loadtxt\n",
    "from sklearn.model_selection import train_test_split\n",
    "from sklearn.metrics import accuracy_score\n",
    "import matplotlib.pyplot as plt\n",
    "import matplotlib.pyplot as plt\n",
    "from wordcloud import WordCloud\n",
    "import seaborn as sns\n",
    "import matplotlib.pyplot as plt\n",
    "import cufflinks as cf\n",
    "cf.go_offline()\n",
    "cf.set_config_file(offline=False, world_readable=True)\n",
    "from sklearn.ensemble import RandomForestClassifier\n",
    "from sklearn.metrics import f1_score\n",
    "from pyspark.ml.fpm import FPGrowth\n",
    "import gc                         \n",
    "gc.enable()"
   ]
  },
  {
   "cell_type": "code",
   "execution_count": 3,
   "id": "38e1bad7",
   "metadata": {
    "colab": {
     "base_uri": "https://localhost:8080/",
     "height": 202
    },
    "id": "38e1bad7",
    "outputId": "09000f6d-be72-407b-9f8f-20974265e681"
   },
   "outputs": [
    {
     "data": {
      "text/html": [
       "<div>\n",
       "<style scoped>\n",
       "    .dataframe tbody tr th:only-of-type {\n",
       "        vertical-align: middle;\n",
       "    }\n",
       "\n",
       "    .dataframe tbody tr th {\n",
       "        vertical-align: top;\n",
       "    }\n",
       "\n",
       "    .dataframe thead th {\n",
       "        text-align: right;\n",
       "    }\n",
       "</style>\n",
       "<table border=\"1\" class=\"dataframe\">\n",
       "  <thead>\n",
       "    <tr style=\"text-align: right;\">\n",
       "      <th></th>\n",
       "      <th>aisle_id</th>\n",
       "      <th>aisle</th>\n",
       "    </tr>\n",
       "  </thead>\n",
       "  <tbody>\n",
       "    <tr>\n",
       "      <th>0</th>\n",
       "      <td>1</td>\n",
       "      <td>prepared soups salads</td>\n",
       "    </tr>\n",
       "    <tr>\n",
       "      <th>1</th>\n",
       "      <td>2</td>\n",
       "      <td>specialty cheeses</td>\n",
       "    </tr>\n",
       "    <tr>\n",
       "      <th>2</th>\n",
       "      <td>3</td>\n",
       "      <td>energy granola bars</td>\n",
       "    </tr>\n",
       "    <tr>\n",
       "      <th>3</th>\n",
       "      <td>4</td>\n",
       "      <td>instant foods</td>\n",
       "    </tr>\n",
       "    <tr>\n",
       "      <th>4</th>\n",
       "      <td>5</td>\n",
       "      <td>marinades meat preparation</td>\n",
       "    </tr>\n",
       "  </tbody>\n",
       "</table>\n",
       "</div>"
      ],
      "text/plain": [
       "   aisle_id                       aisle\n",
       "0         1       prepared soups salads\n",
       "1         2           specialty cheeses\n",
       "2         3         energy granola bars\n",
       "3         4               instant foods\n",
       "4         5  marinades meat preparation"
      ]
     },
     "execution_count": 3,
     "metadata": {},
     "output_type": "execute_result"
    }
   ],
   "source": [
    "aisle = pd.read_csv(\"data/aisles.csv\")\n",
    "aisle.head()"
   ]
  },
  {
   "cell_type": "code",
   "execution_count": 4,
   "id": "76b7c45a",
   "metadata": {
    "colab": {
     "base_uri": "https://localhost:8080/",
     "height": 202
    },
    "id": "76b7c45a",
    "outputId": "7fd10a5a-e0ca-4fb8-c4db-ee4f71d03348"
   },
   "outputs": [
    {
     "data": {
      "text/html": [
       "<div>\n",
       "<style scoped>\n",
       "    .dataframe tbody tr th:only-of-type {\n",
       "        vertical-align: middle;\n",
       "    }\n",
       "\n",
       "    .dataframe tbody tr th {\n",
       "        vertical-align: top;\n",
       "    }\n",
       "\n",
       "    .dataframe thead th {\n",
       "        text-align: right;\n",
       "    }\n",
       "</style>\n",
       "<table border=\"1\" class=\"dataframe\">\n",
       "  <thead>\n",
       "    <tr style=\"text-align: right;\">\n",
       "      <th></th>\n",
       "      <th>department_id</th>\n",
       "      <th>department</th>\n",
       "    </tr>\n",
       "  </thead>\n",
       "  <tbody>\n",
       "    <tr>\n",
       "      <th>0</th>\n",
       "      <td>1</td>\n",
       "      <td>frozen</td>\n",
       "    </tr>\n",
       "    <tr>\n",
       "      <th>1</th>\n",
       "      <td>2</td>\n",
       "      <td>other</td>\n",
       "    </tr>\n",
       "    <tr>\n",
       "      <th>2</th>\n",
       "      <td>3</td>\n",
       "      <td>bakery</td>\n",
       "    </tr>\n",
       "    <tr>\n",
       "      <th>3</th>\n",
       "      <td>4</td>\n",
       "      <td>produce</td>\n",
       "    </tr>\n",
       "    <tr>\n",
       "      <th>4</th>\n",
       "      <td>5</td>\n",
       "      <td>alcohol</td>\n",
       "    </tr>\n",
       "  </tbody>\n",
       "</table>\n",
       "</div>"
      ],
      "text/plain": [
       "   department_id department\n",
       "0              1     frozen\n",
       "1              2      other\n",
       "2              3     bakery\n",
       "3              4    produce\n",
       "4              5    alcohol"
      ]
     },
     "execution_count": 4,
     "metadata": {},
     "output_type": "execute_result"
    }
   ],
   "source": [
    "departments = pd.read_csv(\"data/departments.csv\")\n",
    "departments.head()"
   ]
  },
  {
   "cell_type": "code",
   "execution_count": 5,
   "id": "abe758aa",
   "metadata": {
    "colab": {
     "base_uri": "https://localhost:8080/",
     "height": 202
    },
    "id": "abe758aa",
    "outputId": "e92f0c0f-7c1d-47eb-d1ea-12a5ca5356fb"
   },
   "outputs": [
    {
     "data": {
      "text/html": [
       "<div>\n",
       "<style scoped>\n",
       "    .dataframe tbody tr th:only-of-type {\n",
       "        vertical-align: middle;\n",
       "    }\n",
       "\n",
       "    .dataframe tbody tr th {\n",
       "        vertical-align: top;\n",
       "    }\n",
       "\n",
       "    .dataframe thead th {\n",
       "        text-align: right;\n",
       "    }\n",
       "</style>\n",
       "<table border=\"1\" class=\"dataframe\">\n",
       "  <thead>\n",
       "    <tr style=\"text-align: right;\">\n",
       "      <th></th>\n",
       "      <th>order_id</th>\n",
       "      <th>user_id</th>\n",
       "      <th>eval_set</th>\n",
       "      <th>order_number</th>\n",
       "      <th>order_dow</th>\n",
       "      <th>order_hour_of_day</th>\n",
       "      <th>days_since_prior_order</th>\n",
       "    </tr>\n",
       "  </thead>\n",
       "  <tbody>\n",
       "    <tr>\n",
       "      <th>0</th>\n",
       "      <td>2539329</td>\n",
       "      <td>1</td>\n",
       "      <td>prior</td>\n",
       "      <td>1</td>\n",
       "      <td>2</td>\n",
       "      <td>8</td>\n",
       "      <td>NaN</td>\n",
       "    </tr>\n",
       "    <tr>\n",
       "      <th>1</th>\n",
       "      <td>2398795</td>\n",
       "      <td>1</td>\n",
       "      <td>prior</td>\n",
       "      <td>2</td>\n",
       "      <td>3</td>\n",
       "      <td>7</td>\n",
       "      <td>15.0</td>\n",
       "    </tr>\n",
       "    <tr>\n",
       "      <th>2</th>\n",
       "      <td>473747</td>\n",
       "      <td>1</td>\n",
       "      <td>prior</td>\n",
       "      <td>3</td>\n",
       "      <td>3</td>\n",
       "      <td>12</td>\n",
       "      <td>21.0</td>\n",
       "    </tr>\n",
       "    <tr>\n",
       "      <th>3</th>\n",
       "      <td>2254736</td>\n",
       "      <td>1</td>\n",
       "      <td>prior</td>\n",
       "      <td>4</td>\n",
       "      <td>4</td>\n",
       "      <td>7</td>\n",
       "      <td>29.0</td>\n",
       "    </tr>\n",
       "    <tr>\n",
       "      <th>4</th>\n",
       "      <td>431534</td>\n",
       "      <td>1</td>\n",
       "      <td>prior</td>\n",
       "      <td>5</td>\n",
       "      <td>4</td>\n",
       "      <td>15</td>\n",
       "      <td>28.0</td>\n",
       "    </tr>\n",
       "  </tbody>\n",
       "</table>\n",
       "</div>"
      ],
      "text/plain": [
       "   order_id  user_id eval_set  order_number  order_dow  order_hour_of_day  \\\n",
       "0   2539329        1    prior             1          2                  8   \n",
       "1   2398795        1    prior             2          3                  7   \n",
       "2    473747        1    prior             3          3                 12   \n",
       "3   2254736        1    prior             4          4                  7   \n",
       "4    431534        1    prior             5          4                 15   \n",
       "\n",
       "   days_since_prior_order  \n",
       "0                     NaN  \n",
       "1                    15.0  \n",
       "2                    21.0  \n",
       "3                    29.0  \n",
       "4                    28.0  "
      ]
     },
     "execution_count": 5,
     "metadata": {},
     "output_type": "execute_result"
    }
   ],
   "source": [
    "orders = pd.read_csv(\"data/orders.csv\")\n",
    "orders.head()"
   ]
  },
  {
   "cell_type": "code",
   "execution_count": 6,
   "id": "M-uQhYv77joU",
   "metadata": {
    "colab": {
     "base_uri": "https://localhost:8080/",
     "height": 202
    },
    "id": "M-uQhYv77joU",
    "outputId": "ad793568-c874-44f0-ddad-9895b0a4d5e5"
   },
   "outputs": [
    {
     "data": {
      "text/html": [
       "<div>\n",
       "<style scoped>\n",
       "    .dataframe tbody tr th:only-of-type {\n",
       "        vertical-align: middle;\n",
       "    }\n",
       "\n",
       "    .dataframe tbody tr th {\n",
       "        vertical-align: top;\n",
       "    }\n",
       "\n",
       "    .dataframe thead th {\n",
       "        text-align: right;\n",
       "    }\n",
       "</style>\n",
       "<table border=\"1\" class=\"dataframe\">\n",
       "  <thead>\n",
       "    <tr style=\"text-align: right;\">\n",
       "      <th></th>\n",
       "      <th>product_id</th>\n",
       "      <th>product_name</th>\n",
       "      <th>aisle_id</th>\n",
       "      <th>department_id</th>\n",
       "    </tr>\n",
       "  </thead>\n",
       "  <tbody>\n",
       "    <tr>\n",
       "      <th>0</th>\n",
       "      <td>1</td>\n",
       "      <td>Chocolate Sandwich Cookies</td>\n",
       "      <td>61</td>\n",
       "      <td>19</td>\n",
       "    </tr>\n",
       "    <tr>\n",
       "      <th>1</th>\n",
       "      <td>2</td>\n",
       "      <td>All-Seasons Salt</td>\n",
       "      <td>104</td>\n",
       "      <td>13</td>\n",
       "    </tr>\n",
       "    <tr>\n",
       "      <th>2</th>\n",
       "      <td>3</td>\n",
       "      <td>Robust Golden Unsweetened Oolong Tea</td>\n",
       "      <td>94</td>\n",
       "      <td>7</td>\n",
       "    </tr>\n",
       "    <tr>\n",
       "      <th>3</th>\n",
       "      <td>4</td>\n",
       "      <td>Smart Ones Classic Favorites Mini Rigatoni Wit...</td>\n",
       "      <td>38</td>\n",
       "      <td>1</td>\n",
       "    </tr>\n",
       "    <tr>\n",
       "      <th>4</th>\n",
       "      <td>5</td>\n",
       "      <td>Green Chile Anytime Sauce</td>\n",
       "      <td>5</td>\n",
       "      <td>13</td>\n",
       "    </tr>\n",
       "  </tbody>\n",
       "</table>\n",
       "</div>"
      ],
      "text/plain": [
       "   product_id                                       product_name  aisle_id  \\\n",
       "0           1                         Chocolate Sandwich Cookies        61   \n",
       "1           2                                   All-Seasons Salt       104   \n",
       "2           3               Robust Golden Unsweetened Oolong Tea        94   \n",
       "3           4  Smart Ones Classic Favorites Mini Rigatoni Wit...        38   \n",
       "4           5                          Green Chile Anytime Sauce         5   \n",
       "\n",
       "   department_id  \n",
       "0             19  \n",
       "1             13  \n",
       "2              7  \n",
       "3              1  \n",
       "4             13  "
      ]
     },
     "execution_count": 6,
     "metadata": {},
     "output_type": "execute_result"
    }
   ],
   "source": [
    "products = pd.read_csv(\"data/products.csv\")\n",
    "products.head()"
   ]
  },
  {
   "cell_type": "code",
   "execution_count": 7,
   "id": "go-Gga3f_FKS",
   "metadata": {
    "colab": {
     "base_uri": "https://localhost:8080/",
     "height": 202
    },
    "id": "go-Gga3f_FKS",
    "outputId": "f10f92a5-d57f-4799-8c9f-04a6b3db1d2f"
   },
   "outputs": [
    {
     "data": {
      "text/html": [
       "<div>\n",
       "<style scoped>\n",
       "    .dataframe tbody tr th:only-of-type {\n",
       "        vertical-align: middle;\n",
       "    }\n",
       "\n",
       "    .dataframe tbody tr th {\n",
       "        vertical-align: top;\n",
       "    }\n",
       "\n",
       "    .dataframe thead th {\n",
       "        text-align: right;\n",
       "    }\n",
       "</style>\n",
       "<table border=\"1\" class=\"dataframe\">\n",
       "  <thead>\n",
       "    <tr style=\"text-align: right;\">\n",
       "      <th></th>\n",
       "      <th>order_id</th>\n",
       "      <th>product_id</th>\n",
       "      <th>add_to_cart_order</th>\n",
       "      <th>reordered</th>\n",
       "    </tr>\n",
       "  </thead>\n",
       "  <tbody>\n",
       "    <tr>\n",
       "      <th>0</th>\n",
       "      <td>2</td>\n",
       "      <td>33120</td>\n",
       "      <td>1</td>\n",
       "      <td>1</td>\n",
       "    </tr>\n",
       "    <tr>\n",
       "      <th>1</th>\n",
       "      <td>2</td>\n",
       "      <td>28985</td>\n",
       "      <td>2</td>\n",
       "      <td>1</td>\n",
       "    </tr>\n",
       "    <tr>\n",
       "      <th>2</th>\n",
       "      <td>2</td>\n",
       "      <td>9327</td>\n",
       "      <td>3</td>\n",
       "      <td>0</td>\n",
       "    </tr>\n",
       "    <tr>\n",
       "      <th>3</th>\n",
       "      <td>2</td>\n",
       "      <td>45918</td>\n",
       "      <td>4</td>\n",
       "      <td>1</td>\n",
       "    </tr>\n",
       "    <tr>\n",
       "      <th>4</th>\n",
       "      <td>2</td>\n",
       "      <td>30035</td>\n",
       "      <td>5</td>\n",
       "      <td>0</td>\n",
       "    </tr>\n",
       "  </tbody>\n",
       "</table>\n",
       "</div>"
      ],
      "text/plain": [
       "   order_id  product_id  add_to_cart_order  reordered\n",
       "0         2       33120                  1          1\n",
       "1         2       28985                  2          1\n",
       "2         2        9327                  3          0\n",
       "3         2       45918                  4          1\n",
       "4         2       30035                  5          0"
      ]
     },
     "execution_count": 7,
     "metadata": {},
     "output_type": "execute_result"
    }
   ],
   "source": [
    "order_products_prior = pd.read_csv(\"data/order_products__prior.csv\")\n",
    "order_products_prior.head()"
   ]
  },
  {
   "cell_type": "code",
   "execution_count": 8,
   "id": "wryN9xcV_KJj",
   "metadata": {
    "colab": {
     "base_uri": "https://localhost:8080/",
     "height": 202
    },
    "id": "wryN9xcV_KJj",
    "outputId": "2c9c9933-e2d8-4bf7-e563-bba58f44ae87"
   },
   "outputs": [
    {
     "data": {
      "text/html": [
       "<div>\n",
       "<style scoped>\n",
       "    .dataframe tbody tr th:only-of-type {\n",
       "        vertical-align: middle;\n",
       "    }\n",
       "\n",
       "    .dataframe tbody tr th {\n",
       "        vertical-align: top;\n",
       "    }\n",
       "\n",
       "    .dataframe thead th {\n",
       "        text-align: right;\n",
       "    }\n",
       "</style>\n",
       "<table border=\"1\" class=\"dataframe\">\n",
       "  <thead>\n",
       "    <tr style=\"text-align: right;\">\n",
       "      <th></th>\n",
       "      <th>order_id</th>\n",
       "      <th>product_id</th>\n",
       "      <th>add_to_cart_order</th>\n",
       "      <th>reordered</th>\n",
       "    </tr>\n",
       "  </thead>\n",
       "  <tbody>\n",
       "    <tr>\n",
       "      <th>0</th>\n",
       "      <td>1</td>\n",
       "      <td>49302</td>\n",
       "      <td>1</td>\n",
       "      <td>1</td>\n",
       "    </tr>\n",
       "    <tr>\n",
       "      <th>1</th>\n",
       "      <td>1</td>\n",
       "      <td>11109</td>\n",
       "      <td>2</td>\n",
       "      <td>1</td>\n",
       "    </tr>\n",
       "    <tr>\n",
       "      <th>2</th>\n",
       "      <td>1</td>\n",
       "      <td>10246</td>\n",
       "      <td>3</td>\n",
       "      <td>0</td>\n",
       "    </tr>\n",
       "    <tr>\n",
       "      <th>3</th>\n",
       "      <td>1</td>\n",
       "      <td>49683</td>\n",
       "      <td>4</td>\n",
       "      <td>0</td>\n",
       "    </tr>\n",
       "    <tr>\n",
       "      <th>4</th>\n",
       "      <td>1</td>\n",
       "      <td>43633</td>\n",
       "      <td>5</td>\n",
       "      <td>1</td>\n",
       "    </tr>\n",
       "  </tbody>\n",
       "</table>\n",
       "</div>"
      ],
      "text/plain": [
       "   order_id  product_id  add_to_cart_order  reordered\n",
       "0         1       49302                  1          1\n",
       "1         1       11109                  2          1\n",
       "2         1       10246                  3          0\n",
       "3         1       49683                  4          0\n",
       "4         1       43633                  5          1"
      ]
     },
     "execution_count": 8,
     "metadata": {},
     "output_type": "execute_result"
    }
   ],
   "source": [
    "order_products_train = pd.read_csv(\"data/order_products__train.csv\")\n",
    "order_products_train.head()"
   ]
  },
  {
   "cell_type": "code",
   "execution_count": 9,
   "id": "OMRxG2s0M-PU",
   "metadata": {
    "colab": {
     "base_uri": "https://localhost:8080/",
     "height": 202
    },
    "id": "OMRxG2s0M-PU",
    "outputId": "42f52e9b-2f53-4161-ce46-9e8543e81411"
   },
   "outputs": [
    {
     "data": {
      "text/html": [
       "<div>\n",
       "<style scoped>\n",
       "    .dataframe tbody tr th:only-of-type {\n",
       "        vertical-align: middle;\n",
       "    }\n",
       "\n",
       "    .dataframe tbody tr th {\n",
       "        vertical-align: top;\n",
       "    }\n",
       "\n",
       "    .dataframe thead th {\n",
       "        text-align: right;\n",
       "    }\n",
       "</style>\n",
       "<table border=\"1\" class=\"dataframe\">\n",
       "  <thead>\n",
       "    <tr style=\"text-align: right;\">\n",
       "      <th></th>\n",
       "      <th>order_id</th>\n",
       "      <th>product_id</th>\n",
       "      <th>add_to_cart_order</th>\n",
       "      <th>reordered</th>\n",
       "    </tr>\n",
       "  </thead>\n",
       "  <tbody>\n",
       "    <tr>\n",
       "      <th>0</th>\n",
       "      <td>2</td>\n",
       "      <td>33120</td>\n",
       "      <td>1</td>\n",
       "      <td>1</td>\n",
       "    </tr>\n",
       "    <tr>\n",
       "      <th>1</th>\n",
       "      <td>2</td>\n",
       "      <td>28985</td>\n",
       "      <td>2</td>\n",
       "      <td>1</td>\n",
       "    </tr>\n",
       "    <tr>\n",
       "      <th>2</th>\n",
       "      <td>2</td>\n",
       "      <td>9327</td>\n",
       "      <td>3</td>\n",
       "      <td>0</td>\n",
       "    </tr>\n",
       "    <tr>\n",
       "      <th>3</th>\n",
       "      <td>2</td>\n",
       "      <td>45918</td>\n",
       "      <td>4</td>\n",
       "      <td>1</td>\n",
       "    </tr>\n",
       "    <tr>\n",
       "      <th>4</th>\n",
       "      <td>2</td>\n",
       "      <td>30035</td>\n",
       "      <td>5</td>\n",
       "      <td>0</td>\n",
       "    </tr>\n",
       "  </tbody>\n",
       "</table>\n",
       "</div>"
      ],
      "text/plain": [
       "   order_id  product_id  add_to_cart_order  reordered\n",
       "0         2       33120                  1          1\n",
       "1         2       28985                  2          1\n",
       "2         2        9327                  3          0\n",
       "3         2       45918                  4          1\n",
       "4         2       30035                  5          0"
      ]
     },
     "execution_count": 9,
     "metadata": {},
     "output_type": "execute_result"
    }
   ],
   "source": [
    "order_products = pd.concat([order_products_prior, order_products_train])\n",
    "\n",
    "order_products.head()"
   ]
  },
  {
   "cell_type": "code",
   "execution_count": 10,
   "id": "stupid-cleanup",
   "metadata": {},
   "outputs": [],
   "source": [
    "orders = pd.read_csv(\"data/orders.csv\")\n",
    "\n",
    "orders_test = orders[orders['eval_set'] == 'test']"
   ]
  },
  {
   "cell_type": "code",
   "execution_count": 11,
   "id": "gentle-killing",
   "metadata": {},
   "outputs": [
    {
     "data": {
      "text/html": [
       "<div>\n",
       "<style scoped>\n",
       "    .dataframe tbody tr th:only-of-type {\n",
       "        vertical-align: middle;\n",
       "    }\n",
       "\n",
       "    .dataframe tbody tr th {\n",
       "        vertical-align: top;\n",
       "    }\n",
       "\n",
       "    .dataframe thead th {\n",
       "        text-align: right;\n",
       "    }\n",
       "</style>\n",
       "<table border=\"1\" class=\"dataframe\">\n",
       "  <thead>\n",
       "    <tr style=\"text-align: right;\">\n",
       "      <th></th>\n",
       "      <th>order_id</th>\n",
       "      <th>user_id</th>\n",
       "      <th>eval_set</th>\n",
       "      <th>order_number</th>\n",
       "      <th>order_dow</th>\n",
       "      <th>order_hour_of_day</th>\n",
       "      <th>days_since_prior_order</th>\n",
       "      <th>product_id</th>\n",
       "      <th>add_to_cart_order</th>\n",
       "      <th>reordered</th>\n",
       "    </tr>\n",
       "  </thead>\n",
       "  <tbody>\n",
       "    <tr>\n",
       "      <th>0</th>\n",
       "      <td>2539329</td>\n",
       "      <td>1</td>\n",
       "      <td>prior</td>\n",
       "      <td>1</td>\n",
       "      <td>2</td>\n",
       "      <td>8</td>\n",
       "      <td>NaN</td>\n",
       "      <td>196</td>\n",
       "      <td>1</td>\n",
       "      <td>0</td>\n",
       "    </tr>\n",
       "    <tr>\n",
       "      <th>1</th>\n",
       "      <td>2539329</td>\n",
       "      <td>1</td>\n",
       "      <td>prior</td>\n",
       "      <td>1</td>\n",
       "      <td>2</td>\n",
       "      <td>8</td>\n",
       "      <td>NaN</td>\n",
       "      <td>14084</td>\n",
       "      <td>2</td>\n",
       "      <td>0</td>\n",
       "    </tr>\n",
       "    <tr>\n",
       "      <th>2</th>\n",
       "      <td>2539329</td>\n",
       "      <td>1</td>\n",
       "      <td>prior</td>\n",
       "      <td>1</td>\n",
       "      <td>2</td>\n",
       "      <td>8</td>\n",
       "      <td>NaN</td>\n",
       "      <td>12427</td>\n",
       "      <td>3</td>\n",
       "      <td>0</td>\n",
       "    </tr>\n",
       "    <tr>\n",
       "      <th>3</th>\n",
       "      <td>2539329</td>\n",
       "      <td>1</td>\n",
       "      <td>prior</td>\n",
       "      <td>1</td>\n",
       "      <td>2</td>\n",
       "      <td>8</td>\n",
       "      <td>NaN</td>\n",
       "      <td>26088</td>\n",
       "      <td>4</td>\n",
       "      <td>0</td>\n",
       "    </tr>\n",
       "    <tr>\n",
       "      <th>4</th>\n",
       "      <td>2539329</td>\n",
       "      <td>1</td>\n",
       "      <td>prior</td>\n",
       "      <td>1</td>\n",
       "      <td>2</td>\n",
       "      <td>8</td>\n",
       "      <td>NaN</td>\n",
       "      <td>26405</td>\n",
       "      <td>5</td>\n",
       "      <td>0</td>\n",
       "    </tr>\n",
       "  </tbody>\n",
       "</table>\n",
       "</div>"
      ],
      "text/plain": [
       "   order_id  user_id eval_set  order_number  order_dow  order_hour_of_day  \\\n",
       "0   2539329        1    prior             1          2                  8   \n",
       "1   2539329        1    prior             1          2                  8   \n",
       "2   2539329        1    prior             1          2                  8   \n",
       "3   2539329        1    prior             1          2                  8   \n",
       "4   2539329        1    prior             1          2                  8   \n",
       "\n",
       "   days_since_prior_order  product_id  add_to_cart_order  reordered  \n",
       "0                     NaN         196                  1          0  \n",
       "1                     NaN       14084                  2          0  \n",
       "2                     NaN       12427                  3          0  \n",
       "3                     NaN       26088                  4          0  \n",
       "4                     NaN       26405                  5          0  "
      ]
     },
     "execution_count": 11,
     "metadata": {},
     "output_type": "execute_result"
    }
   ],
   "source": [
    "df = pd.merge(orders, order_products, on='order_id')\n",
    "df.head()"
   ]
  },
  {
   "cell_type": "code",
   "execution_count": 12,
   "id": "offshore-organization",
   "metadata": {},
   "outputs": [
    {
     "data": {
      "text/html": [
       "<div>\n",
       "<style scoped>\n",
       "    .dataframe tbody tr th:only-of-type {\n",
       "        vertical-align: middle;\n",
       "    }\n",
       "\n",
       "    .dataframe tbody tr th {\n",
       "        vertical-align: top;\n",
       "    }\n",
       "\n",
       "    .dataframe thead th {\n",
       "        text-align: right;\n",
       "    }\n",
       "</style>\n",
       "<table border=\"1\" class=\"dataframe\">\n",
       "  <thead>\n",
       "    <tr style=\"text-align: right;\">\n",
       "      <th></th>\n",
       "      <th>order_id</th>\n",
       "      <th>user_id</th>\n",
       "      <th>eval_set</th>\n",
       "      <th>order_number</th>\n",
       "      <th>order_dow</th>\n",
       "      <th>order_hour_of_day</th>\n",
       "      <th>days_since_prior_order</th>\n",
       "      <th>product_id</th>\n",
       "      <th>add_to_cart_order</th>\n",
       "      <th>reordered</th>\n",
       "      <th>product_name</th>\n",
       "      <th>aisle_id</th>\n",
       "      <th>department_id</th>\n",
       "      <th>aisle</th>\n",
       "      <th>department</th>\n",
       "    </tr>\n",
       "  </thead>\n",
       "  <tbody>\n",
       "    <tr>\n",
       "      <th>0</th>\n",
       "      <td>2539329</td>\n",
       "      <td>1</td>\n",
       "      <td>prior</td>\n",
       "      <td>1</td>\n",
       "      <td>2</td>\n",
       "      <td>8</td>\n",
       "      <td>NaN</td>\n",
       "      <td>196</td>\n",
       "      <td>1</td>\n",
       "      <td>0</td>\n",
       "      <td>Soda</td>\n",
       "      <td>77</td>\n",
       "      <td>7</td>\n",
       "      <td>soft drinks</td>\n",
       "      <td>beverages</td>\n",
       "    </tr>\n",
       "    <tr>\n",
       "      <th>1</th>\n",
       "      <td>2398795</td>\n",
       "      <td>1</td>\n",
       "      <td>prior</td>\n",
       "      <td>2</td>\n",
       "      <td>3</td>\n",
       "      <td>7</td>\n",
       "      <td>15.0</td>\n",
       "      <td>196</td>\n",
       "      <td>1</td>\n",
       "      <td>1</td>\n",
       "      <td>Soda</td>\n",
       "      <td>77</td>\n",
       "      <td>7</td>\n",
       "      <td>soft drinks</td>\n",
       "      <td>beverages</td>\n",
       "    </tr>\n",
       "    <tr>\n",
       "      <th>2</th>\n",
       "      <td>473747</td>\n",
       "      <td>1</td>\n",
       "      <td>prior</td>\n",
       "      <td>3</td>\n",
       "      <td>3</td>\n",
       "      <td>12</td>\n",
       "      <td>21.0</td>\n",
       "      <td>196</td>\n",
       "      <td>1</td>\n",
       "      <td>1</td>\n",
       "      <td>Soda</td>\n",
       "      <td>77</td>\n",
       "      <td>7</td>\n",
       "      <td>soft drinks</td>\n",
       "      <td>beverages</td>\n",
       "    </tr>\n",
       "    <tr>\n",
       "      <th>3</th>\n",
       "      <td>2254736</td>\n",
       "      <td>1</td>\n",
       "      <td>prior</td>\n",
       "      <td>4</td>\n",
       "      <td>4</td>\n",
       "      <td>7</td>\n",
       "      <td>29.0</td>\n",
       "      <td>196</td>\n",
       "      <td>1</td>\n",
       "      <td>1</td>\n",
       "      <td>Soda</td>\n",
       "      <td>77</td>\n",
       "      <td>7</td>\n",
       "      <td>soft drinks</td>\n",
       "      <td>beverages</td>\n",
       "    </tr>\n",
       "    <tr>\n",
       "      <th>4</th>\n",
       "      <td>431534</td>\n",
       "      <td>1</td>\n",
       "      <td>prior</td>\n",
       "      <td>5</td>\n",
       "      <td>4</td>\n",
       "      <td>15</td>\n",
       "      <td>28.0</td>\n",
       "      <td>196</td>\n",
       "      <td>1</td>\n",
       "      <td>1</td>\n",
       "      <td>Soda</td>\n",
       "      <td>77</td>\n",
       "      <td>7</td>\n",
       "      <td>soft drinks</td>\n",
       "      <td>beverages</td>\n",
       "    </tr>\n",
       "  </tbody>\n",
       "</table>\n",
       "</div>"
      ],
      "text/plain": [
       "   order_id  user_id eval_set  order_number  order_dow  order_hour_of_day  \\\n",
       "0   2539329        1    prior             1          2                  8   \n",
       "1   2398795        1    prior             2          3                  7   \n",
       "2    473747        1    prior             3          3                 12   \n",
       "3   2254736        1    prior             4          4                  7   \n",
       "4    431534        1    prior             5          4                 15   \n",
       "\n",
       "   days_since_prior_order  product_id  add_to_cart_order  reordered  \\\n",
       "0                     NaN         196                  1          0   \n",
       "1                    15.0         196                  1          1   \n",
       "2                    21.0         196                  1          1   \n",
       "3                    29.0         196                  1          1   \n",
       "4                    28.0         196                  1          1   \n",
       "\n",
       "  product_name  aisle_id  department_id        aisle department  \n",
       "0         Soda        77              7  soft drinks  beverages  \n",
       "1         Soda        77              7  soft drinks  beverages  \n",
       "2         Soda        77              7  soft drinks  beverages  \n",
       "3         Soda        77              7  soft drinks  beverages  \n",
       "4         Soda        77              7  soft drinks  beverages  "
      ]
     },
     "execution_count": 12,
     "metadata": {},
     "output_type": "execute_result"
    }
   ],
   "source": [
    "products = pd.read_csv(\"data/products.csv\")\n",
    "\n",
    "combined_data = pd.merge(df, products, on='product_id')\n",
    "combined_data = pd.merge(combined_data, aisle, on='aisle_id')\n",
    "combined_data = pd.merge(combined_data, departments, on='department_id')\n",
    "combined_data.head()"
   ]
  },
  {
   "cell_type": "markdown",
   "id": "least-topic",
   "metadata": {},
   "source": [
    "# EDA"
   ]
  },
  {
   "cell_type": "markdown",
   "id": "limited-likelihood",
   "metadata": {},
   "source": [
    "Plot product counts by department"
   ]
  },
  {
   "cell_type": "code",
   "execution_count": 13,
   "id": "worth-bankruptcy",
   "metadata": {},
   "outputs": [
    {
     "data": {
      "text/plain": [
       "<AxesSubplot:>"
      ]
     },
     "execution_count": 13,
     "metadata": {},
     "output_type": "execute_result"
    },
    {
     "data": {
      "image/png": "[encoded data removed]",
      "text/plain": [
       "<Figure size 1080x432 with 1 Axes>"
      ]
     },
     "metadata": {
      "needs_background": "light"
     },
     "output_type": "display_data"
    }
   ],
   "source": [
    "product_by_dept = pd.merge(left=products, right=departments, on='department_id')\n",
    "\n",
    "plt.figure(figsize=(15,6))\n",
    "\n",
    "product_by_dept['department'].value_counts().sort_values(ascending=True).plot(kind='barh',color='red')"
   ]
  },
  {
   "cell_type": "code",
   "execution_count": 14,
   "id": "classified-strengthening",
   "metadata": {},
   "outputs": [
    {
     "name": "stdout",
     "output_type": "stream",
     "text": [
      "There are 1581702 words in the combination of all Product Name.\n"
     ]
    },
    {
     "data": {
      "image/png": "[encoded data removed]",
      "text/plain": [
       "<Figure size 432x288 with 1 Axes>"
      ]
     },
     "metadata": {
      "needs_background": "light"
     },
     "output_type": "display_data"
    }
   ],
   "source": [
    "#making of word cloud from Product name column\n",
    "text = \" \".join(topic for topic in product_by_dept.product_name.astype(str))\n",
    "print (\"There are {} words in the combination of all Product Name.\".format(len(text)))\n",
    "\n",
    "# Create and generate a word cloud image:\n",
    "wordcloud = WordCloud(background_color=\"white\", width=800, height=400).generate(text)\n",
    "\n",
    "plt.axis(\"off\")\n",
    "plt.rcParams[\"figure.figsize\"] = (15,6)\n",
    "plt.tight_layout(pad=0)\n",
    "plt.imshow(wordcloud, interpolation='bilinear')\n",
    "plt.show()"
   ]
  },
  {
   "cell_type": "code",
   "execution_count": 15,
   "id": "aAKT45WoNZQo",
   "metadata": {
    "id": "aAKT45WoNZQo"
   },
   "outputs": [
    {
     "data": {
      "text/plain": [
       "<AxesSubplot:xlabel='reordered', ylabel='count'>"
      ]
     },
     "execution_count": 15,
     "metadata": {},
     "output_type": "execute_result"
    },
    {
     "data": {
      "image/png": "[encoded data removed]",
      "text/plain": [
       "<Figure size 576x360 with 1 Axes>"
      ]
     },
     "metadata": {
      "needs_background": "light"
     },
     "output_type": "display_data"
    }
   ],
   "source": [
    "plt.figure(figsize=(8,5))\n",
    "sns.countplot(x='reordered',data=combined_data)"
   ]
  },
  {
   "cell_type": "code",
   "execution_count": 16,
   "id": "annoying-selling",
   "metadata": {},
   "outputs": [],
   "source": [
    "combined_data['days_since_prior_order'].dropna(inplace= True)"
   ]
  },
  {
   "cell_type": "code",
   "execution_count": 17,
   "id": "aging-survey",
   "metadata": {},
   "outputs": [
    {
     "data": {
      "text/plain": [
       "<AxesSubplot:>"
      ]
     },
     "execution_count": 17,
     "metadata": {},
     "output_type": "execute_result"
    },
    {
     "data": {
      "image/png": "[encoded data removed]",
      "text/plain": [
       "<Figure size 1080x432 with 1 Axes>"
      ]
     },
     "metadata": {
      "needs_background": "light"
     },
     "output_type": "display_data"
    }
   ],
   "source": [
    "combined_data['days_since_prior_order'].value_counts().sort_values(ascending= False).plot(kind='bar',color='teal')"
   ]
  },
  {
   "cell_type": "markdown",
   "id": "viral-concord",
   "metadata": {},
   "source": [
    "Plotting what percentage in an order is reorder and how much does it occupy in total order"
   ]
  },
  {
   "cell_type": "code",
   "execution_count": 18,
   "id": "aggressive-adrian",
   "metadata": {},
   "outputs": [
    {
     "data": {
      "application/vnd.plotly.v1+json": {
       "config": {
        "linkText": "Export to plot.ly",
        "plotlyServerURL": "https://plot.ly",
        "showLink": true
       },
       "data": [
        {
         "marker": {
          "color": "rgba(255, 153, 51, 0.6)",
          "line": {
           "color": "rgba(255, 153, 51, 1.0)",
           "width": 1
          }
         },
         "name": "reordered",
         "orientation": "v",
         "text": "",
         "type": "bar",
         "x": [
          100,
          0,
          50,
          66.66666666666666,
          75
         ],
         "y": [
          0.2149399760854707,
          0.11868055873091014,
          0.05878186524362964,
          0.04251956690853156,
          0.03168540648872129
         ]
        }
       ],
       "layout": {
        "legend": {
         "bgcolor": "#F5F6F9",
         "font": {
          "color": "#4D5663"
         }
        },
        "paper_bgcolor": "#F5F6F9",
        "plot_bgcolor": "#F5F6F9",
        "template": {
         "data": {
          "bar": [
           {
            "error_x": {
             "color": "#2a3f5f"
            },
            "error_y": {
             "color": "#2a3f5f"
            },
            "marker": {
             "line": {
              "color": "#E5ECF6",
              "width": 0.5
             },
             "pattern": {
              "fillmode": "overlay",
              "size": 10,
              "solidity": 0.2
             }
            },
            "type": "bar"
           }
          ],
          "barpolar": [
           {
            "marker": {
             "line": {
              "color": "#E5ECF6",
              "width": 0.5
             },
             "pattern": {
              "fillmode": "overlay",
              "size": 10,
              "solidity": 0.2
             }
            },
            "type": "barpolar"
           }
          ],
          "carpet": [
           {
            "aaxis": {
             "endlinecolor": "#2a3f5f",
             "gridcolor": "white",
             "linecolor": "white",
             "minorgridcolor": "white",
             "startlinecolor": "#2a3f5f"
            },
            "baxis": {
             "endlinecolor": "#2a3f5f",
             "gridcolor": "white",
             "linecolor": "white",
             "minorgridcolor": "white",
             "startlinecolor": "#2a3f5f"
            },
            "type": "carpet"
           }
          ],
          "choropleth": [
           {
            "colorbar": {
             "outlinewidth": 0,
             "ticks": ""
            },
            "type": "choropleth"
           }
          ],
          "contour": [
           {
            "colorbar": {
             "outlinewidth": 0,
             "ticks": ""
            },
            "colorscale": [
             [
              0,
              "#0d0887"
             ],
             [
              0.1111111111111111,
              "#46039f"
             ],
             [
              0.2222222222222222,
              "#7201a8"
             ],
             [
              0.3333333333333333,
              "#9c179e"
             ],
             [
              0.4444444444444444,
              "#bd3786"
             ],
             [
              0.5555555555555556,
              "#d8576b"
             ],
             [
              0.6666666666666666,
              "#ed7953"
             ],
             [
              0.7777777777777778,
              "#fb9f3a"
             ],
             [
              0.8888888888888888,
              "#fdca26"
             ],
             [
              1,
              "#f0f921"
             ]
            ],
            "type": "contour"
           }
          ],
          "contourcarpet": [
           {
            "colorbar": {
             "outlinewidth": 0,
             "ticks": ""
            },
            "type": "contourcarpet"
           }
          ],
          "heatmap": [
           {
            "colorbar": {
             "outlinewidth": 0,
             "ticks": ""
            },
            "colorscale": [
             [
              0,
              "#0d0887"
             ],
             [
              0.1111111111111111,
              "#46039f"
             ],
             [
              0.2222222222222222,
              "#7201a8"
             ],
             [
              0.3333333333333333,
              "#9c179e"
             ],
             [
              0.4444444444444444,
              "#bd3786"
             ],
             [
              0.5555555555555556,
              "#d8576b"
             ],
             [
              0.6666666666666666,
              "#ed7953"
             ],
             [
              0.7777777777777778,
              "#fb9f3a"
             ],
             [
              0.8888888888888888,
              "#fdca26"
             ],
             [
              1,
              "#f0f921"
             ]
            ],
            "type": "heatmap"
           }
          ],
          "heatmapgl": [
           {
            "colorbar": {
             "outlinewidth": 0,
             "ticks": ""
            },
            "colorscale": [
             [
              0,
              "#0d0887"
             ],
             [
              0.1111111111111111,
              "#46039f"
             ],
             [
              0.2222222222222222,
              "#7201a8"
             ],
             [
              0.3333333333333333,
              "#9c179e"
             ],
             [
              0.4444444444444444,
              "#bd3786"
             ],
             [
              0.5555555555555556,
              "#d8576b"
             ],
             [
              0.6666666666666666,
              "#ed7953"
             ],
             [
              0.7777777777777778,
              "#fb9f3a"
             ],
             [
              0.8888888888888888,
              "#fdca26"
             ],
             [
              1,
              "#f0f921"
             ]
            ],
            "type": "heatmapgl"
           }
          ],
          "histogram": [
           {
            "marker": {
             "pattern": {
              "fillmode": "overlay",
              "size": 10,
              "solidity": 0.2
             }
            },
            "type": "histogram"
           }
          ],
          "histogram2d": [
           {
            "colorbar": {
             "outlinewidth": 0,
             "ticks": ""
            },
            "colorscale": [
             [
              0,
              "#0d0887"
             ],
             [
              0.1111111111111111,
              "#46039f"
             ],
             [
              0.2222222222222222,
              "#7201a8"
             ],
             [
              0.3333333333333333,
              "#9c179e"
             ],
             [
              0.4444444444444444,
              "#bd3786"
             ],
             [
              0.5555555555555556,
              "#d8576b"
             ],
             [
              0.6666666666666666,
              "#ed7953"
             ],
             [
              0.7777777777777778,
              "#fb9f3a"
             ],
             [
              0.8888888888888888,
              "#fdca26"
             ],
             [
              1,
              "#f0f921"
             ]
            ],
            "type": "histogram2d"
           }
          ],
          "histogram2dcontour": [
           {
            "colorbar": {
             "outlinewidth": 0,
             "ticks": ""
            },
            "colorscale": [
             [
              0,
              "#0d0887"
             ],
             [
              0.1111111111111111,
              "#46039f"
             ],
             [
              0.2222222222222222,
              "#7201a8"
             ],
             [
              0.3333333333333333,
              "#9c179e"
             ],
             [
              0.4444444444444444,
              "#bd3786"
             ],
             [
              0.5555555555555556,
              "#d8576b"
             ],
             [
              0.6666666666666666,
              "#ed7953"
             ],
             [
              0.7777777777777778,
              "#fb9f3a"
             ],
             [
              0.8888888888888888,
              "#fdca26"
             ],
             [
              1,
              "#f0f921"
             ]
            ],
            "type": "histogram2dcontour"
           }
          ],
          "mesh3d": [
           {
            "colorbar": {
             "outlinewidth": 0,
             "ticks": ""
            },
            "type": "mesh3d"
           }
          ],
          "parcoords": [
           {
            "line": {
             "colorbar": {
              "outlinewidth": 0,
              "ticks": ""
             }
            },
            "type": "parcoords"
           }
          ],
          "pie": [
           {
            "automargin": true,
            "type": "pie"
           }
          ],
          "scatter": [
           {
            "marker": {
             "colorbar": {
              "outlinewidth": 0,
              "ticks": ""
             }
            },
            "type": "scatter"
           }
          ],
          "scatter3d": [
           {
            "line": {
             "colorbar": {
              "outlinewidth": 0,
              "ticks": ""
             }
            },
            "marker": {
             "colorbar": {
              "outlinewidth": 0,
              "ticks": ""
             }
            },
            "type": "scatter3d"
           }
          ],
          "scattercarpet": [
           {
            "marker": {
             "colorbar": {
              "outlinewidth": 0,
              "ticks": ""
             }
            },
            "type": "scattercarpet"
           }
          ],
          "scattergeo": [
           {
            "marker": {
             "colorbar": {
              "outlinewidth": 0,
              "ticks": ""
             }
            },
            "type": "scattergeo"
           }
          ],
          "scattergl": [
           {
            "marker": {
             "colorbar": {
              "outlinewidth": 0,
              "ticks": ""
             }
            },
            "type": "scattergl"
           }
          ],
          "scattermapbox": [
           {
            "marker": {
             "colorbar": {
              "outlinewidth": 0,
              "ticks": ""
             }
            },
            "type": "scattermapbox"
           }
          ],
          "scatterpolar": [
           {
            "marker": {
             "colorbar": {
              "outlinewidth": 0,
              "ticks": ""
             }
            },
            "type": "scatterpolar"
           }
          ],
          "scatterpolargl": [
           {
            "marker": {
             "colorbar": {
              "outlinewidth": 0,
              "ticks": ""
             }
            },
            "type": "scatterpolargl"
           }
          ],
          "scatterternary": [
           {
            "marker": {
             "colorbar": {
              "outlinewidth": 0,
              "ticks": ""
             }
            },
            "type": "scatterternary"
           }
          ],
          "surface": [
           {
            "colorbar": {
             "outlinewidth": 0,
             "ticks": ""
            },
            "colorscale": [
             [
              0,
              "#0d0887"
             ],
             [
              0.1111111111111111,
              "#46039f"
             ],
             [
              0.2222222222222222,
              "#7201a8"
             ],
             [
              0.3333333333333333,
              "#9c179e"
             ],
             [
              0.4444444444444444,
              "#bd3786"
             ],
             [
              0.5555555555555556,
              "#d8576b"
             ],
             [
              0.6666666666666666,
              "#ed7953"
             ],
             [
              0.7777777777777778,
              "#fb9f3a"
             ],
             [
              0.8888888888888888,
              "#fdca26"
             ],
             [
              1,
              "#f0f921"
             ]
            ],
            "type": "surface"
           }
          ],
          "table": [
           {
            "cells": {
             "fill": {
              "color": "#EBF0F8"
             },
             "line": {
              "color": "white"
             }
            },
            "header": {
             "fill": {
              "color": "#C8D4E3"
             },
             "line": {
              "color": "white"
             }
            },
            "type": "table"
           }
          ]
         },
         "layout": {
          "annotationdefaults": {
           "arrowcolor": "#2a3f5f",
           "arrowhead": 0,
           "arrowwidth": 1
          },
          "autotypenumbers": "strict",
          "coloraxis": {
           "colorbar": {
            "outlinewidth": 0,
            "ticks": ""
           }
          },
          "colorscale": {
           "diverging": [
            [
             0,
             "#8e0152"
            ],
            [
             0.1,
             "#c51b7d"
            ],
            [
             0.2,
             "#de77ae"
            ],
            [
             0.3,
             "#f1b6da"
            ],
            [
             0.4,
             "#fde0ef"
            ],
            [
             0.5,
             "#f7f7f7"
            ],
            [
             0.6,
             "#e6f5d0"
            ],
            [
             0.7,
             "#b8e186"
            ],
            [
             0.8,
             "#7fbc41"
            ],
            [
             0.9,
             "#4d9221"
            ],
            [
             1,
             "#276419"
            ]
           ],
           "sequential": [
            [
             0,
             "#0d0887"
            ],
            [
             0.1111111111111111,
             "#46039f"
            ],
            [
             0.2222222222222222,
             "#7201a8"
            ],
            [
             0.3333333333333333,
             "#9c179e"
            ],
            [
             0.4444444444444444,
             "#bd3786"
            ],
            [
             0.5555555555555556,
             "#d8576b"
            ],
            [
             0.6666666666666666,
             "#ed7953"
            ],
            [
             0.7777777777777778,
             "#fb9f3a"
            ],
            [
             0.8888888888888888,
             "#fdca26"
            ],
            [
             1,
             "#f0f921"
            ]
           ],
           "sequentialminus": [
            [
             0,
             "#0d0887"
            ],
            [
             0.1111111111111111,
             "#46039f"
            ],
            [
             0.2222222222222222,
             "#7201a8"
            ],
            [
             0.3333333333333333,
             "#9c179e"
            ],
            [
             0.4444444444444444,
             "#bd3786"
            ],
            [
             0.5555555555555556,
             "#d8576b"
            ],
            [
             0.6666666666666666,
             "#ed7953"
            ],
            [
             0.7777777777777778,
             "#fb9f3a"
            ],
            [
             0.8888888888888888,
             "#fdca26"
            ],
            [
             1,
             "#f0f921"
            ]
           ]
          },
          "colorway": [
           "#636efa",
           "#EF553B",
           "#00cc96",
           "#ab63fa",
           "#FFA15A",
           "#19d3f3",
           "#FF6692",
           "#B6E880",
           "#FF97FF",
           "#FECB52"
          ],
          "font": {
           "color": "#2a3f5f"
          },
          "geo": {
           "bgcolor": "white",
           "lakecolor": "white",
           "landcolor": "#E5ECF6",
           "showlakes": true,
           "showland": true,
           "subunitcolor": "white"
          },
          "hoverlabel": {
           "align": "left"
          },
          "hovermode": "closest",
          "mapbox": {
           "style": "light"
          },
          "paper_bgcolor": "white",
          "plot_bgcolor": "#E5ECF6",
          "polar": {
           "angularaxis": {
            "gridcolor": "white",
            "linecolor": "white",
            "ticks": ""
           },
           "bgcolor": "#E5ECF6",
           "radialaxis": {
            "gridcolor": "white",
            "linecolor": "white",
            "ticks": ""
           }
          },
          "scene": {
           "xaxis": {
            "backgroundcolor": "#E5ECF6",
            "gridcolor": "white",
            "gridwidth": 2,
            "linecolor": "white",
            "showbackground": true,
            "ticks": "",
            "zerolinecolor": "white"
           },
           "yaxis": {
            "backgroundcolor": "#E5ECF6",
            "gridcolor": "white",
            "gridwidth": 2,
            "linecolor": "white",
            "showbackground": true,
            "ticks": "",
            "zerolinecolor": "white"
           },
           "zaxis": {
            "backgroundcolor": "#E5ECF6",
            "gridcolor": "white",
            "gridwidth": 2,
            "linecolor": "white",
            "showbackground": true,
            "ticks": "",
            "zerolinecolor": "white"
           }
          },
          "shapedefaults": {
           "line": {
            "color": "#2a3f5f"
           }
          },
          "ternary": {
           "aaxis": {
            "gridcolor": "white",
            "linecolor": "white",
            "ticks": ""
           },
           "baxis": {
            "gridcolor": "white",
            "linecolor": "white",
            "ticks": ""
           },
           "bgcolor": "#E5ECF6",
           "caxis": {
            "gridcolor": "white",
            "linecolor": "white",
            "ticks": ""
           }
          },
          "title": {
           "x": 0.05
          },
          "xaxis": {
           "automargin": true,
           "gridcolor": "white",
           "linecolor": "white",
           "ticks": "",
           "title": {
            "standoff": 15
           },
           "zerolinecolor": "white",
           "zerolinewidth": 2
          },
          "yaxis": {
           "automargin": true,
           "gridcolor": "white",
           "linecolor": "white",
           "ticks": "",
           "title": {
            "standoff": 15
           },
           "zerolinecolor": "white",
           "zerolinewidth": 2
          }
         }
        },
        "title": {
         "font": {
          "color": "#4D5663"
         },
         "text": "What Percentage of order is Reorder"
        },
        "xaxis": {
         "gridcolor": "#E1E5ED",
         "showgrid": true,
         "tickfont": {
          "color": "#4D5663"
         },
         "title": {
          "font": {
           "color": "#4D5663"
          },
          "text": "Percentage of reorder in paticular order %"
         },
         "zerolinecolor": "#E1E5ED"
        },
        "yaxis": {
         "gridcolor": "#E1E5ED",
         "showgrid": true,
         "tickfont": {
          "color": "#4D5663"
         },
         "title": {
          "font": {
           "color": "#4D5663"
          },
          "text": "Percentage of Total order"
         },
         "zerolinecolor": "#E1E5ED"
        }
       }
      },
      "text/html": [
       "<div>                            <div id=\"1cc47b77-ce5b-4fe5-850b-c39b40a243a5\" class=\"plotly-graph-div\" style=\"height:525px; width:100%;\"></div>            <script type=\"text/javascript\">                require([\"plotly\"], function(Plotly) {                    window.PLOTLYENV=window.PLOTLYENV || {};\n",
       "                    window.PLOTLYENV.BASE_URL='https://plot.ly';                                    if (document.getElementById(\"1cc47b77-ce5b-4fe5-850b-c39b40a243a5\")) {                    Plotly.newPlot(                        \"1cc47b77-ce5b-4fe5-850b-c39b40a243a5\",                        [{\"marker\":{\"color\":\"rgba(255, 153, 51, 0.6)\",\"line\":{\"color\":\"rgba(255, 153, 51, 1.0)\",\"width\":1}},\"name\":\"reordered\",\"orientation\":\"v\",\"text\":\"\",\"type\":\"bar\",\"x\":[100.0,0.0,50.0,66.66666666666666,75.0],\"y\":[0.2149399760854707,0.11868055873091014,0.05878186524362964,0.04251956690853156,0.03168540648872129]}],                        {\"legend\":{\"bgcolor\":\"#F5F6F9\",\"font\":{\"color\":\"#4D5663\"}},\"paper_bgcolor\":\"#F5F6F9\",\"plot_bgcolor\":\"#F5F6F9\",\"template\":{\"data\":{\"bar\":[{\"error_x\":{\"color\":\"#2a3f5f\"},\"error_y\":{\"color\":\"#2a3f5f\"},\"marker\":{\"line\":{\"color\":\"#E5ECF6\",\"width\":0.5},\"pattern\":{\"fillmode\":\"overlay\",\"size\":10,\"solidity\":0.2}},\"type\":\"bar\"}],\"barpolar\":[{\"marker\":{\"line\":{\"color\":\"#E5ECF6\",\"width\":0.5},\"pattern\":{\"fillmode\":\"overlay\",\"size\":10,\"solidity\":0.2}},\"type\":\"barpolar\"}],\"carpet\":[{\"aaxis\":{\"endlinecolor\":\"#2a3f5f\",\"gridcolor\":\"white\",\"linecolor\":\"white\",\"minorgridcolor\":\"white\",\"startlinecolor\":\"#2a3f5f\"},\"baxis\":{\"endlinecolor\":\"#2a3f5f\",\"gridcolor\":\"white\",\"linecolor\":\"white\",\"minorgridcolor\":\"white\",\"startlinecolor\":\"#2a3f5f\"},\"type\":\"carpet\"}],\"choropleth\":[{\"colorbar\":{\"outlinewidth\":0,\"ticks\":\"\"},\"type\":\"choropleth\"}],\"contour\":[{\"colorbar\":{\"outlinewidth\":0,\"ticks\":\"\"},\"colorscale\":[[0.0,\"#0d0887\"],[0.1111111111111111,\"#46039f\"],[0.2222222222222222,\"#7201a8\"],[0.3333333333333333,\"#9c179e\"],[0.4444444444444444,\"#bd3786\"],[0.5555555555555556,\"#d8576b\"],[0.6666666666666666,\"#ed7953\"],[0.7777777777777778,\"#fb9f3a\"],[0.8888888888888888,\"#fdca26\"],[1.0,\"#f0f921\"]],\"type\":\"contour\"}],\"contourcarpet\":[{\"colorbar\":{\"outlinewidth\":0,\"ticks\":\"\"},\"type\":\"contourcarpet\"}],\"heatmap\":[{\"colorbar\":{\"outlinewidth\":0,\"ticks\":\"\"},\"colorscale\":[[0.0,\"#0d0887\"],[0.1111111111111111,\"#46039f\"],[0.2222222222222222,\"#7201a8\"],[0.3333333333333333,\"#9c179e\"],[0.4444444444444444,\"#bd3786\"],[0.5555555555555556,\"#d8576b\"],[0.6666666666666666,\"#ed7953\"],[0.7777777777777778,\"#fb9f3a\"],[0.8888888888888888,\"#fdca26\"],[1.0,\"#f0f921\"]],\"type\":\"heatmap\"}],\"heatmapgl\":[{\"colorbar\":{\"outlinewidth\":0,\"ticks\":\"\"},\"colorscale\":[[0.0,\"#0d0887\"],[0.1111111111111111,\"#46039f\"],[0.2222222222222222,\"#7201a8\"],[0.3333333333333333,\"#9c179e\"],[0.4444444444444444,\"#bd3786\"],[0.5555555555555556,\"#d8576b\"],[0.6666666666666666,\"#ed7953\"],[0.7777777777777778,\"#fb9f3a\"],[0.8888888888888888,\"#fdca26\"],[1.0,\"#f0f921\"]],\"type\":\"heatmapgl\"}],\"histogram\":[{\"marker\":{\"pattern\":{\"fillmode\":\"overlay\",\"size\":10,\"solidity\":0.2}},\"type\":\"histogram\"}],\"histogram2d\":[{\"colorbar\":{\"outlinewidth\":0,\"ticks\":\"\"},\"colorscale\":[[0.0,\"#0d0887\"],[0.1111111111111111,\"#46039f\"],[0.2222222222222222,\"#7201a8\"],[0.3333333333333333,\"#9c179e\"],[0.4444444444444444,\"#bd3786\"],[0.5555555555555556,\"#d8576b\"],[0.6666666666666666,\"#ed7953\"],[0.7777777777777778,\"#fb9f3a\"],[0.8888888888888888,\"#fdca26\"],[1.0,\"#f0f921\"]],\"type\":\"histogram2d\"}],\"histogram2dcontour\":[{\"colorbar\":{\"outlinewidth\":0,\"ticks\":\"\"},\"colorscale\":[[0.0,\"#0d0887\"],[0.1111111111111111,\"#46039f\"],[0.2222222222222222,\"#7201a8\"],[0.3333333333333333,\"#9c179e\"],[0.4444444444444444,\"#bd3786\"],[0.5555555555555556,\"#d8576b\"],[0.6666666666666666,\"#ed7953\"],[0.7777777777777778,\"#fb9f3a\"],[0.8888888888888888,\"#fdca26\"],[1.0,\"#f0f921\"]],\"type\":\"histogram2dcontour\"}],\"mesh3d\":[{\"colorbar\":{\"outlinewidth\":0,\"ticks\":\"\"},\"type\":\"mesh3d\"}],\"parcoords\":[{\"line\":{\"colorbar\":{\"outlinewidth\":0,\"ticks\":\"\"}},\"type\":\"parcoords\"}],\"pie\":[{\"automargin\":true,\"type\":\"pie\"}],\"scatter\":[{\"marker\":{\"colorbar\":{\"outlinewidth\":0,\"ticks\":\"\"}},\"type\":\"scatter\"}],\"scatter3d\":[{\"line\":{\"colorbar\":{\"outlinewidth\":0,\"ticks\":\"\"}},\"marker\":{\"colorbar\":{\"outlinewidth\":0,\"ticks\":\"\"}},\"type\":\"scatter3d\"}],\"scattercarpet\":[{\"marker\":{\"colorbar\":{\"outlinewidth\":0,\"ticks\":\"\"}},\"type\":\"scattercarpet\"}],\"scattergeo\":[{\"marker\":{\"colorbar\":{\"outlinewidth\":0,\"ticks\":\"\"}},\"type\":\"scattergeo\"}],\"scattergl\":[{\"marker\":{\"colorbar\":{\"outlinewidth\":0,\"ticks\":\"\"}},\"type\":\"scattergl\"}],\"scattermapbox\":[{\"marker\":{\"colorbar\":{\"outlinewidth\":0,\"ticks\":\"\"}},\"type\":\"scattermapbox\"}],\"scatterpolar\":[{\"marker\":{\"colorbar\":{\"outlinewidth\":0,\"ticks\":\"\"}},\"type\":\"scatterpolar\"}],\"scatterpolargl\":[{\"marker\":{\"colorbar\":{\"outlinewidth\":0,\"ticks\":\"\"}},\"type\":\"scatterpolargl\"}],\"scatterternary\":[{\"marker\":{\"colorbar\":{\"outlinewidth\":0,\"ticks\":\"\"}},\"type\":\"scatterternary\"}],\"surface\":[{\"colorbar\":{\"outlinewidth\":0,\"ticks\":\"\"},\"colorscale\":[[0.0,\"#0d0887\"],[0.1111111111111111,\"#46039f\"],[0.2222222222222222,\"#7201a8\"],[0.3333333333333333,\"#9c179e\"],[0.4444444444444444,\"#bd3786\"],[0.5555555555555556,\"#d8576b\"],[0.6666666666666666,\"#ed7953\"],[0.7777777777777778,\"#fb9f3a\"],[0.8888888888888888,\"#fdca26\"],[1.0,\"#f0f921\"]],\"type\":\"surface\"}],\"table\":[{\"cells\":{\"fill\":{\"color\":\"#EBF0F8\"},\"line\":{\"color\":\"white\"}},\"header\":{\"fill\":{\"color\":\"#C8D4E3\"},\"line\":{\"color\":\"white\"}},\"type\":\"table\"}]},\"layout\":{\"annotationdefaults\":{\"arrowcolor\":\"#2a3f5f\",\"arrowhead\":0,\"arrowwidth\":1},\"autotypenumbers\":\"strict\",\"coloraxis\":{\"colorbar\":{\"outlinewidth\":0,\"ticks\":\"\"}},\"colorscale\":{\"diverging\":[[0,\"#8e0152\"],[0.1,\"#c51b7d\"],[0.2,\"#de77ae\"],[0.3,\"#f1b6da\"],[0.4,\"#fde0ef\"],[0.5,\"#f7f7f7\"],[0.6,\"#e6f5d0\"],[0.7,\"#b8e186\"],[0.8,\"#7fbc41\"],[0.9,\"#4d9221\"],[1,\"#276419\"]],\"sequential\":[[0.0,\"#0d0887\"],[0.1111111111111111,\"#46039f\"],[0.2222222222222222,\"#7201a8\"],[0.3333333333333333,\"#9c179e\"],[0.4444444444444444,\"#bd3786\"],[0.5555555555555556,\"#d8576b\"],[0.6666666666666666,\"#ed7953\"],[0.7777777777777778,\"#fb9f3a\"],[0.8888888888888888,\"#fdca26\"],[1.0,\"#f0f921\"]],\"sequentialminus\":[[0.0,\"#0d0887\"],[0.1111111111111111,\"#46039f\"],[0.2222222222222222,\"#7201a8\"],[0.3333333333333333,\"#9c179e\"],[0.4444444444444444,\"#bd3786\"],[0.5555555555555556,\"#d8576b\"],[0.6666666666666666,\"#ed7953\"],[0.7777777777777778,\"#fb9f3a\"],[0.8888888888888888,\"#fdca26\"],[1.0,\"#f0f921\"]]},\"colorway\":[\"#636efa\",\"#EF553B\",\"#00cc96\",\"#ab63fa\",\"#FFA15A\",\"#19d3f3\",\"#FF6692\",\"#B6E880\",\"#FF97FF\",\"#FECB52\"],\"font\":{\"color\":\"#2a3f5f\"},\"geo\":{\"bgcolor\":\"white\",\"lakecolor\":\"white\",\"landcolor\":\"#E5ECF6\",\"showlakes\":true,\"showland\":true,\"subunitcolor\":\"white\"},\"hoverlabel\":{\"align\":\"left\"},\"hovermode\":\"closest\",\"mapbox\":{\"style\":\"light\"},\"paper_bgcolor\":\"white\",\"plot_bgcolor\":\"#E5ECF6\",\"polar\":{\"angularaxis\":{\"gridcolor\":\"white\",\"linecolor\":\"white\",\"ticks\":\"\"},\"bgcolor\":\"#E5ECF6\",\"radialaxis\":{\"gridcolor\":\"white\",\"linecolor\":\"white\",\"ticks\":\"\"}},\"scene\":{\"xaxis\":{\"backgroundcolor\":\"#E5ECF6\",\"gridcolor\":\"white\",\"gridwidth\":2,\"linecolor\":\"white\",\"showbackground\":true,\"ticks\":\"\",\"zerolinecolor\":\"white\"},\"yaxis\":{\"backgroundcolor\":\"#E5ECF6\",\"gridcolor\":\"white\",\"gridwidth\":2,\"linecolor\":\"white\",\"showbackground\":true,\"ticks\":\"\",\"zerolinecolor\":\"white\"},\"zaxis\":{\"backgroundcolor\":\"#E5ECF6\",\"gridcolor\":\"white\",\"gridwidth\":2,\"linecolor\":\"white\",\"showbackground\":true,\"ticks\":\"\",\"zerolinecolor\":\"white\"}},\"shapedefaults\":{\"line\":{\"color\":\"#2a3f5f\"}},\"ternary\":{\"aaxis\":{\"gridcolor\":\"white\",\"linecolor\":\"white\",\"ticks\":\"\"},\"baxis\":{\"gridcolor\":\"white\",\"linecolor\":\"white\",\"ticks\":\"\"},\"bgcolor\":\"#E5ECF6\",\"caxis\":{\"gridcolor\":\"white\",\"linecolor\":\"white\",\"ticks\":\"\"}},\"title\":{\"x\":0.05},\"xaxis\":{\"automargin\":true,\"gridcolor\":\"white\",\"linecolor\":\"white\",\"ticks\":\"\",\"title\":{\"standoff\":15},\"zerolinecolor\":\"white\",\"zerolinewidth\":2},\"yaxis\":{\"automargin\":true,\"gridcolor\":\"white\",\"linecolor\":\"white\",\"ticks\":\"\",\"title\":{\"standoff\":15},\"zerolinecolor\":\"white\",\"zerolinewidth\":2}}},\"title\":{\"font\":{\"color\":\"#4D5663\"},\"text\":\"What Percentage of order is Reorder\"},\"xaxis\":{\"gridcolor\":\"#E1E5ED\",\"showgrid\":true,\"tickfont\":{\"color\":\"#4D5663\"},\"title\":{\"font\":{\"color\":\"#4D5663\"},\"text\":\"Percentage of reorder in paticular order %\"},\"zerolinecolor\":\"#E1E5ED\"},\"yaxis\":{\"gridcolor\":\"#E1E5ED\",\"showgrid\":true,\"tickfont\":{\"color\":\"#4D5663\"},\"title\":{\"font\":{\"color\":\"#4D5663\"},\"text\":\"Percentage of Total order\"},\"zerolinecolor\":\"#E1E5ED\"}},                        {\"showLink\": true, \"linkText\": \"Export to plot.ly\", \"plotlyServerURL\": \"https://plot.ly\", \"responsive\": true}                    ).then(function(){\n",
       "                            \n",
       "var gd = document.getElementById('1cc47b77-ce5b-4fe5-850b-c39b40a243a5');\n",
       "var x = new MutationObserver(function (mutations, observer) {{\n",
       "        var display = window.getComputedStyle(gd).display;\n",
       "        if (!display || display === 'none') {{\n",
       "            console.log([gd, 'removed!']);\n",
       "            Plotly.purge(gd);\n",
       "            observer.disconnect();\n",
       "        }}\n",
       "}});\n",
       "\n",
       "// Listen for the removal of the full notebook cells\n",
       "var notebookContainer = gd.closest('#notebook-container');\n",
       "if (notebookContainer) {{\n",
       "    x.observe(notebookContainer, {childList: true});\n",
       "}}\n",
       "\n",
       "// Listen for the clearing of the current output cell\n",
       "var outputEl = gd.closest('.output');\n",
       "if (outputEl) {{\n",
       "    x.observe(outputEl, {childList: true});\n",
       "}}\n",
       "\n",
       "                        })                };                });            </script>        </div>"
      ]
     },
     "metadata": {},
     "output_type": "display_data"
    }
   ],
   "source": [
    "\n",
    "def percent(x):\n",
    "    return sum(x)/len(x)*100\n",
    "order_products.groupby('order_id').agg({'reordered': percent})['reordered'].value_counts(normalize  = True).iloc[:5].iplot(kind = 'bar', \n",
    "                                                                             title = 'What Percentage of order is Reorder',\n",
    "                                                                             xTitle = 'Percentage of reorder in paticular order %',\n",
    "                                                                             yTitle = 'Percentage of Total order')"
   ]
  },
  {
   "cell_type": "code",
   "execution_count": 19,
   "id": "convenient-detection",
   "metadata": {},
   "outputs": [
    {
     "data": {
      "application/vnd.plotly.v1+json": {
       "config": {
        "linkText": "Export to plot.ly",
        "plotlyServerURL": "https://plot.ly",
        "showLink": true
       },
       "data": [
        {
         "line": {
          "color": "rgba(255, 153, 51, 1.0)",
          "dash": "solid",
          "shape": "linear",
          "width": 1.3
         },
         "mode": "lines",
         "name": "0",
         "text": "",
         "type": "scatter",
         "x": [
          "fresh fruits",
          "fresh vegetables",
          "packaged vegetables fruits",
          "yogurt",
          "milk",
          "water seltzer sparkling water",
          "packaged cheese",
          "soy lactosefree",
          "chips pretzels",
          "bread",
          "refrigerated",
          "eggs",
          "frozen produce",
          "energy granola bars",
          "crackers",
          "ice cream ice",
          "lunch meat",
          "soft drinks",
          "baby food formula",
          "frozen meals"
         ],
         "y": [
          7.692076874460914,
          10.423517568772537,
          4.797447962477096,
          3.409078614106173,
          1.4536547337205976,
          1.7106631930504208,
          3.052436188602994,
          1.47452210968089,
          2.233905612523484,
          1.4459223358535276,
          1.4562874997854116,
          0.999737011915827,
          1.7995929815794374,
          1.373972085178133,
          1.4843390812266757,
          1.9107894792648394,
          1.169409768470946,
          0.9725726365731167,
          1.1729297406343133,
          1.3004998793255445
         ]
        },
        {
         "line": {
          "color": "rgba(55, 128, 191, 1.0)",
          "dash": "solid",
          "shape": "linear",
          "width": 1.3
         },
         "mode": "lines",
         "name": "1",
         "text": "",
         "type": "scatter",
         "x": [
          "fresh fruits",
          "fresh vegetables",
          "packaged vegetables fruits",
          "yogurt",
          "milk",
          "water seltzer sparkling water",
          "packaged cheese",
          "soy lactosefree",
          "chips pretzels",
          "bread",
          "refrigerated",
          "eggs",
          "frozen produce",
          "energy granola bars",
          "crackers",
          "ice cream ice",
          "lunch meat",
          "soft drinks",
          "baby food formula",
          "frozen meals"
         ],
         "y": [
          13.661748021584174,
          10.641451720239575,
          5.906683718058707,
          5.186360957657492,
          3.618716976291082,
          3.2121094282438403,
          2.998091740765388,
          2.3054908555896763,
          2.225146527048372,
          2.044613577504991,
          1.9905078134395973,
          1.6707691567578835,
          1.4813864545665927,
          1.4199242709728115,
          1.366274524739218,
          1.28383552088261,
          1.2526108273666825,
          1.1975779940827929,
          1.167816566576599,
          1.143662655046063
         ]
        }
       ],
       "layout": {
        "legend": {
         "bgcolor": "#F5F6F9",
         "font": {
          "color": "#4D5663"
         }
        },
        "paper_bgcolor": "#F5F6F9",
        "plot_bgcolor": "#F5F6F9",
        "template": {
         "data": {
          "bar": [
           {
            "error_x": {
             "color": "#2a3f5f"
            },
            "error_y": {
             "color": "#2a3f5f"
            },
            "marker": {
             "line": {
              "color": "#E5ECF6",
              "width": 0.5
             },
             "pattern": {
              "fillmode": "overlay",
              "size": 10,
              "solidity": 0.2
             }
            },
            "type": "bar"
           }
          ],
          "barpolar": [
           {
            "marker": {
             "line": {
              "color": "#E5ECF6",
              "width": 0.5
             },
             "pattern": {
              "fillmode": "overlay",
              "size": 10,
              "solidity": 0.2
             }
            },
            "type": "barpolar"
           }
          ],
          "carpet": [
           {
            "aaxis": {
             "endlinecolor": "#2a3f5f",
             "gridcolor": "white",
             "linecolor": "white",
             "minorgridcolor": "white",
             "startlinecolor": "#2a3f5f"
            },
            "baxis": {
             "endlinecolor": "#2a3f5f",
             "gridcolor": "white",
             "linecolor": "white",
             "minorgridcolor": "white",
             "startlinecolor": "#2a3f5f"
            },
            "type": "carpet"
           }
          ],
          "choropleth": [
           {
            "colorbar": {
             "outlinewidth": 0,
             "ticks": ""
            },
            "type": "choropleth"
           }
          ],
          "contour": [
           {
            "colorbar": {
             "outlinewidth": 0,
             "ticks": ""
            },
            "colorscale": [
             [
              0,
              "#0d0887"
             ],
             [
              0.1111111111111111,
              "#46039f"
             ],
             [
              0.2222222222222222,
              "#7201a8"
             ],
             [
              0.3333333333333333,
              "#9c179e"
             ],
             [
              0.4444444444444444,
              "#bd3786"
             ],
             [
              0.5555555555555556,
              "#d8576b"
             ],
             [
              0.6666666666666666,
              "#ed7953"
             ],
             [
              0.7777777777777778,
              "#fb9f3a"
             ],
             [
              0.8888888888888888,
              "#fdca26"
             ],
             [
              1,
              "#f0f921"
             ]
            ],
            "type": "contour"
           }
          ],
          "contourcarpet": [
           {
            "colorbar": {
             "outlinewidth": 0,
             "ticks": ""
            },
            "type": "contourcarpet"
           }
          ],
          "heatmap": [
           {
            "colorbar": {
             "outlinewidth": 0,
             "ticks": ""
            },
            "colorscale": [
             [
              0,
              "#0d0887"
             ],
             [
              0.1111111111111111,
              "#46039f"
             ],
             [
              0.2222222222222222,
              "#7201a8"
             ],
             [
              0.3333333333333333,
              "#9c179e"
             ],
             [
              0.4444444444444444,
              "#bd3786"
             ],
             [
              0.5555555555555556,
              "#d8576b"
             ],
             [
              0.6666666666666666,
              "#ed7953"
             ],
             [
              0.7777777777777778,
              "#fb9f3a"
             ],
             [
              0.8888888888888888,
              "#fdca26"
             ],
             [
              1,
              "#f0f921"
             ]
            ],
            "type": "heatmap"
           }
          ],
          "heatmapgl": [
           {
            "colorbar": {
             "outlinewidth": 0,
             "ticks": ""
            },
            "colorscale": [
             [
              0,
              "#0d0887"
             ],
             [
              0.1111111111111111,
              "#46039f"
             ],
             [
              0.2222222222222222,
              "#7201a8"
             ],
             [
              0.3333333333333333,
              "#9c179e"
             ],
             [
              0.4444444444444444,
              "#bd3786"
             ],
             [
              0.5555555555555556,
              "#d8576b"
             ],
             [
              0.6666666666666666,
              "#ed7953"
             ],
             [
              0.7777777777777778,
              "#fb9f3a"
             ],
             [
              0.8888888888888888,
              "#fdca26"
             ],
             [
              1,
              "#f0f921"
             ]
            ],
            "type": "heatmapgl"
           }
          ],
          "histogram": [
           {
            "marker": {
             "pattern": {
              "fillmode": "overlay",
              "size": 10,
              "solidity": 0.2
             }
            },
            "type": "histogram"
           }
          ],
          "histogram2d": [
           {
            "colorbar": {
             "outlinewidth": 0,
             "ticks": ""
            },
            "colorscale": [
             [
              0,
              "#0d0887"
             ],
             [
              0.1111111111111111,
              "#46039f"
             ],
             [
              0.2222222222222222,
              "#7201a8"
             ],
             [
              0.3333333333333333,
              "#9c179e"
             ],
             [
              0.4444444444444444,
              "#bd3786"
             ],
             [
              0.5555555555555556,
              "#d8576b"
             ],
             [
              0.6666666666666666,
              "#ed7953"
             ],
             [
              0.7777777777777778,
              "#fb9f3a"
             ],
             [
              0.8888888888888888,
              "#fdca26"
             ],
             [
              1,
              "#f0f921"
             ]
            ],
            "type": "histogram2d"
           }
          ],
          "histogram2dcontour": [
           {
            "colorbar": {
             "outlinewidth": 0,
             "ticks": ""
            },
            "colorscale": [
             [
              0,
              "#0d0887"
             ],
             [
              0.1111111111111111,
              "#46039f"
             ],
             [
              0.2222222222222222,
              "#7201a8"
             ],
             [
              0.3333333333333333,
              "#9c179e"
             ],
             [
              0.4444444444444444,
              "#bd3786"
             ],
             [
              0.5555555555555556,
              "#d8576b"
             ],
             [
              0.6666666666666666,
              "#ed7953"
             ],
             [
              0.7777777777777778,
              "#fb9f3a"
             ],
             [
              0.8888888888888888,
              "#fdca26"
             ],
             [
              1,
              "#f0f921"
             ]
            ],
            "type": "histogram2dcontour"
           }
          ],
          "mesh3d": [
           {
            "colorbar": {
             "outlinewidth": 0,
             "ticks": ""
            },
            "type": "mesh3d"
           }
          ],
          "parcoords": [
           {
            "line": {
             "colorbar": {
              "outlinewidth": 0,
              "ticks": ""
             }
            },
            "type": "parcoords"
           }
          ],
          "pie": [
           {
            "automargin": true,
            "type": "pie"
           }
          ],
          "scatter": [
           {
            "marker": {
             "colorbar": {
              "outlinewidth": 0,
              "ticks": ""
             }
            },
            "type": "scatter"
           }
          ],
          "scatter3d": [
           {
            "line": {
             "colorbar": {
              "outlinewidth": 0,
              "ticks": ""
             }
            },
            "marker": {
             "colorbar": {
              "outlinewidth": 0,
              "ticks": ""
             }
            },
            "type": "scatter3d"
           }
          ],
          "scattercarpet": [
           {
            "marker": {
             "colorbar": {
              "outlinewidth": 0,
              "ticks": ""
             }
            },
            "type": "scattercarpet"
           }
          ],
          "scattergeo": [
           {
            "marker": {
             "colorbar": {
              "outlinewidth": 0,
              "ticks": ""
             }
            },
            "type": "scattergeo"
           }
          ],
          "scattergl": [
           {
            "marker": {
             "colorbar": {
              "outlinewidth": 0,
              "ticks": ""
             }
            },
            "type": "scattergl"
           }
          ],
          "scattermapbox": [
           {
            "marker": {
             "colorbar": {
              "outlinewidth": 0,
              "ticks": ""
             }
            },
            "type": "scattermapbox"
           }
          ],
          "scatterpolar": [
           {
            "marker": {
             "colorbar": {
              "outlinewidth": 0,
              "ticks": ""
             }
            },
            "type": "scatterpolar"
           }
          ],
          "scatterpolargl": [
           {
            "marker": {
             "colorbar": {
              "outlinewidth": 0,
              "ticks": ""
             }
            },
            "type": "scatterpolargl"
           }
          ],
          "scatterternary": [
           {
            "marker": {
             "colorbar": {
              "outlinewidth": 0,
              "ticks": ""
             }
            },
            "type": "scatterternary"
           }
          ],
          "surface": [
           {
            "colorbar": {
             "outlinewidth": 0,
             "ticks": ""
            },
            "colorscale": [
             [
              0,
              "#0d0887"
             ],
             [
              0.1111111111111111,
              "#46039f"
             ],
             [
              0.2222222222222222,
              "#7201a8"
             ],
             [
              0.3333333333333333,
              "#9c179e"
             ],
             [
              0.4444444444444444,
              "#bd3786"
             ],
             [
              0.5555555555555556,
              "#d8576b"
             ],
             [
              0.6666666666666666,
              "#ed7953"
             ],
             [
              0.7777777777777778,
              "#fb9f3a"
             ],
             [
              0.8888888888888888,
              "#fdca26"
             ],
             [
              1,
              "#f0f921"
             ]
            ],
            "type": "surface"
           }
          ],
          "table": [
           {
            "cells": {
             "fill": {
              "color": "#EBF0F8"
             },
             "line": {
              "color": "white"
             }
            },
            "header": {
             "fill": {
              "color": "#C8D4E3"
             },
             "line": {
              "color": "white"
             }
            },
            "type": "table"
           }
          ]
         },
         "layout": {
          "annotationdefaults": {
           "arrowcolor": "#2a3f5f",
           "arrowhead": 0,
           "arrowwidth": 1
          },
          "autotypenumbers": "strict",
          "coloraxis": {
           "colorbar": {
            "outlinewidth": 0,
            "ticks": ""
           }
          },
          "colorscale": {
           "diverging": [
            [
             0,
             "#8e0152"
            ],
            [
             0.1,
             "#c51b7d"
            ],
            [
             0.2,
             "#de77ae"
            ],
            [
             0.3,
             "#f1b6da"
            ],
            [
             0.4,
             "#fde0ef"
            ],
            [
             0.5,
             "#f7f7f7"
            ],
            [
             0.6,
             "#e6f5d0"
            ],
            [
             0.7,
             "#b8e186"
            ],
            [
             0.8,
             "#7fbc41"
            ],
            [
             0.9,
             "#4d9221"
            ],
            [
             1,
             "#276419"
            ]
           ],
           "sequential": [
            [
             0,
             "#0d0887"
            ],
            [
             0.1111111111111111,
             "#46039f"
            ],
            [
             0.2222222222222222,
             "#7201a8"
            ],
            [
             0.3333333333333333,
             "#9c179e"
            ],
            [
             0.4444444444444444,
             "#bd3786"
            ],
            [
             0.5555555555555556,
             "#d8576b"
            ],
            [
             0.6666666666666666,
             "#ed7953"
            ],
            [
             0.7777777777777778,
             "#fb9f3a"
            ],
            [
             0.8888888888888888,
             "#fdca26"
            ],
            [
             1,
             "#f0f921"
            ]
           ],
           "sequentialminus": [
            [
             0,
             "#0d0887"
            ],
            [
             0.1111111111111111,
             "#46039f"
            ],
            [
             0.2222222222222222,
             "#7201a8"
            ],
            [
             0.3333333333333333,
             "#9c179e"
            ],
            [
             0.4444444444444444,
             "#bd3786"
            ],
            [
             0.5555555555555556,
             "#d8576b"
            ],
            [
             0.6666666666666666,
             "#ed7953"
            ],
            [
             0.7777777777777778,
             "#fb9f3a"
            ],
            [
             0.8888888888888888,
             "#fdca26"
            ],
            [
             1,
             "#f0f921"
            ]
           ]
          },
          "colorway": [
           "#636efa",
           "#EF553B",
           "#00cc96",
           "#ab63fa",
           "#FFA15A",
           "#19d3f3",
           "#FF6692",
           "#B6E880",
           "#FF97FF",
           "#FECB52"
          ],
          "font": {
           "color": "#2a3f5f"
          },
          "geo": {
           "bgcolor": "white",
           "lakecolor": "white",
           "landcolor": "#E5ECF6",
           "showlakes": true,
           "showland": true,
           "subunitcolor": "white"
          },
          "hoverlabel": {
           "align": "left"
          },
          "hovermode": "closest",
          "mapbox": {
           "style": "light"
          },
          "paper_bgcolor": "white",
          "plot_bgcolor": "#E5ECF6",
          "polar": {
           "angularaxis": {
            "gridcolor": "white",
            "linecolor": "white",
            "ticks": ""
           },
           "bgcolor": "#E5ECF6",
           "radialaxis": {
            "gridcolor": "white",
            "linecolor": "white",
            "ticks": ""
           }
          },
          "scene": {
           "xaxis": {
            "backgroundcolor": "#E5ECF6",
            "gridcolor": "white",
            "gridwidth": 2,
            "linecolor": "white",
            "showbackground": true,
            "ticks": "",
            "zerolinecolor": "white"
           },
           "yaxis": {
            "backgroundcolor": "#E5ECF6",
            "gridcolor": "white",
            "gridwidth": 2,
            "linecolor": "white",
            "showbackground": true,
            "ticks": "",
            "zerolinecolor": "white"
           },
           "zaxis": {
            "backgroundcolor": "#E5ECF6",
            "gridcolor": "white",
            "gridwidth": 2,
            "linecolor": "white",
            "showbackground": true,
            "ticks": "",
            "zerolinecolor": "white"
           }
          },
          "shapedefaults": {
           "line": {
            "color": "#2a3f5f"
           }
          },
          "ternary": {
           "aaxis": {
            "gridcolor": "white",
            "linecolor": "white",
            "ticks": ""
           },
           "baxis": {
            "gridcolor": "white",
            "linecolor": "white",
            "ticks": ""
           },
           "bgcolor": "#E5ECF6",
           "caxis": {
            "gridcolor": "white",
            "linecolor": "white",
            "ticks": ""
           }
          },
          "title": {
           "x": 0.05
          },
          "xaxis": {
           "automargin": true,
           "gridcolor": "white",
           "linecolor": "white",
           "ticks": "",
           "title": {
            "standoff": 15
           },
           "zerolinecolor": "white",
           "zerolinewidth": 2
          },
          "yaxis": {
           "automargin": true,
           "gridcolor": "white",
           "linecolor": "white",
           "ticks": "",
           "title": {
            "standoff": 15
           },
           "zerolinecolor": "white",
           "zerolinewidth": 2
          }
         }
        },
        "title": {
         "font": {
          "color": "#4D5663"
         },
         "text": "How many times were aisles's product reordered"
        },
        "xaxis": {
         "gridcolor": "#E1E5ED",
         "showgrid": true,
         "tickfont": {
          "color": "#4D5663"
         },
         "title": {
          "font": {
           "color": "#4D5663"
          },
          "text": "Top 20 aisles"
         },
         "zerolinecolor": "#E1E5ED"
        },
        "yaxis": {
         "gridcolor": "#E1E5ED",
         "showgrid": true,
         "tickfont": {
          "color": "#4D5663"
         },
         "title": {
          "font": {
           "color": "#4D5663"
          },
          "text": "Percentage"
         },
         "zerolinecolor": "#E1E5ED"
        }
       }
      },
      "text/html": [
       "<div>                            <div id=\"431aae73-4da8-4d13-b7fb-0b26c50c3b73\" class=\"plotly-graph-div\" style=\"height:525px; width:100%;\"></div>            <script type=\"text/javascript\">                require([\"plotly\"], function(Plotly) {                    window.PLOTLYENV=window.PLOTLYENV || {};\n",
       "                    window.PLOTLYENV.BASE_URL='https://plot.ly';                                    if (document.getElementById(\"431aae73-4da8-4d13-b7fb-0b26c50c3b73\")) {                    Plotly.newPlot(                        \"431aae73-4da8-4d13-b7fb-0b26c50c3b73\",                        [{\"line\":{\"color\":\"rgba(255, 153, 51, 1.0)\",\"dash\":\"solid\",\"shape\":\"linear\",\"width\":1.3},\"mode\":\"lines\",\"name\":\"0\",\"text\":\"\",\"type\":\"scatter\",\"x\":[\"fresh fruits\",\"fresh vegetables\",\"packaged vegetables fruits\",\"yogurt\",\"milk\",\"water seltzer sparkling water\",\"packaged cheese\",\"soy lactosefree\",\"chips pretzels\",\"bread\",\"refrigerated\",\"eggs\",\"frozen produce\",\"energy granola bars\",\"crackers\",\"ice cream ice\",\"lunch meat\",\"soft drinks\",\"baby food formula\",\"frozen meals\"],\"y\":[7.692076874460914,10.423517568772537,4.797447962477096,3.409078614106173,1.4536547337205976,1.7106631930504208,3.052436188602994,1.47452210968089,2.233905612523484,1.4459223358535276,1.4562874997854116,0.999737011915827,1.7995929815794374,1.373972085178133,1.4843390812266757,1.9107894792648394,1.169409768470946,0.9725726365731167,1.1729297406343133,1.3004998793255445]},{\"line\":{\"color\":\"rgba(55, 128, 191, 1.0)\",\"dash\":\"solid\",\"shape\":\"linear\",\"width\":1.3},\"mode\":\"lines\",\"name\":\"1\",\"text\":\"\",\"type\":\"scatter\",\"x\":[\"fresh fruits\",\"fresh vegetables\",\"packaged vegetables fruits\",\"yogurt\",\"milk\",\"water seltzer sparkling water\",\"packaged cheese\",\"soy lactosefree\",\"chips pretzels\",\"bread\",\"refrigerated\",\"eggs\",\"frozen produce\",\"energy granola bars\",\"crackers\",\"ice cream ice\",\"lunch meat\",\"soft drinks\",\"baby food formula\",\"frozen meals\"],\"y\":[13.661748021584174,10.641451720239575,5.906683718058707,5.186360957657492,3.618716976291082,3.2121094282438403,2.998091740765388,2.3054908555896763,2.225146527048372,2.044613577504991,1.9905078134395973,1.6707691567578835,1.4813864545665927,1.4199242709728115,1.366274524739218,1.28383552088261,1.2526108273666825,1.1975779940827929,1.167816566576599,1.143662655046063]}],                        {\"legend\":{\"bgcolor\":\"#F5F6F9\",\"font\":{\"color\":\"#4D5663\"}},\"paper_bgcolor\":\"#F5F6F9\",\"plot_bgcolor\":\"#F5F6F9\",\"template\":{\"data\":{\"bar\":[{\"error_x\":{\"color\":\"#2a3f5f\"},\"error_y\":{\"color\":\"#2a3f5f\"},\"marker\":{\"line\":{\"color\":\"#E5ECF6\",\"width\":0.5},\"pattern\":{\"fillmode\":\"overlay\",\"size\":10,\"solidity\":0.2}},\"type\":\"bar\"}],\"barpolar\":[{\"marker\":{\"line\":{\"color\":\"#E5ECF6\",\"width\":0.5},\"pattern\":{\"fillmode\":\"overlay\",\"size\":10,\"solidity\":0.2}},\"type\":\"barpolar\"}],\"carpet\":[{\"aaxis\":{\"endlinecolor\":\"#2a3f5f\",\"gridcolor\":\"white\",\"linecolor\":\"white\",\"minorgridcolor\":\"white\",\"startlinecolor\":\"#2a3f5f\"},\"baxis\":{\"endlinecolor\":\"#2a3f5f\",\"gridcolor\":\"white\",\"linecolor\":\"white\",\"minorgridcolor\":\"white\",\"startlinecolor\":\"#2a3f5f\"},\"type\":\"carpet\"}],\"choropleth\":[{\"colorbar\":{\"outlinewidth\":0,\"ticks\":\"\"},\"type\":\"choropleth\"}],\"contour\":[{\"colorbar\":{\"outlinewidth\":0,\"ticks\":\"\"},\"colorscale\":[[0.0,\"#0d0887\"],[0.1111111111111111,\"#46039f\"],[0.2222222222222222,\"#7201a8\"],[0.3333333333333333,\"#9c179e\"],[0.4444444444444444,\"#bd3786\"],[0.5555555555555556,\"#d8576b\"],[0.6666666666666666,\"#ed7953\"],[0.7777777777777778,\"#fb9f3a\"],[0.8888888888888888,\"#fdca26\"],[1.0,\"#f0f921\"]],\"type\":\"contour\"}],\"contourcarpet\":[{\"colorbar\":{\"outlinewidth\":0,\"ticks\":\"\"},\"type\":\"contourcarpet\"}],\"heatmap\":[{\"colorbar\":{\"outlinewidth\":0,\"ticks\":\"\"},\"colorscale\":[[0.0,\"#0d0887\"],[0.1111111111111111,\"#46039f\"],[0.2222222222222222,\"#7201a8\"],[0.3333333333333333,\"#9c179e\"],[0.4444444444444444,\"#bd3786\"],[0.5555555555555556,\"#d8576b\"],[0.6666666666666666,\"#ed7953\"],[0.7777777777777778,\"#fb9f3a\"],[0.8888888888888888,\"#fdca26\"],[1.0,\"#f0f921\"]],\"type\":\"heatmap\"}],\"heatmapgl\":[{\"colorbar\":{\"outlinewidth\":0,\"ticks\":\"\"},\"colorscale\":[[0.0,\"#0d0887\"],[0.1111111111111111,\"#46039f\"],[0.2222222222222222,\"#7201a8\"],[0.3333333333333333,\"#9c179e\"],[0.4444444444444444,\"#bd3786\"],[0.5555555555555556,\"#d8576b\"],[0.6666666666666666,\"#ed7953\"],[0.7777777777777778,\"#fb9f3a\"],[0.8888888888888888,\"#fdca26\"],[1.0,\"#f0f921\"]],\"type\":\"heatmapgl\"}],\"histogram\":[{\"marker\":{\"pattern\":{\"fillmode\":\"overlay\",\"size\":10,\"solidity\":0.2}},\"type\":\"histogram\"}],\"histogram2d\":[{\"colorbar\":{\"outlinewidth\":0,\"ticks\":\"\"},\"colorscale\":[[0.0,\"#0d0887\"],[0.1111111111111111,\"#46039f\"],[0.2222222222222222,\"#7201a8\"],[0.3333333333333333,\"#9c179e\"],[0.4444444444444444,\"#bd3786\"],[0.5555555555555556,\"#d8576b\"],[0.6666666666666666,\"#ed7953\"],[0.7777777777777778,\"#fb9f3a\"],[0.8888888888888888,\"#fdca26\"],[1.0,\"#f0f921\"]],\"type\":\"histogram2d\"}],\"histogram2dcontour\":[{\"colorbar\":{\"outlinewidth\":0,\"ticks\":\"\"},\"colorscale\":[[0.0,\"#0d0887\"],[0.1111111111111111,\"#46039f\"],[0.2222222222222222,\"#7201a8\"],[0.3333333333333333,\"#9c179e\"],[0.4444444444444444,\"#bd3786\"],[0.5555555555555556,\"#d8576b\"],[0.6666666666666666,\"#ed7953\"],[0.7777777777777778,\"#fb9f3a\"],[0.8888888888888888,\"#fdca26\"],[1.0,\"#f0f921\"]],\"type\":\"histogram2dcontour\"}],\"mesh3d\":[{\"colorbar\":{\"outlinewidth\":0,\"ticks\":\"\"},\"type\":\"mesh3d\"}],\"parcoords\":[{\"line\":{\"colorbar\":{\"outlinewidth\":0,\"ticks\":\"\"}},\"type\":\"parcoords\"}],\"pie\":[{\"automargin\":true,\"type\":\"pie\"}],\"scatter\":[{\"marker\":{\"colorbar\":{\"outlinewidth\":0,\"ticks\":\"\"}},\"type\":\"scatter\"}],\"scatter3d\":[{\"line\":{\"colorbar\":{\"outlinewidth\":0,\"ticks\":\"\"}},\"marker\":{\"colorbar\":{\"outlinewidth\":0,\"ticks\":\"\"}},\"type\":\"scatter3d\"}],\"scattercarpet\":[{\"marker\":{\"colorbar\":{\"outlinewidth\":0,\"ticks\":\"\"}},\"type\":\"scattercarpet\"}],\"scattergeo\":[{\"marker\":{\"colorbar\":{\"outlinewidth\":0,\"ticks\":\"\"}},\"type\":\"scattergeo\"}],\"scattergl\":[{\"marker\":{\"colorbar\":{\"outlinewidth\":0,\"ticks\":\"\"}},\"type\":\"scattergl\"}],\"scattermapbox\":[{\"marker\":{\"colorbar\":{\"outlinewidth\":0,\"ticks\":\"\"}},\"type\":\"scattermapbox\"}],\"scatterpolar\":[{\"marker\":{\"colorbar\":{\"outlinewidth\":0,\"ticks\":\"\"}},\"type\":\"scatterpolar\"}],\"scatterpolargl\":[{\"marker\":{\"colorbar\":{\"outlinewidth\":0,\"ticks\":\"\"}},\"type\":\"scatterpolargl\"}],\"scatterternary\":[{\"marker\":{\"colorbar\":{\"outlinewidth\":0,\"ticks\":\"\"}},\"type\":\"scatterternary\"}],\"surface\":[{\"colorbar\":{\"outlinewidth\":0,\"ticks\":\"\"},\"colorscale\":[[0.0,\"#0d0887\"],[0.1111111111111111,\"#46039f\"],[0.2222222222222222,\"#7201a8\"],[0.3333333333333333,\"#9c179e\"],[0.4444444444444444,\"#bd3786\"],[0.5555555555555556,\"#d8576b\"],[0.6666666666666666,\"#ed7953\"],[0.7777777777777778,\"#fb9f3a\"],[0.8888888888888888,\"#fdca26\"],[1.0,\"#f0f921\"]],\"type\":\"surface\"}],\"table\":[{\"cells\":{\"fill\":{\"color\":\"#EBF0F8\"},\"line\":{\"color\":\"white\"}},\"header\":{\"fill\":{\"color\":\"#C8D4E3\"},\"line\":{\"color\":\"white\"}},\"type\":\"table\"}]},\"layout\":{\"annotationdefaults\":{\"arrowcolor\":\"#2a3f5f\",\"arrowhead\":0,\"arrowwidth\":1},\"autotypenumbers\":\"strict\",\"coloraxis\":{\"colorbar\":{\"outlinewidth\":0,\"ticks\":\"\"}},\"colorscale\":{\"diverging\":[[0,\"#8e0152\"],[0.1,\"#c51b7d\"],[0.2,\"#de77ae\"],[0.3,\"#f1b6da\"],[0.4,\"#fde0ef\"],[0.5,\"#f7f7f7\"],[0.6,\"#e6f5d0\"],[0.7,\"#b8e186\"],[0.8,\"#7fbc41\"],[0.9,\"#4d9221\"],[1,\"#276419\"]],\"sequential\":[[0.0,\"#0d0887\"],[0.1111111111111111,\"#46039f\"],[0.2222222222222222,\"#7201a8\"],[0.3333333333333333,\"#9c179e\"],[0.4444444444444444,\"#bd3786\"],[0.5555555555555556,\"#d8576b\"],[0.6666666666666666,\"#ed7953\"],[0.7777777777777778,\"#fb9f3a\"],[0.8888888888888888,\"#fdca26\"],[1.0,\"#f0f921\"]],\"sequentialminus\":[[0.0,\"#0d0887\"],[0.1111111111111111,\"#46039f\"],[0.2222222222222222,\"#7201a8\"],[0.3333333333333333,\"#9c179e\"],[0.4444444444444444,\"#bd3786\"],[0.5555555555555556,\"#d8576b\"],[0.6666666666666666,\"#ed7953\"],[0.7777777777777778,\"#fb9f3a\"],[0.8888888888888888,\"#fdca26\"],[1.0,\"#f0f921\"]]},\"colorway\":[\"#636efa\",\"#EF553B\",\"#00cc96\",\"#ab63fa\",\"#FFA15A\",\"#19d3f3\",\"#FF6692\",\"#B6E880\",\"#FF97FF\",\"#FECB52\"],\"font\":{\"color\":\"#2a3f5f\"},\"geo\":{\"bgcolor\":\"white\",\"lakecolor\":\"white\",\"landcolor\":\"#E5ECF6\",\"showlakes\":true,\"showland\":true,\"subunitcolor\":\"white\"},\"hoverlabel\":{\"align\":\"left\"},\"hovermode\":\"closest\",\"mapbox\":{\"style\":\"light\"},\"paper_bgcolor\":\"white\",\"plot_bgcolor\":\"#E5ECF6\",\"polar\":{\"angularaxis\":{\"gridcolor\":\"white\",\"linecolor\":\"white\",\"ticks\":\"\"},\"bgcolor\":\"#E5ECF6\",\"radialaxis\":{\"gridcolor\":\"white\",\"linecolor\":\"white\",\"ticks\":\"\"}},\"scene\":{\"xaxis\":{\"backgroundcolor\":\"#E5ECF6\",\"gridcolor\":\"white\",\"gridwidth\":2,\"linecolor\":\"white\",\"showbackground\":true,\"ticks\":\"\",\"zerolinecolor\":\"white\"},\"yaxis\":{\"backgroundcolor\":\"#E5ECF6\",\"gridcolor\":\"white\",\"gridwidth\":2,\"linecolor\":\"white\",\"showbackground\":true,\"ticks\":\"\",\"zerolinecolor\":\"white\"},\"zaxis\":{\"backgroundcolor\":\"#E5ECF6\",\"gridcolor\":\"white\",\"gridwidth\":2,\"linecolor\":\"white\",\"showbackground\":true,\"ticks\":\"\",\"zerolinecolor\":\"white\"}},\"shapedefaults\":{\"line\":{\"color\":\"#2a3f5f\"}},\"ternary\":{\"aaxis\":{\"gridcolor\":\"white\",\"linecolor\":\"white\",\"ticks\":\"\"},\"baxis\":{\"gridcolor\":\"white\",\"linecolor\":\"white\",\"ticks\":\"\"},\"bgcolor\":\"#E5ECF6\",\"caxis\":{\"gridcolor\":\"white\",\"linecolor\":\"white\",\"ticks\":\"\"}},\"title\":{\"x\":0.05},\"xaxis\":{\"automargin\":true,\"gridcolor\":\"white\",\"linecolor\":\"white\",\"ticks\":\"\",\"title\":{\"standoff\":15},\"zerolinecolor\":\"white\",\"zerolinewidth\":2},\"yaxis\":{\"automargin\":true,\"gridcolor\":\"white\",\"linecolor\":\"white\",\"ticks\":\"\",\"title\":{\"standoff\":15},\"zerolinecolor\":\"white\",\"zerolinewidth\":2}}},\"title\":{\"font\":{\"color\":\"#4D5663\"},\"text\":\"How many times were aisles's product reordered\"},\"xaxis\":{\"gridcolor\":\"#E1E5ED\",\"showgrid\":true,\"tickfont\":{\"color\":\"#4D5663\"},\"title\":{\"font\":{\"color\":\"#4D5663\"},\"text\":\"Top 20 aisles\"},\"zerolinecolor\":\"#E1E5ED\"},\"yaxis\":{\"gridcolor\":\"#E1E5ED\",\"showgrid\":true,\"tickfont\":{\"color\":\"#4D5663\"},\"title\":{\"font\":{\"color\":\"#4D5663\"},\"text\":\"Percentage\"},\"zerolinecolor\":\"#E1E5ED\"}},                        {\"showLink\": true, \"linkText\": \"Export to plot.ly\", \"plotlyServerURL\": \"https://plot.ly\", \"responsive\": true}                    ).then(function(){\n",
       "                            \n",
       "var gd = document.getElementById('431aae73-4da8-4d13-b7fb-0b26c50c3b73');\n",
       "var x = new MutationObserver(function (mutations, observer) {{\n",
       "        var display = window.getComputedStyle(gd).display;\n",
       "        if (!display || display === 'none') {{\n",
       "            console.log([gd, 'removed!']);\n",
       "            Plotly.purge(gd);\n",
       "            observer.disconnect();\n",
       "        }}\n",
       "}});\n",
       "\n",
       "// Listen for the removal of the full notebook cells\n",
       "var notebookContainer = gd.closest('#notebook-container');\n",
       "if (notebookContainer) {{\n",
       "    x.observe(notebookContainer, {childList: true});\n",
       "}}\n",
       "\n",
       "// Listen for the clearing of the current output cell\n",
       "var outputEl = gd.closest('.output');\n",
       "if (outputEl) {{\n",
       "    x.observe(outputEl, {childList: true});\n",
       "}}\n",
       "\n",
       "                        })                };                });            </script>        </div>"
      ]
     },
     "metadata": {},
     "output_type": "display_data"
    }
   ],
   "source": [
    "aisles_wise_product_add = combined_data.groupby(['reordered', 'aisle']).agg({'product_name' : 'count'}).reset_index()\n",
    "aisles_wise_product_add = aisles_wise_product_add.pivot('aisle', 'reordered', 'product_name')\n",
    "aisles_wise_product_add.sort_values(by = [1], axis = 0, ascending = False, inplace = True)\n",
    "aisles_wise_product_add = aisles_wise_product_add / aisles_wise_product_add.sum() * 100\n",
    "aisles_wise_product_add.iloc[:20,:].iplot(title = 'How many times were aisles\\'s product reordered',\n",
    "                                           xTitle = 'Top 20 aisles',\n",
    "                                           yTitle = 'Percentage')"
   ]
  },
  {
   "cell_type": "markdown",
   "id": "overhead-officer",
   "metadata": {},
   "source": [
    "***Most reordered and least reordered product***"
   ]
  },
  {
   "cell_type": "code",
   "execution_count": 20,
   "id": "b88ea248",
   "metadata": {},
   "outputs": [
    {
     "data": {
      "text/html": [
       "<div>\n",
       "<style scoped>\n",
       "    .dataframe tbody tr th:only-of-type {\n",
       "        vertical-align: middle;\n",
       "    }\n",
       "\n",
       "    .dataframe tbody tr th {\n",
       "        vertical-align: top;\n",
       "    }\n",
       "\n",
       "    .dataframe thead th {\n",
       "        text-align: right;\n",
       "    }\n",
       "</style>\n",
       "<table border=\"1\" class=\"dataframe\">\n",
       "  <thead>\n",
       "    <tr style=\"text-align: right;\">\n",
       "      <th></th>\n",
       "      <th>aisle</th>\n",
       "      <th>department</th>\n",
       "      <th>reordered</th>\n",
       "    </tr>\n",
       "  </thead>\n",
       "  <tbody>\n",
       "    <tr>\n",
       "      <th>0</th>\n",
       "      <td>milk</td>\n",
       "      <td>dairy eggs</td>\n",
       "      <td>0.781812</td>\n",
       "    </tr>\n",
       "    <tr>\n",
       "      <th>1</th>\n",
       "      <td>water seltzer sparkling water</td>\n",
       "      <td>beverages</td>\n",
       "      <td>0.72993</td>\n",
       "    </tr>\n",
       "    <tr>\n",
       "      <th>2</th>\n",
       "      <td>fresh fruits</td>\n",
       "      <td>produce</td>\n",
       "      <td>0.718823</td>\n",
       "    </tr>\n",
       "    <tr>\n",
       "      <th>3</th>\n",
       "      <td>eggs</td>\n",
       "      <td>dairy eggs</td>\n",
       "      <td>0.706359</td>\n",
       "    </tr>\n",
       "    <tr>\n",
       "      <th>4</th>\n",
       "      <td>soy lactosefree</td>\n",
       "      <td>dairy eggs</td>\n",
       "      <td>0.692361</td>\n",
       "    </tr>\n",
       "    <tr>\n",
       "      <th>5</th>\n",
       "      <td>...</td>\n",
       "      <td>...</td>\n",
       "      <td>...</td>\n",
       "    </tr>\n",
       "    <tr>\n",
       "      <th>6</th>\n",
       "      <td>beauty</td>\n",
       "      <td>personal care</td>\n",
       "      <td>0.212858</td>\n",
       "    </tr>\n",
       "    <tr>\n",
       "      <th>7</th>\n",
       "      <td>first aid</td>\n",
       "      <td>personal care</td>\n",
       "      <td>0.195864</td>\n",
       "    </tr>\n",
       "    <tr>\n",
       "      <th>8</th>\n",
       "      <td>kitchen supplies</td>\n",
       "      <td>household</td>\n",
       "      <td>0.194802</td>\n",
       "    </tr>\n",
       "    <tr>\n",
       "      <th>9</th>\n",
       "      <td>baking supplies decor</td>\n",
       "      <td>pantry</td>\n",
       "      <td>0.167595</td>\n",
       "    </tr>\n",
       "    <tr>\n",
       "      <th>10</th>\n",
       "      <td>spices seasonings</td>\n",
       "      <td>pantry</td>\n",
       "      <td>0.152933</td>\n",
       "    </tr>\n",
       "  </tbody>\n",
       "</table>\n",
       "</div>"
      ],
      "text/plain": [
       "                            aisle     department reordered\n",
       "0                            milk     dairy eggs  0.781812\n",
       "1   water seltzer sparkling water      beverages   0.72993\n",
       "2                    fresh fruits        produce  0.718823\n",
       "3                            eggs     dairy eggs  0.706359\n",
       "4                 soy lactosefree     dairy eggs  0.692361\n",
       "5                             ...            ...       ...\n",
       "6                          beauty  personal care  0.212858\n",
       "7                       first aid  personal care  0.195864\n",
       "8                kitchen supplies      household  0.194802\n",
       "9           baking supplies decor         pantry  0.167595\n",
       "10              spices seasonings         pantry  0.152933"
      ]
     },
     "execution_count": 20,
     "metadata": {},
     "output_type": "execute_result"
    }
   ],
   "source": [
    "reorder_aisle = combined_data.groupby(['aisle', 'department'])['reordered'].mean().to_frame().reset_index()\n",
    "\n",
    "reorder_aisle.sort_values('reordered', ascending=False)[:5]\\\n",
    ".append(pd.Series('...', index=reorder_aisle.columns), ignore_index=True)\\\n",
    ".append(reorder_aisle.sort_values('reordered', ascending=False)[-5:], ignore_index=True)"
   ]
  },
  {
   "cell_type": "code",
   "execution_count": 21,
   "id": "21ea4a12",
   "metadata": {},
   "outputs": [
    {
     "data": {
      "image/png": "[encoded data removed]",
      "text/plain": [
       "<Figure size 1296x2304 with 1 Axes>"
      ]
     },
     "metadata": {
      "needs_background": "light"
     },
     "output_type": "display_data"
    }
   ],
   "source": [
    "\n",
    "plt.figure(figsize=(18,32))\n",
    "\n",
    "ax = sns.stripplot(x='department', y='reordered', data=reorder_aisle, jitter=False)\n",
    "\n",
    "plt.xticks(rotation='vertical')\n",
    "\n",
    "# Make a list of all department names with the same ordinal values as seaborn plot\n",
    "dep_cat = reorder_aisle['department'].unique().tolist()\n",
    "\n",
    "# Annotate with aisle names\n",
    "for i in range(reorder_aisle.shape[0]):\n",
    "    # Add some distance for overlapping annotations in the same category. More work necessary for multiple overlapping annotations.\n",
    "    if (reorder_aisle[reorder_aisle['department'] == reorder_aisle['department'].iloc[i]]['reordered'] \\\n",
    "        - reorder_aisle['reordered'].iloc[i]).between(-0.0025, 0, inclusive=False).any(): \n",
    "        ax.annotate(reorder_aisle['aisle'].iloc[i],\n",
    "                    xy=(dep_cat.index(reorder_aisle['department'].iloc[i]), reorder_aisle['reordered'].iloc[i]),\n",
    "                    xytext=(dep_cat.index(reorder_aisle['department'].iloc[i])+0.1, reorder_aisle['reordered'].iloc[i]+0.0025))\n",
    "    else:\n",
    "        ax.annotate(reorder_aisle['aisle'].iloc[i],\n",
    "                    xy=(dep_cat.index(reorder_aisle['department'].iloc[i]), reorder_aisle['reordered'].iloc[i]),\n",
    "                    xytext=(dep_cat.index(reorder_aisle['department'].iloc[i])+0.1, reorder_aisle['reordered'].iloc[i]))\n",
    "\n",
    "plt.show()"
   ]
  },
  {
   "cell_type": "markdown",
   "id": "44970dfa",
   "metadata": {},
   "source": [
    "# Train and test data"
   ]
  },
  {
   "cell_type": "code",
   "execution_count": 51,
   "id": "dff8e0e1",
   "metadata": {},
   "outputs": [
    {
     "data": {
      "text/html": [
       "<div>\n",
       "<style scoped>\n",
       "    .dataframe tbody tr th:only-of-type {\n",
       "        vertical-align: middle;\n",
       "    }\n",
       "\n",
       "    .dataframe tbody tr th {\n",
       "        vertical-align: top;\n",
       "    }\n",
       "\n",
       "    .dataframe thead th {\n",
       "        text-align: right;\n",
       "    }\n",
       "</style>\n",
       "<table border=\"1\" class=\"dataframe\">\n",
       "  <thead>\n",
       "    <tr style=\"text-align: right;\">\n",
       "      <th></th>\n",
       "      <th>order_id</th>\n",
       "      <th>product_id</th>\n",
       "      <th>add_to_cart_order</th>\n",
       "      <th>reordered</th>\n",
       "      <th>user_id</th>\n",
       "      <th>eval_set</th>\n",
       "      <th>order_number</th>\n",
       "      <th>order_dow</th>\n",
       "      <th>order_hour_of_day</th>\n",
       "      <th>days_since_prior_order</th>\n",
       "    </tr>\n",
       "  </thead>\n",
       "  <tbody>\n",
       "    <tr>\n",
       "      <th>0</th>\n",
       "      <td>2</td>\n",
       "      <td>33120</td>\n",
       "      <td>1</td>\n",
       "      <td>1</td>\n",
       "      <td>202279</td>\n",
       "      <td>prior</td>\n",
       "      <td>3</td>\n",
       "      <td>5</td>\n",
       "      <td>9</td>\n",
       "      <td>8.0</td>\n",
       "    </tr>\n",
       "    <tr>\n",
       "      <th>1</th>\n",
       "      <td>2</td>\n",
       "      <td>28985</td>\n",
       "      <td>2</td>\n",
       "      <td>1</td>\n",
       "      <td>202279</td>\n",
       "      <td>prior</td>\n",
       "      <td>3</td>\n",
       "      <td>5</td>\n",
       "      <td>9</td>\n",
       "      <td>8.0</td>\n",
       "    </tr>\n",
       "    <tr>\n",
       "      <th>2</th>\n",
       "      <td>2</td>\n",
       "      <td>9327</td>\n",
       "      <td>3</td>\n",
       "      <td>0</td>\n",
       "      <td>202279</td>\n",
       "      <td>prior</td>\n",
       "      <td>3</td>\n",
       "      <td>5</td>\n",
       "      <td>9</td>\n",
       "      <td>8.0</td>\n",
       "    </tr>\n",
       "    <tr>\n",
       "      <th>3</th>\n",
       "      <td>2</td>\n",
       "      <td>45918</td>\n",
       "      <td>4</td>\n",
       "      <td>1</td>\n",
       "      <td>202279</td>\n",
       "      <td>prior</td>\n",
       "      <td>3</td>\n",
       "      <td>5</td>\n",
       "      <td>9</td>\n",
       "      <td>8.0</td>\n",
       "    </tr>\n",
       "    <tr>\n",
       "      <th>4</th>\n",
       "      <td>2</td>\n",
       "      <td>30035</td>\n",
       "      <td>5</td>\n",
       "      <td>0</td>\n",
       "      <td>202279</td>\n",
       "      <td>prior</td>\n",
       "      <td>3</td>\n",
       "      <td>5</td>\n",
       "      <td>9</td>\n",
       "      <td>8.0</td>\n",
       "    </tr>\n",
       "  </tbody>\n",
       "</table>\n",
       "</div>"
      ],
      "text/plain": [
       "   order_id  product_id  add_to_cart_order  reordered  user_id eval_set  \\\n",
       "0         2       33120                  1          1   202279    prior   \n",
       "1         2       28985                  2          1   202279    prior   \n",
       "2         2        9327                  3          0   202279    prior   \n",
       "3         2       45918                  4          1   202279    prior   \n",
       "4         2       30035                  5          0   202279    prior   \n",
       "\n",
       "   order_number  order_dow  order_hour_of_day  days_since_prior_order  \n",
       "0             3          5                  9                     8.0  \n",
       "1             3          5                  9                     8.0  \n",
       "2             3          5                  9                     8.0  \n",
       "3             3          5                  9                     8.0  \n",
       "4             3          5                  9                     8.0  "
      ]
     },
     "execution_count": 51,
     "metadata": {},
     "output_type": "execute_result"
    }
   ],
   "source": [
    "order_products_pr = pd.merge(order_products_prior, orders, how=\"inner\", on=\"order_id\")\n",
    "order_products_pr.head()"
   ]
  },
  {
   "cell_type": "code",
   "execution_count": 52,
   "id": "08b7fb63",
   "metadata": {},
   "outputs": [
    {
     "data": {
      "text/html": [
       "<div>\n",
       "<style scoped>\n",
       "    .dataframe tbody tr th:only-of-type {\n",
       "        vertical-align: middle;\n",
       "    }\n",
       "\n",
       "    .dataframe tbody tr th {\n",
       "        vertical-align: top;\n",
       "    }\n",
       "\n",
       "    .dataframe thead th {\n",
       "        text-align: right;\n",
       "    }\n",
       "</style>\n",
       "<table border=\"1\" class=\"dataframe\">\n",
       "  <thead>\n",
       "    <tr style=\"text-align: right;\">\n",
       "      <th></th>\n",
       "      <th>user_id</th>\n",
       "      <th>u_total_orders</th>\n",
       "    </tr>\n",
       "  </thead>\n",
       "  <tbody>\n",
       "    <tr>\n",
       "      <th>0</th>\n",
       "      <td>1</td>\n",
       "      <td>10</td>\n",
       "    </tr>\n",
       "    <tr>\n",
       "      <th>1</th>\n",
       "      <td>2</td>\n",
       "      <td>14</td>\n",
       "    </tr>\n",
       "    <tr>\n",
       "      <th>2</th>\n",
       "      <td>3</td>\n",
       "      <td>12</td>\n",
       "    </tr>\n",
       "    <tr>\n",
       "      <th>3</th>\n",
       "      <td>4</td>\n",
       "      <td>5</td>\n",
       "    </tr>\n",
       "    <tr>\n",
       "      <th>4</th>\n",
       "      <td>5</td>\n",
       "      <td>4</td>\n",
       "    </tr>\n",
       "  </tbody>\n",
       "</table>\n",
       "</div>"
      ],
      "text/plain": [
       "   user_id  u_total_orders\n",
       "0        1              10\n",
       "1        2              14\n",
       "2        3              12\n",
       "3        4               5\n",
       "4        5               4"
      ]
     },
     "execution_count": 52,
     "metadata": {},
     "output_type": "execute_result"
    }
   ],
   "source": [
    "user = order_products_pr.groupby('user_id')['order_number'].max().to_frame('u_total_orders').reset_index()\n",
    "user.head()"
   ]
  },
  {
   "cell_type": "code",
   "execution_count": 53,
   "id": "cc9409ec",
   "metadata": {},
   "outputs": [
    {
     "data": {
      "text/html": [
       "<div>\n",
       "<style scoped>\n",
       "    .dataframe tbody tr th:only-of-type {\n",
       "        vertical-align: middle;\n",
       "    }\n",
       "\n",
       "    .dataframe tbody tr th {\n",
       "        vertical-align: top;\n",
       "    }\n",
       "\n",
       "    .dataframe thead th {\n",
       "        text-align: right;\n",
       "    }\n",
       "</style>\n",
       "<table border=\"1\" class=\"dataframe\">\n",
       "  <thead>\n",
       "    <tr style=\"text-align: right;\">\n",
       "      <th></th>\n",
       "      <th>user_id</th>\n",
       "      <th>u_reordered_ratio</th>\n",
       "    </tr>\n",
       "  </thead>\n",
       "  <tbody>\n",
       "    <tr>\n",
       "      <th>0</th>\n",
       "      <td>1</td>\n",
       "      <td>0.694915</td>\n",
       "    </tr>\n",
       "    <tr>\n",
       "      <th>1</th>\n",
       "      <td>2</td>\n",
       "      <td>0.476923</td>\n",
       "    </tr>\n",
       "    <tr>\n",
       "      <th>2</th>\n",
       "      <td>3</td>\n",
       "      <td>0.625000</td>\n",
       "    </tr>\n",
       "    <tr>\n",
       "      <th>3</th>\n",
       "      <td>4</td>\n",
       "      <td>0.055556</td>\n",
       "    </tr>\n",
       "    <tr>\n",
       "      <th>4</th>\n",
       "      <td>5</td>\n",
       "      <td>0.378378</td>\n",
       "    </tr>\n",
       "  </tbody>\n",
       "</table>\n",
       "</div>"
      ],
      "text/plain": [
       "   user_id  u_reordered_ratio\n",
       "0        1           0.694915\n",
       "1        2           0.476923\n",
       "2        3           0.625000\n",
       "3        4           0.055556\n",
       "4        5           0.378378"
      ]
     },
     "execution_count": 53,
     "metadata": {},
     "output_type": "execute_result"
    }
   ],
   "source": [
    "u_reorder = order_products_pr.groupby('user_id')['reordered'].mean().to_frame('u_reordered_ratio').reset_index()\n",
    "u_reorder.head()"
   ]
  },
  {
   "cell_type": "code",
   "execution_count": 54,
   "id": "8964e5dd",
   "metadata": {},
   "outputs": [
    {
     "data": {
      "text/html": [
       "<div>\n",
       "<style scoped>\n",
       "    .dataframe tbody tr th:only-of-type {\n",
       "        vertical-align: middle;\n",
       "    }\n",
       "\n",
       "    .dataframe tbody tr th {\n",
       "        vertical-align: top;\n",
       "    }\n",
       "\n",
       "    .dataframe thead th {\n",
       "        text-align: right;\n",
       "    }\n",
       "</style>\n",
       "<table border=\"1\" class=\"dataframe\">\n",
       "  <thead>\n",
       "    <tr style=\"text-align: right;\">\n",
       "      <th></th>\n",
       "      <th>user_id</th>\n",
       "      <th>u_total_orders</th>\n",
       "      <th>u_reordered_ratio</th>\n",
       "    </tr>\n",
       "  </thead>\n",
       "  <tbody>\n",
       "    <tr>\n",
       "      <th>0</th>\n",
       "      <td>1</td>\n",
       "      <td>10</td>\n",
       "      <td>0.694915</td>\n",
       "    </tr>\n",
       "    <tr>\n",
       "      <th>1</th>\n",
       "      <td>2</td>\n",
       "      <td>14</td>\n",
       "      <td>0.476923</td>\n",
       "    </tr>\n",
       "    <tr>\n",
       "      <th>2</th>\n",
       "      <td>3</td>\n",
       "      <td>12</td>\n",
       "      <td>0.625000</td>\n",
       "    </tr>\n",
       "    <tr>\n",
       "      <th>3</th>\n",
       "      <td>4</td>\n",
       "      <td>5</td>\n",
       "      <td>0.055556</td>\n",
       "    </tr>\n",
       "    <tr>\n",
       "      <th>4</th>\n",
       "      <td>5</td>\n",
       "      <td>4</td>\n",
       "      <td>0.378378</td>\n",
       "    </tr>\n",
       "  </tbody>\n",
       "</table>\n",
       "</div>"
      ],
      "text/plain": [
       "   user_id  u_total_orders  u_reordered_ratio\n",
       "0        1              10           0.694915\n",
       "1        2              14           0.476923\n",
       "2        3              12           0.625000\n",
       "3        4               5           0.055556\n",
       "4        5               4           0.378378"
      ]
     },
     "execution_count": 54,
     "metadata": {},
     "output_type": "execute_result"
    }
   ],
   "source": [
    "user = user.merge(u_reorder, on='user_id', how='left')\n",
    "\n",
    "del u_reorder\n",
    "gc.collect()\n",
    "\n",
    "user.head()"
   ]
  },
  {
   "cell_type": "code",
   "execution_count": 55,
   "id": "42c4831f",
   "metadata": {},
   "outputs": [
    {
     "data": {
      "text/html": [
       "<div>\n",
       "<style scoped>\n",
       "    .dataframe tbody tr th:only-of-type {\n",
       "        vertical-align: middle;\n",
       "    }\n",
       "\n",
       "    .dataframe tbody tr th {\n",
       "        vertical-align: top;\n",
       "    }\n",
       "\n",
       "    .dataframe thead th {\n",
       "        text-align: right;\n",
       "    }\n",
       "</style>\n",
       "<table border=\"1\" class=\"dataframe\">\n",
       "  <thead>\n",
       "    <tr style=\"text-align: right;\">\n",
       "      <th></th>\n",
       "      <th>product_id</th>\n",
       "      <th>p_total_purchases</th>\n",
       "    </tr>\n",
       "  </thead>\n",
       "  <tbody>\n",
       "    <tr>\n",
       "      <th>0</th>\n",
       "      <td>1</td>\n",
       "      <td>1852</td>\n",
       "    </tr>\n",
       "    <tr>\n",
       "      <th>1</th>\n",
       "      <td>2</td>\n",
       "      <td>90</td>\n",
       "    </tr>\n",
       "    <tr>\n",
       "      <th>2</th>\n",
       "      <td>3</td>\n",
       "      <td>277</td>\n",
       "    </tr>\n",
       "    <tr>\n",
       "      <th>3</th>\n",
       "      <td>4</td>\n",
       "      <td>329</td>\n",
       "    </tr>\n",
       "    <tr>\n",
       "      <th>4</th>\n",
       "      <td>5</td>\n",
       "      <td>15</td>\n",
       "    </tr>\n",
       "  </tbody>\n",
       "</table>\n",
       "</div>"
      ],
      "text/plain": [
       "   product_id  p_total_purchases\n",
       "0           1               1852\n",
       "1           2                 90\n",
       "2           3                277\n",
       "3           4                329\n",
       "4           5                 15"
      ]
     },
     "execution_count": 55,
     "metadata": {},
     "output_type": "execute_result"
    }
   ],
   "source": [
    "prd = order_products_pr.groupby('product_id')['order_id'].count().to_frame('p_total_purchases').reset_index()\n",
    "prd.head()"
   ]
  },
  {
   "cell_type": "code",
   "execution_count": 56,
   "id": "56e347f6",
   "metadata": {},
   "outputs": [
    {
     "data": {
      "text/html": [
       "<div>\n",
       "<style scoped>\n",
       "    .dataframe tbody tr th:only-of-type {\n",
       "        vertical-align: middle;\n",
       "    }\n",
       "\n",
       "    .dataframe tbody tr th {\n",
       "        vertical-align: top;\n",
       "    }\n",
       "\n",
       "    .dataframe thead th {\n",
       "        text-align: right;\n",
       "    }\n",
       "</style>\n",
       "<table border=\"1\" class=\"dataframe\">\n",
       "  <thead>\n",
       "    <tr style=\"text-align: right;\">\n",
       "      <th></th>\n",
       "      <th>product_id</th>\n",
       "      <th>p_reorder_ratio</th>\n",
       "    </tr>\n",
       "  </thead>\n",
       "  <tbody>\n",
       "    <tr>\n",
       "      <th>0</th>\n",
       "      <td>1</td>\n",
       "      <td>0.613391</td>\n",
       "    </tr>\n",
       "    <tr>\n",
       "      <th>1</th>\n",
       "      <td>2</td>\n",
       "      <td>0.133333</td>\n",
       "    </tr>\n",
       "    <tr>\n",
       "      <th>2</th>\n",
       "      <td>3</td>\n",
       "      <td>0.732852</td>\n",
       "    </tr>\n",
       "    <tr>\n",
       "      <th>3</th>\n",
       "      <td>4</td>\n",
       "      <td>0.446809</td>\n",
       "    </tr>\n",
       "    <tr>\n",
       "      <th>4</th>\n",
       "      <td>8</td>\n",
       "      <td>0.503030</td>\n",
       "    </tr>\n",
       "  </tbody>\n",
       "</table>\n",
       "</div>"
      ],
      "text/plain": [
       "   product_id  p_reorder_ratio\n",
       "0           1         0.613391\n",
       "1           2         0.133333\n",
       "2           3         0.732852\n",
       "3           4         0.446809\n",
       "4           8         0.503030"
      ]
     },
     "execution_count": 56,
     "metadata": {},
     "output_type": "execute_result"
    }
   ],
   "source": [
    "p_reorder = order_products_pr.groupby('product_id').filter(lambda x: x.shape[0] >40)\n",
    "p_reorder = p_reorder.groupby('product_id')['reordered'].mean().to_frame('p_reorder_ratio')\n",
    "p_reorder = p_reorder.reset_index()\n",
    "p_reorder.head()"
   ]
  },
  {
   "cell_type": "code",
   "execution_count": 57,
   "id": "4cd157f1",
   "metadata": {},
   "outputs": [
    {
     "data": {
      "text/html": [
       "<div>\n",
       "<style scoped>\n",
       "    .dataframe tbody tr th:only-of-type {\n",
       "        vertical-align: middle;\n",
       "    }\n",
       "\n",
       "    .dataframe tbody tr th {\n",
       "        vertical-align: top;\n",
       "    }\n",
       "\n",
       "    .dataframe thead th {\n",
       "        text-align: right;\n",
       "    }\n",
       "</style>\n",
       "<table border=\"1\" class=\"dataframe\">\n",
       "  <thead>\n",
       "    <tr style=\"text-align: right;\">\n",
       "      <th></th>\n",
       "      <th>product_id</th>\n",
       "      <th>p_total_purchases</th>\n",
       "      <th>p_reorder_ratio</th>\n",
       "    </tr>\n",
       "  </thead>\n",
       "  <tbody>\n",
       "    <tr>\n",
       "      <th>0</th>\n",
       "      <td>1</td>\n",
       "      <td>1852</td>\n",
       "      <td>0.613391</td>\n",
       "    </tr>\n",
       "    <tr>\n",
       "      <th>1</th>\n",
       "      <td>2</td>\n",
       "      <td>90</td>\n",
       "      <td>0.133333</td>\n",
       "    </tr>\n",
       "    <tr>\n",
       "      <th>2</th>\n",
       "      <td>3</td>\n",
       "      <td>277</td>\n",
       "      <td>0.732852</td>\n",
       "    </tr>\n",
       "    <tr>\n",
       "      <th>3</th>\n",
       "      <td>4</td>\n",
       "      <td>329</td>\n",
       "      <td>0.446809</td>\n",
       "    </tr>\n",
       "    <tr>\n",
       "      <th>4</th>\n",
       "      <td>5</td>\n",
       "      <td>15</td>\n",
       "      <td>0.000000</td>\n",
       "    </tr>\n",
       "  </tbody>\n",
       "</table>\n",
       "</div>"
      ],
      "text/plain": [
       "   product_id  p_total_purchases  p_reorder_ratio\n",
       "0           1               1852         0.613391\n",
       "1           2                 90         0.133333\n",
       "2           3                277         0.732852\n",
       "3           4                329         0.446809\n",
       "4           5                 15         0.000000"
      ]
     },
     "execution_count": 57,
     "metadata": {},
     "output_type": "execute_result"
    }
   ],
   "source": [
    "prd = prd.merge(p_reorder, on='product_id', how='left')\n",
    "prd['p_reorder_ratio'] = prd['p_reorder_ratio'].fillna(value=0)\n",
    "\n",
    "del p_reorder\n",
    "gc.collect()\n",
    "\n",
    "prd.head()"
   ]
  },
  {
   "cell_type": "code",
   "execution_count": 58,
   "id": "fe6e9e0c",
   "metadata": {},
   "outputs": [
    {
     "data": {
      "text/html": [
       "<div>\n",
       "<style scoped>\n",
       "    .dataframe tbody tr th:only-of-type {\n",
       "        vertical-align: middle;\n",
       "    }\n",
       "\n",
       "    .dataframe tbody tr th {\n",
       "        vertical-align: top;\n",
       "    }\n",
       "\n",
       "    .dataframe thead th {\n",
       "        text-align: right;\n",
       "    }\n",
       "</style>\n",
       "<table border=\"1\" class=\"dataframe\">\n",
       "  <thead>\n",
       "    <tr style=\"text-align: right;\">\n",
       "      <th></th>\n",
       "      <th>user_id</th>\n",
       "      <th>product_id</th>\n",
       "      <th>uxp_total_bought</th>\n",
       "    </tr>\n",
       "  </thead>\n",
       "  <tbody>\n",
       "    <tr>\n",
       "      <th>0</th>\n",
       "      <td>1</td>\n",
       "      <td>196</td>\n",
       "      <td>10</td>\n",
       "    </tr>\n",
       "    <tr>\n",
       "      <th>1</th>\n",
       "      <td>1</td>\n",
       "      <td>10258</td>\n",
       "      <td>9</td>\n",
       "    </tr>\n",
       "    <tr>\n",
       "      <th>2</th>\n",
       "      <td>1</td>\n",
       "      <td>10326</td>\n",
       "      <td>1</td>\n",
       "    </tr>\n",
       "    <tr>\n",
       "      <th>3</th>\n",
       "      <td>1</td>\n",
       "      <td>12427</td>\n",
       "      <td>10</td>\n",
       "    </tr>\n",
       "    <tr>\n",
       "      <th>4</th>\n",
       "      <td>1</td>\n",
       "      <td>13032</td>\n",
       "      <td>3</td>\n",
       "    </tr>\n",
       "  </tbody>\n",
       "</table>\n",
       "</div>"
      ],
      "text/plain": [
       "   user_id  product_id  uxp_total_bought\n",
       "0        1         196                10\n",
       "1        1       10258                 9\n",
       "2        1       10326                 1\n",
       "3        1       12427                10\n",
       "4        1       13032                 3"
      ]
     },
     "execution_count": 58,
     "metadata": {},
     "output_type": "execute_result"
    }
   ],
   "source": [
    "uxp = order_products_pr.groupby(['user_id', 'product_id'])['order_id'].count().to_frame('uxp_total_bought').reset_index()\n",
    "uxp.head()"
   ]
  },
  {
   "cell_type": "code",
   "execution_count": 67,
   "id": "0fbdb157",
   "metadata": {},
   "outputs": [
    {
     "data": {
      "text/html": [
       "<div>\n",
       "<style scoped>\n",
       "    .dataframe tbody tr th:only-of-type {\n",
       "        vertical-align: middle;\n",
       "    }\n",
       "\n",
       "    .dataframe tbody tr th {\n",
       "        vertical-align: top;\n",
       "    }\n",
       "\n",
       "    .dataframe thead th {\n",
       "        text-align: right;\n",
       "    }\n",
       "</style>\n",
       "<table border=\"1\" class=\"dataframe\">\n",
       "  <thead>\n",
       "    <tr style=\"text-align: right;\">\n",
       "      <th></th>\n",
       "      <th>user_id</th>\n",
       "      <th>product_id</th>\n",
       "      <th>reordered_latest</th>\n",
       "    </tr>\n",
       "  </thead>\n",
       "  <tbody>\n",
       "    <tr>\n",
       "      <th>0</th>\n",
       "      <td>59897</td>\n",
       "      <td>9755</td>\n",
       "      <td>1</td>\n",
       "    </tr>\n",
       "    <tr>\n",
       "      <th>1</th>\n",
       "      <td>59897</td>\n",
       "      <td>31487</td>\n",
       "      <td>0</td>\n",
       "    </tr>\n",
       "    <tr>\n",
       "      <th>2</th>\n",
       "      <td>59897</td>\n",
       "      <td>37510</td>\n",
       "      <td>1</td>\n",
       "    </tr>\n",
       "    <tr>\n",
       "      <th>3</th>\n",
       "      <td>59897</td>\n",
       "      <td>14576</td>\n",
       "      <td>1</td>\n",
       "    </tr>\n",
       "    <tr>\n",
       "      <th>4</th>\n",
       "      <td>59897</td>\n",
       "      <td>22105</td>\n",
       "      <td>0</td>\n",
       "    </tr>\n",
       "  </tbody>\n",
       "</table>\n",
       "</div>"
      ],
      "text/plain": [
       "   user_id  product_id  reordered_latest\n",
       "0    59897        9755                 1\n",
       "1    59897       31487                 0\n",
       "2    59897       37510                 1\n",
       "3    59897       14576                 1\n",
       "4    59897       22105                 0"
      ]
     },
     "execution_count": 67,
     "metadata": {},
     "output_type": "execute_result"
    }
   ],
   "source": [
    "# get the products and reorder status of the latest purchase of each user #\n",
    "prior_grouped_df = order_products_pr.groupby(\"user_id\")[\"order_number\"].aggregate(\"max\").reset_index()\n",
    "prior_df_latest = pd.merge(order_products_pr, prior_grouped_df, how=\"inner\", on=[\"user_id\", \"order_number\"])\n",
    "prior_df_latest = prior_df_latest[[\"user_id\", \"product_id\", \"reordered\"]]\n",
    "prior_df_latest.columns = [\"user_id\", \"product_id\", \"reordered_latest\"]\n",
    "prior_df_latest.head()"
   ]
  },
  {
   "cell_type": "code",
   "execution_count": 68,
   "id": "7d2dc8e4",
   "metadata": {},
   "outputs": [
    {
     "data": {
      "text/html": [
       "<div>\n",
       "<style scoped>\n",
       "    .dataframe tbody tr th:only-of-type {\n",
       "        vertical-align: middle;\n",
       "    }\n",
       "\n",
       "    .dataframe tbody tr th {\n",
       "        vertical-align: top;\n",
       "    }\n",
       "\n",
       "    .dataframe thead th {\n",
       "        text-align: right;\n",
       "    }\n",
       "</style>\n",
       "<table border=\"1\" class=\"dataframe\">\n",
       "  <thead>\n",
       "    <tr style=\"text-align: right;\">\n",
       "      <th></th>\n",
       "      <th>user_id</th>\n",
       "      <th>product_id</th>\n",
       "      <th>reordered_count</th>\n",
       "      <th>reordered_sum</th>\n",
       "    </tr>\n",
       "  </thead>\n",
       "  <tbody>\n",
       "    <tr>\n",
       "      <th>0</th>\n",
       "      <td>1</td>\n",
       "      <td>196</td>\n",
       "      <td>10</td>\n",
       "      <td>9</td>\n",
       "    </tr>\n",
       "    <tr>\n",
       "      <th>1</th>\n",
       "      <td>1</td>\n",
       "      <td>10258</td>\n",
       "      <td>9</td>\n",
       "      <td>8</td>\n",
       "    </tr>\n",
       "    <tr>\n",
       "      <th>2</th>\n",
       "      <td>1</td>\n",
       "      <td>10326</td>\n",
       "      <td>1</td>\n",
       "      <td>0</td>\n",
       "    </tr>\n",
       "    <tr>\n",
       "      <th>3</th>\n",
       "      <td>1</td>\n",
       "      <td>12427</td>\n",
       "      <td>10</td>\n",
       "      <td>9</td>\n",
       "    </tr>\n",
       "    <tr>\n",
       "      <th>4</th>\n",
       "      <td>1</td>\n",
       "      <td>13032</td>\n",
       "      <td>3</td>\n",
       "      <td>2</td>\n",
       "    </tr>\n",
       "  </tbody>\n",
       "</table>\n",
       "</div>"
      ],
      "text/plain": [
       "   user_id  product_id  reordered_count  reordered_sum\n",
       "0        1         196               10              9\n",
       "1        1       10258                9              8\n",
       "2        1       10326                1              0\n",
       "3        1       12427               10              9\n",
       "4        1       13032                3              2"
      ]
     },
     "execution_count": 68,
     "metadata": {},
     "output_type": "execute_result"
    }
   ],
   "source": [
    "# get the count of each product and number of reorders by the customer #\n",
    "prior_df_agg = order_products_pr.groupby([\"user_id\",\"product_id\"])[\"reordered\"].aggregate([\"count\", \"sum\"]).reset_index()\n",
    "prior_df_agg.columns = [\"user_id\", \"product_id\", \"reordered_count\", \"reordered_sum\"]\n",
    "prior_df_agg.head()"
   ]
  },
  {
   "cell_type": "code",
   "execution_count": 69,
   "id": "054cedb3",
   "metadata": {},
   "outputs": [
    {
     "data": {
      "text/html": [
       "<div>\n",
       "<style scoped>\n",
       "    .dataframe tbody tr th:only-of-type {\n",
       "        vertical-align: middle;\n",
       "    }\n",
       "\n",
       "    .dataframe tbody tr th {\n",
       "        vertical-align: top;\n",
       "    }\n",
       "\n",
       "    .dataframe thead th {\n",
       "        text-align: right;\n",
       "    }\n",
       "</style>\n",
       "<table border=\"1\" class=\"dataframe\">\n",
       "  <thead>\n",
       "    <tr style=\"text-align: right;\">\n",
       "      <th></th>\n",
       "      <th>user_id</th>\n",
       "      <th>product_id</th>\n",
       "      <th>reordered_count</th>\n",
       "      <th>reordered_sum</th>\n",
       "      <th>reordered_latest</th>\n",
       "    </tr>\n",
       "  </thead>\n",
       "  <tbody>\n",
       "    <tr>\n",
       "      <th>0</th>\n",
       "      <td>1</td>\n",
       "      <td>196</td>\n",
       "      <td>10</td>\n",
       "      <td>9</td>\n",
       "      <td>1.0</td>\n",
       "    </tr>\n",
       "    <tr>\n",
       "      <th>1</th>\n",
       "      <td>1</td>\n",
       "      <td>10258</td>\n",
       "      <td>9</td>\n",
       "      <td>8</td>\n",
       "      <td>1.0</td>\n",
       "    </tr>\n",
       "    <tr>\n",
       "      <th>2</th>\n",
       "      <td>1</td>\n",
       "      <td>10326</td>\n",
       "      <td>1</td>\n",
       "      <td>0</td>\n",
       "      <td>NaN</td>\n",
       "    </tr>\n",
       "    <tr>\n",
       "      <th>3</th>\n",
       "      <td>1</td>\n",
       "      <td>12427</td>\n",
       "      <td>10</td>\n",
       "      <td>9</td>\n",
       "      <td>1.0</td>\n",
       "    </tr>\n",
       "    <tr>\n",
       "      <th>4</th>\n",
       "      <td>1</td>\n",
       "      <td>13032</td>\n",
       "      <td>3</td>\n",
       "      <td>2</td>\n",
       "      <td>1.0</td>\n",
       "    </tr>\n",
       "  </tbody>\n",
       "</table>\n",
       "</div>"
      ],
      "text/plain": [
       "   user_id  product_id  reordered_count  reordered_sum  reordered_latest\n",
       "0        1         196               10              9               1.0\n",
       "1        1       10258                9              8               1.0\n",
       "2        1       10326                1              0               NaN\n",
       "3        1       12427               10              9               1.0\n",
       "4        1       13032                3              2               1.0"
      ]
     },
     "execution_count": 69,
     "metadata": {},
     "output_type": "execute_result"
    }
   ],
   "source": [
    "prior_df_merge = pd.merge(prior_df_agg, prior_df_latest, how=\"left\", on=[\"user_id\",\"product_id\"])\n",
    "prior_df_merge.head()"
   ]
  },
  {
   "cell_type": "code",
   "execution_count": 71,
   "id": "93aa5552",
   "metadata": {},
   "outputs": [
    {
     "data": {
      "text/html": [
       "<div>\n",
       "<style scoped>\n",
       "    .dataframe tbody tr th:only-of-type {\n",
       "        vertical-align: middle;\n",
       "    }\n",
       "\n",
       "    .dataframe tbody tr th {\n",
       "        vertical-align: top;\n",
       "    }\n",
       "\n",
       "    .dataframe thead th {\n",
       "        text-align: right;\n",
       "    }\n",
       "</style>\n",
       "<table border=\"1\" class=\"dataframe\">\n",
       "  <thead>\n",
       "    <tr style=\"text-align: right;\">\n",
       "      <th></th>\n",
       "      <th>order_id</th>\n",
       "    </tr>\n",
       "  </thead>\n",
       "  <tbody>\n",
       "    <tr>\n",
       "      <th>0</th>\n",
       "      <td>1</td>\n",
       "    </tr>\n",
       "    <tr>\n",
       "      <th>1</th>\n",
       "      <td>36</td>\n",
       "    </tr>\n",
       "    <tr>\n",
       "      <th>2</th>\n",
       "      <td>38</td>\n",
       "    </tr>\n",
       "    <tr>\n",
       "      <th>3</th>\n",
       "      <td>96</td>\n",
       "    </tr>\n",
       "    <tr>\n",
       "      <th>4</th>\n",
       "      <td>98</td>\n",
       "    </tr>\n",
       "  </tbody>\n",
       "</table>\n",
       "</div>"
      ],
      "text/plain": [
       "   order_id\n",
       "0         1\n",
       "1        36\n",
       "2        38\n",
       "3        96\n",
       "4        98"
      ]
     },
     "execution_count": 71,
     "metadata": {},
     "output_type": "execute_result"
    }
   ],
   "source": [
    "# orders = orders.drop([\"order_number\"],axis=1)\n",
    "\n",
    "train_df = pd.read_csv(\"data/order_products__train.csv\", usecols=[\"order_id\"])\n",
    "train_df = train_df.groupby(\"order_id\").aggregate(\"count\").reset_index()\n",
    "train_df.head()"
   ]
  },
  {
   "cell_type": "code",
   "execution_count": 72,
   "id": "d02d87f5",
   "metadata": {},
   "outputs": [
    {
     "data": {
      "text/html": [
       "<div>\n",
       "<style scoped>\n",
       "    .dataframe tbody tr th:only-of-type {\n",
       "        vertical-align: middle;\n",
       "    }\n",
       "\n",
       "    .dataframe tbody tr th {\n",
       "        vertical-align: top;\n",
       "    }\n",
       "\n",
       "    .dataframe thead th {\n",
       "        text-align: right;\n",
       "    }\n",
       "</style>\n",
       "<table border=\"1\" class=\"dataframe\">\n",
       "  <thead>\n",
       "    <tr style=\"text-align: right;\">\n",
       "      <th></th>\n",
       "      <th>order_id</th>\n",
       "      <th>user_id</th>\n",
       "    </tr>\n",
       "  </thead>\n",
       "  <tbody>\n",
       "    <tr>\n",
       "      <th>0</th>\n",
       "      <td>1</td>\n",
       "      <td>112108</td>\n",
       "    </tr>\n",
       "    <tr>\n",
       "      <th>1</th>\n",
       "      <td>36</td>\n",
       "      <td>79431</td>\n",
       "    </tr>\n",
       "    <tr>\n",
       "      <th>2</th>\n",
       "      <td>38</td>\n",
       "      <td>42756</td>\n",
       "    </tr>\n",
       "    <tr>\n",
       "      <th>3</th>\n",
       "      <td>96</td>\n",
       "      <td>17227</td>\n",
       "    </tr>\n",
       "    <tr>\n",
       "      <th>4</th>\n",
       "      <td>98</td>\n",
       "      <td>56463</td>\n",
       "    </tr>\n",
       "  </tbody>\n",
       "</table>\n",
       "</div>"
      ],
      "text/plain": [
       "   order_id  user_id\n",
       "0         1   112108\n",
       "1        36    79431\n",
       "2        38    42756\n",
       "3        96    17227\n",
       "4        98    56463"
      ]
     },
     "execution_count": 72,
     "metadata": {},
     "output_type": "execute_result"
    }
   ],
   "source": [
    "train_df = pd.merge(train_df, orders, how=\"inner\", on=\"order_id\")\n",
    "\n",
    "train_df = train_df.loc[:,[\"order_id\", \"user_id\"]]\n",
    "train_df.head()"
   ]
  },
  {
   "cell_type": "code",
   "execution_count": 74,
   "id": "a9d6f707",
   "metadata": {},
   "outputs": [
    {
     "data": {
      "text/html": [
       "<div>\n",
       "<style scoped>\n",
       "    .dataframe tbody tr th:only-of-type {\n",
       "        vertical-align: middle;\n",
       "    }\n",
       "\n",
       "    .dataframe tbody tr th {\n",
       "        vertical-align: top;\n",
       "    }\n",
       "\n",
       "    .dataframe thead th {\n",
       "        text-align: right;\n",
       "    }\n",
       "</style>\n",
       "<table border=\"1\" class=\"dataframe\">\n",
       "  <thead>\n",
       "    <tr style=\"text-align: right;\">\n",
       "      <th></th>\n",
       "      <th>order_id</th>\n",
       "      <th>user_id</th>\n",
       "    </tr>\n",
       "  </thead>\n",
       "  <tbody>\n",
       "    <tr>\n",
       "      <th>0</th>\n",
       "      <td>17</td>\n",
       "      <td>36855</td>\n",
       "    </tr>\n",
       "    <tr>\n",
       "      <th>1</th>\n",
       "      <td>34</td>\n",
       "      <td>35220</td>\n",
       "    </tr>\n",
       "    <tr>\n",
       "      <th>2</th>\n",
       "      <td>137</td>\n",
       "      <td>187107</td>\n",
       "    </tr>\n",
       "    <tr>\n",
       "      <th>3</th>\n",
       "      <td>182</td>\n",
       "      <td>115892</td>\n",
       "    </tr>\n",
       "    <tr>\n",
       "      <th>4</th>\n",
       "      <td>257</td>\n",
       "      <td>35581</td>\n",
       "    </tr>\n",
       "  </tbody>\n",
       "</table>\n",
       "</div>"
      ],
      "text/plain": [
       "   order_id  user_id\n",
       "0        17    36855\n",
       "1        34    35220\n",
       "2       137   187107\n",
       "3       182   115892\n",
       "4       257    35581"
      ]
     },
     "execution_count": 74,
     "metadata": {},
     "output_type": "execute_result"
    }
   ],
   "source": [
    "test_df = pd.read_csv(\"data/sample_submission.csv\", usecols=[\"order_id\"])\n",
    "test_df = pd.merge(test_df, orders, how=\"inner\", on=\"order_id\")\n",
    "test_df = test_df.loc[:,[\"order_id\", \"user_id\"]]\n",
    "test_df.head()"
   ]
  },
  {
   "cell_type": "code",
   "execution_count": 75,
   "id": "4f0e13db",
   "metadata": {},
   "outputs": [
    {
     "data": {
      "text/html": [
       "<div>\n",
       "<style scoped>\n",
       "    .dataframe tbody tr th:only-of-type {\n",
       "        vertical-align: middle;\n",
       "    }\n",
       "\n",
       "    .dataframe tbody tr th {\n",
       "        vertical-align: top;\n",
       "    }\n",
       "\n",
       "    .dataframe thead th {\n",
       "        text-align: right;\n",
       "    }\n",
       "</style>\n",
       "<table border=\"1\" class=\"dataframe\">\n",
       "  <thead>\n",
       "    <tr style=\"text-align: right;\">\n",
       "      <th></th>\n",
       "      <th>order_id</th>\n",
       "      <th>user_id</th>\n",
       "      <th>product_id</th>\n",
       "      <th>reordered_count</th>\n",
       "      <th>reordered_sum</th>\n",
       "      <th>reordered_latest</th>\n",
       "    </tr>\n",
       "  </thead>\n",
       "  <tbody>\n",
       "    <tr>\n",
       "      <th>0</th>\n",
       "      <td>1</td>\n",
       "      <td>112108</td>\n",
       "      <td>2067</td>\n",
       "      <td>1</td>\n",
       "      <td>0</td>\n",
       "      <td>NaN</td>\n",
       "    </tr>\n",
       "    <tr>\n",
       "      <th>1</th>\n",
       "      <td>1</td>\n",
       "      <td>112108</td>\n",
       "      <td>5707</td>\n",
       "      <td>2</td>\n",
       "      <td>1</td>\n",
       "      <td>1.0</td>\n",
       "    </tr>\n",
       "    <tr>\n",
       "      <th>2</th>\n",
       "      <td>1</td>\n",
       "      <td>112108</td>\n",
       "      <td>11109</td>\n",
       "      <td>2</td>\n",
       "      <td>1</td>\n",
       "      <td>NaN</td>\n",
       "    </tr>\n",
       "    <tr>\n",
       "      <th>3</th>\n",
       "      <td>1</td>\n",
       "      <td>112108</td>\n",
       "      <td>14947</td>\n",
       "      <td>3</td>\n",
       "      <td>2</td>\n",
       "      <td>1.0</td>\n",
       "    </tr>\n",
       "    <tr>\n",
       "      <th>4</th>\n",
       "      <td>1</td>\n",
       "      <td>112108</td>\n",
       "      <td>22035</td>\n",
       "      <td>2</td>\n",
       "      <td>1</td>\n",
       "      <td>NaN</td>\n",
       "    </tr>\n",
       "  </tbody>\n",
       "</table>\n",
       "</div>"
      ],
      "text/plain": [
       "   order_id  user_id  product_id  reordered_count  reordered_sum  \\\n",
       "0         1   112108        2067                1              0   \n",
       "1         1   112108        5707                2              1   \n",
       "2         1   112108       11109                2              1   \n",
       "3         1   112108       14947                3              2   \n",
       "4         1   112108       22035                2              1   \n",
       "\n",
       "   reordered_latest  \n",
       "0               NaN  \n",
       "1               1.0  \n",
       "2               NaN  \n",
       "3               1.0  \n",
       "4               NaN  "
      ]
     },
     "execution_count": 75,
     "metadata": {},
     "output_type": "execute_result"
    }
   ],
   "source": [
    "train_df = pd.merge(train_df, prior_df_merge, how=\"inner\", on=\"user_id\")\n",
    "train_df.head()"
   ]
  },
  {
   "cell_type": "code",
   "execution_count": 76,
   "id": "678af793",
   "metadata": {},
   "outputs": [
    {
     "data": {
      "text/html": [
       "<div>\n",
       "<style scoped>\n",
       "    .dataframe tbody tr th:only-of-type {\n",
       "        vertical-align: middle;\n",
       "    }\n",
       "\n",
       "    .dataframe tbody tr th {\n",
       "        vertical-align: top;\n",
       "    }\n",
       "\n",
       "    .dataframe thead th {\n",
       "        text-align: right;\n",
       "    }\n",
       "</style>\n",
       "<table border=\"1\" class=\"dataframe\">\n",
       "  <thead>\n",
       "    <tr style=\"text-align: right;\">\n",
       "      <th></th>\n",
       "      <th>order_id</th>\n",
       "      <th>user_id</th>\n",
       "      <th>product_id</th>\n",
       "      <th>reordered_count</th>\n",
       "      <th>reordered_sum</th>\n",
       "      <th>reordered_latest</th>\n",
       "    </tr>\n",
       "  </thead>\n",
       "  <tbody>\n",
       "    <tr>\n",
       "      <th>0</th>\n",
       "      <td>17</td>\n",
       "      <td>36855</td>\n",
       "      <td>1283</td>\n",
       "      <td>1</td>\n",
       "      <td>0</td>\n",
       "      <td>NaN</td>\n",
       "    </tr>\n",
       "    <tr>\n",
       "      <th>1</th>\n",
       "      <td>17</td>\n",
       "      <td>36855</td>\n",
       "      <td>6291</td>\n",
       "      <td>1</td>\n",
       "      <td>0</td>\n",
       "      <td>NaN</td>\n",
       "    </tr>\n",
       "    <tr>\n",
       "      <th>2</th>\n",
       "      <td>17</td>\n",
       "      <td>36855</td>\n",
       "      <td>7035</td>\n",
       "      <td>1</td>\n",
       "      <td>0</td>\n",
       "      <td>NaN</td>\n",
       "    </tr>\n",
       "    <tr>\n",
       "      <th>3</th>\n",
       "      <td>17</td>\n",
       "      <td>36855</td>\n",
       "      <td>11494</td>\n",
       "      <td>1</td>\n",
       "      <td>0</td>\n",
       "      <td>NaN</td>\n",
       "    </tr>\n",
       "    <tr>\n",
       "      <th>4</th>\n",
       "      <td>17</td>\n",
       "      <td>36855</td>\n",
       "      <td>13107</td>\n",
       "      <td>3</td>\n",
       "      <td>2</td>\n",
       "      <td>1.0</td>\n",
       "    </tr>\n",
       "  </tbody>\n",
       "</table>\n",
       "</div>"
      ],
      "text/plain": [
       "   order_id  user_id  product_id  reordered_count  reordered_sum  \\\n",
       "0        17    36855        1283                1              0   \n",
       "1        17    36855        6291                1              0   \n",
       "2        17    36855        7035                1              0   \n",
       "3        17    36855       11494                1              0   \n",
       "4        17    36855       13107                3              2   \n",
       "\n",
       "   reordered_latest  \n",
       "0               NaN  \n",
       "1               NaN  \n",
       "2               NaN  \n",
       "3               NaN  \n",
       "4               1.0  "
      ]
     },
     "execution_count": 76,
     "metadata": {},
     "output_type": "execute_result"
    }
   ],
   "source": [
    "test_df = pd.merge(test_df, prior_df_merge, how=\"inner\", on=\"user_id\")\n",
    "test_df.head()"
   ]
  },
  {
   "cell_type": "code",
   "execution_count": 77,
   "id": "1d8f297c",
   "metadata": {},
   "outputs": [
    {
     "data": {
      "text/html": [
       "<div>\n",
       "<style scoped>\n",
       "    .dataframe tbody tr th:only-of-type {\n",
       "        vertical-align: middle;\n",
       "    }\n",
       "\n",
       "    .dataframe tbody tr th {\n",
       "        vertical-align: top;\n",
       "    }\n",
       "\n",
       "    .dataframe thead th {\n",
       "        text-align: right;\n",
       "    }\n",
       "</style>\n",
       "<table border=\"1\" class=\"dataframe\">\n",
       "  <thead>\n",
       "    <tr style=\"text-align: right;\">\n",
       "      <th></th>\n",
       "      <th>product_id</th>\n",
       "      <th>aisle_id</th>\n",
       "      <th>department_id</th>\n",
       "    </tr>\n",
       "  </thead>\n",
       "  <tbody>\n",
       "    <tr>\n",
       "      <th>0</th>\n",
       "      <td>1</td>\n",
       "      <td>61</td>\n",
       "      <td>19</td>\n",
       "    </tr>\n",
       "    <tr>\n",
       "      <th>1</th>\n",
       "      <td>2</td>\n",
       "      <td>104</td>\n",
       "      <td>13</td>\n",
       "    </tr>\n",
       "    <tr>\n",
       "      <th>2</th>\n",
       "      <td>3</td>\n",
       "      <td>94</td>\n",
       "      <td>7</td>\n",
       "    </tr>\n",
       "    <tr>\n",
       "      <th>3</th>\n",
       "      <td>4</td>\n",
       "      <td>38</td>\n",
       "      <td>1</td>\n",
       "    </tr>\n",
       "    <tr>\n",
       "      <th>4</th>\n",
       "      <td>5</td>\n",
       "      <td>5</td>\n",
       "      <td>13</td>\n",
       "    </tr>\n",
       "  </tbody>\n",
       "</table>\n",
       "</div>"
      ],
      "text/plain": [
       "   product_id  aisle_id  department_id\n",
       "0           1        61             19\n",
       "1           2       104             13\n",
       "2           3        94              7\n",
       "3           4        38              1\n",
       "4           5         5             13"
      ]
     },
     "execution_count": 77,
     "metadata": {},
     "output_type": "execute_result"
    }
   ],
   "source": [
    "products = pd.read_csv(\"data/products.csv\", usecols=[\"product_id\", \"aisle_id\", \"department_id\"])\n",
    "\n",
    "products.head()"
   ]
  },
  {
   "cell_type": "code",
   "execution_count": 78,
   "id": "f65452db",
   "metadata": {},
   "outputs": [
    {
     "data": {
      "text/html": [
       "<div>\n",
       "<style scoped>\n",
       "    .dataframe tbody tr th:only-of-type {\n",
       "        vertical-align: middle;\n",
       "    }\n",
       "\n",
       "    .dataframe tbody tr th {\n",
       "        vertical-align: top;\n",
       "    }\n",
       "\n",
       "    .dataframe thead th {\n",
       "        text-align: right;\n",
       "    }\n",
       "</style>\n",
       "<table border=\"1\" class=\"dataframe\">\n",
       "  <thead>\n",
       "    <tr style=\"text-align: right;\">\n",
       "      <th></th>\n",
       "      <th>order_id</th>\n",
       "      <th>user_id</th>\n",
       "      <th>product_id</th>\n",
       "      <th>reordered_count</th>\n",
       "      <th>reordered_sum</th>\n",
       "      <th>reordered_latest</th>\n",
       "      <th>aisle_id</th>\n",
       "      <th>department_id</th>\n",
       "    </tr>\n",
       "  </thead>\n",
       "  <tbody>\n",
       "    <tr>\n",
       "      <th>0</th>\n",
       "      <td>1</td>\n",
       "      <td>112108</td>\n",
       "      <td>2067</td>\n",
       "      <td>1</td>\n",
       "      <td>0</td>\n",
       "      <td>NaN</td>\n",
       "      <td>3</td>\n",
       "      <td>19</td>\n",
       "    </tr>\n",
       "    <tr>\n",
       "      <th>1</th>\n",
       "      <td>96</td>\n",
       "      <td>17227</td>\n",
       "      <td>2067</td>\n",
       "      <td>1</td>\n",
       "      <td>0</td>\n",
       "      <td>NaN</td>\n",
       "      <td>3</td>\n",
       "      <td>19</td>\n",
       "    </tr>\n",
       "    <tr>\n",
       "      <th>2</th>\n",
       "      <td>3243</td>\n",
       "      <td>206024</td>\n",
       "      <td>2067</td>\n",
       "      <td>1</td>\n",
       "      <td>0</td>\n",
       "      <td>NaN</td>\n",
       "      <td>3</td>\n",
       "      <td>19</td>\n",
       "    </tr>\n",
       "    <tr>\n",
       "      <th>3</th>\n",
       "      <td>12950</td>\n",
       "      <td>11456</td>\n",
       "      <td>2067</td>\n",
       "      <td>1</td>\n",
       "      <td>0</td>\n",
       "      <td>0.0</td>\n",
       "      <td>3</td>\n",
       "      <td>19</td>\n",
       "    </tr>\n",
       "    <tr>\n",
       "      <th>4</th>\n",
       "      <td>17683</td>\n",
       "      <td>177724</td>\n",
       "      <td>2067</td>\n",
       "      <td>1</td>\n",
       "      <td>0</td>\n",
       "      <td>NaN</td>\n",
       "      <td>3</td>\n",
       "      <td>19</td>\n",
       "    </tr>\n",
       "  </tbody>\n",
       "</table>\n",
       "</div>"
      ],
      "text/plain": [
       "   order_id  user_id  product_id  reordered_count  reordered_sum  \\\n",
       "0         1   112108        2067                1              0   \n",
       "1        96    17227        2067                1              0   \n",
       "2      3243   206024        2067                1              0   \n",
       "3     12950    11456        2067                1              0   \n",
       "4     17683   177724        2067                1              0   \n",
       "\n",
       "   reordered_latest  aisle_id  department_id  \n",
       "0               NaN         3             19  \n",
       "1               NaN         3             19  \n",
       "2               NaN         3             19  \n",
       "3               0.0         3             19  \n",
       "4               NaN         3             19  "
      ]
     },
     "execution_count": 78,
     "metadata": {},
     "output_type": "execute_result"
    }
   ],
   "source": [
    "train_df = pd.merge(train_df, products, how=\"inner\", on=\"product_id\")\n",
    "train_df.head()"
   ]
  },
  {
   "cell_type": "code",
   "execution_count": 79,
   "id": "aa92a5eb",
   "metadata": {},
   "outputs": [
    {
     "data": {
      "text/html": [
       "<div>\n",
       "<style scoped>\n",
       "    .dataframe tbody tr th:only-of-type {\n",
       "        vertical-align: middle;\n",
       "    }\n",
       "\n",
       "    .dataframe tbody tr th {\n",
       "        vertical-align: top;\n",
       "    }\n",
       "\n",
       "    .dataframe thead th {\n",
       "        text-align: right;\n",
       "    }\n",
       "</style>\n",
       "<table border=\"1\" class=\"dataframe\">\n",
       "  <thead>\n",
       "    <tr style=\"text-align: right;\">\n",
       "      <th></th>\n",
       "      <th>order_id</th>\n",
       "      <th>user_id</th>\n",
       "      <th>product_id</th>\n",
       "      <th>reordered_count</th>\n",
       "      <th>reordered_sum</th>\n",
       "      <th>reordered_latest</th>\n",
       "      <th>aisle_id</th>\n",
       "      <th>department_id</th>\n",
       "    </tr>\n",
       "  </thead>\n",
       "  <tbody>\n",
       "    <tr>\n",
       "      <th>0</th>\n",
       "      <td>17</td>\n",
       "      <td>36855</td>\n",
       "      <td>1283</td>\n",
       "      <td>1</td>\n",
       "      <td>0</td>\n",
       "      <td>NaN</td>\n",
       "      <td>100</td>\n",
       "      <td>21</td>\n",
       "    </tr>\n",
       "    <tr>\n",
       "      <th>1</th>\n",
       "      <td>657743</td>\n",
       "      <td>16994</td>\n",
       "      <td>1283</td>\n",
       "      <td>1</td>\n",
       "      <td>0</td>\n",
       "      <td>NaN</td>\n",
       "      <td>100</td>\n",
       "      <td>21</td>\n",
       "    </tr>\n",
       "    <tr>\n",
       "      <th>2</th>\n",
       "      <td>834223</td>\n",
       "      <td>92628</td>\n",
       "      <td>1283</td>\n",
       "      <td>1</td>\n",
       "      <td>0</td>\n",
       "      <td>NaN</td>\n",
       "      <td>100</td>\n",
       "      <td>21</td>\n",
       "    </tr>\n",
       "    <tr>\n",
       "      <th>3</th>\n",
       "      <td>1446886</td>\n",
       "      <td>75870</td>\n",
       "      <td>1283</td>\n",
       "      <td>1</td>\n",
       "      <td>0</td>\n",
       "      <td>NaN</td>\n",
       "      <td>100</td>\n",
       "      <td>21</td>\n",
       "    </tr>\n",
       "    <tr>\n",
       "      <th>4</th>\n",
       "      <td>1518981</td>\n",
       "      <td>118458</td>\n",
       "      <td>1283</td>\n",
       "      <td>3</td>\n",
       "      <td>2</td>\n",
       "      <td>NaN</td>\n",
       "      <td>100</td>\n",
       "      <td>21</td>\n",
       "    </tr>\n",
       "  </tbody>\n",
       "</table>\n",
       "</div>"
      ],
      "text/plain": [
       "   order_id  user_id  product_id  reordered_count  reordered_sum  \\\n",
       "0        17    36855        1283                1              0   \n",
       "1    657743    16994        1283                1              0   \n",
       "2    834223    92628        1283                1              0   \n",
       "3   1446886    75870        1283                1              0   \n",
       "4   1518981   118458        1283                3              2   \n",
       "\n",
       "   reordered_latest  aisle_id  department_id  \n",
       "0               NaN       100             21  \n",
       "1               NaN       100             21  \n",
       "2               NaN       100             21  \n",
       "3               NaN       100             21  \n",
       "4               NaN       100             21  "
      ]
     },
     "execution_count": 79,
     "metadata": {},
     "output_type": "execute_result"
    }
   ],
   "source": [
    "test_df = pd.merge(test_df, products, how=\"inner\", on=\"product_id\")\n",
    "test_df.head()"
   ]
  },
  {
   "cell_type": "code",
   "execution_count": 80,
   "id": "695d4fc0",
   "metadata": {},
   "outputs": [
    {
     "data": {
      "text/html": [
       "<div>\n",
       "<style scoped>\n",
       "    .dataframe tbody tr th:only-of-type {\n",
       "        vertical-align: middle;\n",
       "    }\n",
       "\n",
       "    .dataframe tbody tr th {\n",
       "        vertical-align: top;\n",
       "    }\n",
       "\n",
       "    .dataframe thead th {\n",
       "        text-align: right;\n",
       "    }\n",
       "</style>\n",
       "<table border=\"1\" class=\"dataframe\">\n",
       "  <thead>\n",
       "    <tr style=\"text-align: right;\">\n",
       "      <th></th>\n",
       "      <th>order_id</th>\n",
       "      <th>product_id</th>\n",
       "      <th>reordered</th>\n",
       "    </tr>\n",
       "  </thead>\n",
       "  <tbody>\n",
       "    <tr>\n",
       "      <th>0</th>\n",
       "      <td>1</td>\n",
       "      <td>49302</td>\n",
       "      <td>1</td>\n",
       "    </tr>\n",
       "    <tr>\n",
       "      <th>1</th>\n",
       "      <td>1</td>\n",
       "      <td>11109</td>\n",
       "      <td>1</td>\n",
       "    </tr>\n",
       "    <tr>\n",
       "      <th>2</th>\n",
       "      <td>1</td>\n",
       "      <td>10246</td>\n",
       "      <td>0</td>\n",
       "    </tr>\n",
       "    <tr>\n",
       "      <th>3</th>\n",
       "      <td>1</td>\n",
       "      <td>49683</td>\n",
       "      <td>0</td>\n",
       "    </tr>\n",
       "    <tr>\n",
       "      <th>4</th>\n",
       "      <td>1</td>\n",
       "      <td>43633</td>\n",
       "      <td>1</td>\n",
       "    </tr>\n",
       "  </tbody>\n",
       "</table>\n",
       "</div>"
      ],
      "text/plain": [
       "   order_id  product_id  reordered\n",
       "0         1       49302          1\n",
       "1         1       11109          1\n",
       "2         1       10246          0\n",
       "3         1       49683          0\n",
       "4         1       43633          1"
      ]
     },
     "execution_count": 80,
     "metadata": {},
     "output_type": "execute_result"
    }
   ],
   "source": [
    "train_y_df = pd.read_csv(\"data/order_products__train.csv\", usecols=[\"order_id\", \"product_id\", \"reordered\"])\n",
    "\n",
    "train_y_df.head()"
   ]
  },
  {
   "cell_type": "code",
   "execution_count": 81,
   "id": "65d84137",
   "metadata": {},
   "outputs": [
    {
     "name": "stdout",
     "output_type": "stream",
     "text": [
      "(8474661, 9)\n"
     ]
    },
    {
     "data": {
      "text/html": [
       "<div>\n",
       "<style scoped>\n",
       "    .dataframe tbody tr th:only-of-type {\n",
       "        vertical-align: middle;\n",
       "    }\n",
       "\n",
       "    .dataframe tbody tr th {\n",
       "        vertical-align: top;\n",
       "    }\n",
       "\n",
       "    .dataframe thead th {\n",
       "        text-align: right;\n",
       "    }\n",
       "</style>\n",
       "<table border=\"1\" class=\"dataframe\">\n",
       "  <thead>\n",
       "    <tr style=\"text-align: right;\">\n",
       "      <th></th>\n",
       "      <th>order_id</th>\n",
       "      <th>user_id</th>\n",
       "      <th>product_id</th>\n",
       "      <th>reordered_count</th>\n",
       "      <th>reordered_sum</th>\n",
       "      <th>reordered_latest</th>\n",
       "      <th>aisle_id</th>\n",
       "      <th>department_id</th>\n",
       "      <th>reordered</th>\n",
       "    </tr>\n",
       "  </thead>\n",
       "  <tbody>\n",
       "    <tr>\n",
       "      <th>0</th>\n",
       "      <td>1</td>\n",
       "      <td>112108</td>\n",
       "      <td>2067</td>\n",
       "      <td>1</td>\n",
       "      <td>0</td>\n",
       "      <td>NaN</td>\n",
       "      <td>3</td>\n",
       "      <td>19</td>\n",
       "      <td>0.0</td>\n",
       "    </tr>\n",
       "    <tr>\n",
       "      <th>1</th>\n",
       "      <td>96</td>\n",
       "      <td>17227</td>\n",
       "      <td>2067</td>\n",
       "      <td>1</td>\n",
       "      <td>0</td>\n",
       "      <td>NaN</td>\n",
       "      <td>3</td>\n",
       "      <td>19</td>\n",
       "      <td>0.0</td>\n",
       "    </tr>\n",
       "    <tr>\n",
       "      <th>2</th>\n",
       "      <td>3243</td>\n",
       "      <td>206024</td>\n",
       "      <td>2067</td>\n",
       "      <td>1</td>\n",
       "      <td>0</td>\n",
       "      <td>NaN</td>\n",
       "      <td>3</td>\n",
       "      <td>19</td>\n",
       "      <td>0.0</td>\n",
       "    </tr>\n",
       "    <tr>\n",
       "      <th>3</th>\n",
       "      <td>12950</td>\n",
       "      <td>11456</td>\n",
       "      <td>2067</td>\n",
       "      <td>1</td>\n",
       "      <td>0</td>\n",
       "      <td>0.0</td>\n",
       "      <td>3</td>\n",
       "      <td>19</td>\n",
       "      <td>0.0</td>\n",
       "    </tr>\n",
       "    <tr>\n",
       "      <th>4</th>\n",
       "      <td>17683</td>\n",
       "      <td>177724</td>\n",
       "      <td>2067</td>\n",
       "      <td>1</td>\n",
       "      <td>0</td>\n",
       "      <td>NaN</td>\n",
       "      <td>3</td>\n",
       "      <td>19</td>\n",
       "      <td>0.0</td>\n",
       "    </tr>\n",
       "  </tbody>\n",
       "</table>\n",
       "</div>"
      ],
      "text/plain": [
       "   order_id  user_id  product_id  reordered_count  reordered_sum  \\\n",
       "0         1   112108        2067                1              0   \n",
       "1        96    17227        2067                1              0   \n",
       "2      3243   206024        2067                1              0   \n",
       "3     12950    11456        2067                1              0   \n",
       "4     17683   177724        2067                1              0   \n",
       "\n",
       "   reordered_latest  aisle_id  department_id  reordered  \n",
       "0               NaN         3             19        0.0  \n",
       "1               NaN         3             19        0.0  \n",
       "2               NaN         3             19        0.0  \n",
       "3               0.0         3             19        0.0  \n",
       "4               NaN         3             19        0.0  "
      ]
     },
     "execution_count": 81,
     "metadata": {},
     "output_type": "execute_result"
    }
   ],
   "source": [
    "train_y_df = pd.merge(train_y_df, orders, how=\"inner\", on=\"order_id\")\n",
    "train_y_df = train_y_df[[\"user_id\", \"product_id\", \"reordered\"]]\n",
    "train_df = pd.merge(train_df, train_y_df, how=\"left\", on=[\"user_id\", \"product_id\"])\n",
    "train_df[\"reordered\"].fillna(0, inplace=True)\n",
    "train_df.head()"
   ]
  },
  {
   "cell_type": "code",
   "execution_count": 82,
   "id": "58c80c12",
   "metadata": {},
   "outputs": [
    {
     "data": {
      "text/html": [
       "<div>\n",
       "<style scoped>\n",
       "    .dataframe tbody tr th:only-of-type {\n",
       "        vertical-align: middle;\n",
       "    }\n",
       "\n",
       "    .dataframe tbody tr th {\n",
       "        vertical-align: top;\n",
       "    }\n",
       "\n",
       "    .dataframe thead th {\n",
       "        text-align: right;\n",
       "    }\n",
       "</style>\n",
       "<table border=\"1\" class=\"dataframe\">\n",
       "  <thead>\n",
       "    <tr style=\"text-align: right;\">\n",
       "      <th></th>\n",
       "      <th>order_id</th>\n",
       "      <th>user_id</th>\n",
       "      <th>product_id</th>\n",
       "      <th>reordered_count</th>\n",
       "      <th>reordered_sum</th>\n",
       "      <th>reordered_latest</th>\n",
       "      <th>aisle_id</th>\n",
       "      <th>department_id</th>\n",
       "      <th>reordered</th>\n",
       "      <th>u_total_orders</th>\n",
       "      <th>u_reordered_ratio</th>\n",
       "    </tr>\n",
       "  </thead>\n",
       "  <tbody>\n",
       "    <tr>\n",
       "      <th>0</th>\n",
       "      <td>1</td>\n",
       "      <td>112108</td>\n",
       "      <td>2067</td>\n",
       "      <td>1</td>\n",
       "      <td>0</td>\n",
       "      <td>NaN</td>\n",
       "      <td>3</td>\n",
       "      <td>19</td>\n",
       "      <td>0.0</td>\n",
       "      <td>3</td>\n",
       "      <td>0.428571</td>\n",
       "    </tr>\n",
       "    <tr>\n",
       "      <th>1</th>\n",
       "      <td>96</td>\n",
       "      <td>17227</td>\n",
       "      <td>2067</td>\n",
       "      <td>1</td>\n",
       "      <td>0</td>\n",
       "      <td>NaN</td>\n",
       "      <td>3</td>\n",
       "      <td>19</td>\n",
       "      <td>0.0</td>\n",
       "      <td>6</td>\n",
       "      <td>0.232558</td>\n",
       "    </tr>\n",
       "    <tr>\n",
       "      <th>2</th>\n",
       "      <td>3243</td>\n",
       "      <td>206024</td>\n",
       "      <td>2067</td>\n",
       "      <td>1</td>\n",
       "      <td>0</td>\n",
       "      <td>NaN</td>\n",
       "      <td>3</td>\n",
       "      <td>19</td>\n",
       "      <td>0.0</td>\n",
       "      <td>42</td>\n",
       "      <td>0.620896</td>\n",
       "    </tr>\n",
       "    <tr>\n",
       "      <th>3</th>\n",
       "      <td>12950</td>\n",
       "      <td>11456</td>\n",
       "      <td>2067</td>\n",
       "      <td>1</td>\n",
       "      <td>0</td>\n",
       "      <td>0.0</td>\n",
       "      <td>3</td>\n",
       "      <td>19</td>\n",
       "      <td>0.0</td>\n",
       "      <td>9</td>\n",
       "      <td>0.547619</td>\n",
       "    </tr>\n",
       "    <tr>\n",
       "      <th>4</th>\n",
       "      <td>17683</td>\n",
       "      <td>177724</td>\n",
       "      <td>2067</td>\n",
       "      <td>1</td>\n",
       "      <td>0</td>\n",
       "      <td>NaN</td>\n",
       "      <td>3</td>\n",
       "      <td>19</td>\n",
       "      <td>0.0</td>\n",
       "      <td>29</td>\n",
       "      <td>0.608586</td>\n",
       "    </tr>\n",
       "  </tbody>\n",
       "</table>\n",
       "</div>"
      ],
      "text/plain": [
       "   order_id  user_id  product_id  reordered_count  reordered_sum  \\\n",
       "0         1   112108        2067                1              0   \n",
       "1        96    17227        2067                1              0   \n",
       "2      3243   206024        2067                1              0   \n",
       "3     12950    11456        2067                1              0   \n",
       "4     17683   177724        2067                1              0   \n",
       "\n",
       "   reordered_latest  aisle_id  department_id  reordered  u_total_orders  \\\n",
       "0               NaN         3             19        0.0               3   \n",
       "1               NaN         3             19        0.0               6   \n",
       "2               NaN         3             19        0.0              42   \n",
       "3               0.0         3             19        0.0               9   \n",
       "4               NaN         3             19        0.0              29   \n",
       "\n",
       "   u_reordered_ratio  \n",
       "0           0.428571  \n",
       "1           0.232558  \n",
       "2           0.620896  \n",
       "3           0.547619  \n",
       "4           0.608586  "
      ]
     },
     "execution_count": 82,
     "metadata": {},
     "output_type": "execute_result"
    }
   ],
   "source": [
    "train_df = train_df.merge(user, on='user_id', how='left')\n",
    "train_df.head()"
   ]
  },
  {
   "cell_type": "code",
   "execution_count": 83,
   "id": "0a335610",
   "metadata": {},
   "outputs": [
    {
     "data": {
      "text/html": [
       "<div>\n",
       "<style scoped>\n",
       "    .dataframe tbody tr th:only-of-type {\n",
       "        vertical-align: middle;\n",
       "    }\n",
       "\n",
       "    .dataframe tbody tr th {\n",
       "        vertical-align: top;\n",
       "    }\n",
       "\n",
       "    .dataframe thead th {\n",
       "        text-align: right;\n",
       "    }\n",
       "</style>\n",
       "<table border=\"1\" class=\"dataframe\">\n",
       "  <thead>\n",
       "    <tr style=\"text-align: right;\">\n",
       "      <th></th>\n",
       "      <th>order_id</th>\n",
       "      <th>user_id</th>\n",
       "      <th>product_id</th>\n",
       "      <th>reordered_count</th>\n",
       "      <th>reordered_sum</th>\n",
       "      <th>reordered_latest</th>\n",
       "      <th>aisle_id</th>\n",
       "      <th>department_id</th>\n",
       "      <th>reordered</th>\n",
       "      <th>u_total_orders</th>\n",
       "      <th>u_reordered_ratio</th>\n",
       "      <th>p_total_purchases</th>\n",
       "      <th>p_reorder_ratio</th>\n",
       "    </tr>\n",
       "  </thead>\n",
       "  <tbody>\n",
       "    <tr>\n",
       "      <th>0</th>\n",
       "      <td>1</td>\n",
       "      <td>112108</td>\n",
       "      <td>2067</td>\n",
       "      <td>1</td>\n",
       "      <td>0</td>\n",
       "      <td>NaN</td>\n",
       "      <td>3</td>\n",
       "      <td>19</td>\n",
       "      <td>0.0</td>\n",
       "      <td>3</td>\n",
       "      <td>0.428571</td>\n",
       "      <td>3138</td>\n",
       "      <td>0.606119</td>\n",
       "    </tr>\n",
       "    <tr>\n",
       "      <th>1</th>\n",
       "      <td>96</td>\n",
       "      <td>17227</td>\n",
       "      <td>2067</td>\n",
       "      <td>1</td>\n",
       "      <td>0</td>\n",
       "      <td>NaN</td>\n",
       "      <td>3</td>\n",
       "      <td>19</td>\n",
       "      <td>0.0</td>\n",
       "      <td>6</td>\n",
       "      <td>0.232558</td>\n",
       "      <td>3138</td>\n",
       "      <td>0.606119</td>\n",
       "    </tr>\n",
       "    <tr>\n",
       "      <th>2</th>\n",
       "      <td>3243</td>\n",
       "      <td>206024</td>\n",
       "      <td>2067</td>\n",
       "      <td>1</td>\n",
       "      <td>0</td>\n",
       "      <td>NaN</td>\n",
       "      <td>3</td>\n",
       "      <td>19</td>\n",
       "      <td>0.0</td>\n",
       "      <td>42</td>\n",
       "      <td>0.620896</td>\n",
       "      <td>3138</td>\n",
       "      <td>0.606119</td>\n",
       "    </tr>\n",
       "    <tr>\n",
       "      <th>3</th>\n",
       "      <td>12950</td>\n",
       "      <td>11456</td>\n",
       "      <td>2067</td>\n",
       "      <td>1</td>\n",
       "      <td>0</td>\n",
       "      <td>0.0</td>\n",
       "      <td>3</td>\n",
       "      <td>19</td>\n",
       "      <td>0.0</td>\n",
       "      <td>9</td>\n",
       "      <td>0.547619</td>\n",
       "      <td>3138</td>\n",
       "      <td>0.606119</td>\n",
       "    </tr>\n",
       "    <tr>\n",
       "      <th>4</th>\n",
       "      <td>17683</td>\n",
       "      <td>177724</td>\n",
       "      <td>2067</td>\n",
       "      <td>1</td>\n",
       "      <td>0</td>\n",
       "      <td>NaN</td>\n",
       "      <td>3</td>\n",
       "      <td>19</td>\n",
       "      <td>0.0</td>\n",
       "      <td>29</td>\n",
       "      <td>0.608586</td>\n",
       "      <td>3138</td>\n",
       "      <td>0.606119</td>\n",
       "    </tr>\n",
       "  </tbody>\n",
       "</table>\n",
       "</div>"
      ],
      "text/plain": [
       "   order_id  user_id  product_id  reordered_count  reordered_sum  \\\n",
       "0         1   112108        2067                1              0   \n",
       "1        96    17227        2067                1              0   \n",
       "2      3243   206024        2067                1              0   \n",
       "3     12950    11456        2067                1              0   \n",
       "4     17683   177724        2067                1              0   \n",
       "\n",
       "   reordered_latest  aisle_id  department_id  reordered  u_total_orders  \\\n",
       "0               NaN         3             19        0.0               3   \n",
       "1               NaN         3             19        0.0               6   \n",
       "2               NaN         3             19        0.0              42   \n",
       "3               0.0         3             19        0.0               9   \n",
       "4               NaN         3             19        0.0              29   \n",
       "\n",
       "   u_reordered_ratio  p_total_purchases  p_reorder_ratio  \n",
       "0           0.428571               3138         0.606119  \n",
       "1           0.232558               3138         0.606119  \n",
       "2           0.620896               3138         0.606119  \n",
       "3           0.547619               3138         0.606119  \n",
       "4           0.608586               3138         0.606119  "
      ]
     },
     "execution_count": 83,
     "metadata": {},
     "output_type": "execute_result"
    }
   ],
   "source": [
    "train_df = train_df.merge(prd, on='product_id', how='left')\n",
    "train_df.head()"
   ]
  },
  {
   "cell_type": "code",
   "execution_count": 90,
   "id": "3488178b",
   "metadata": {},
   "outputs": [
    {
     "data": {
      "text/html": [
       "<div>\n",
       "<style scoped>\n",
       "    .dataframe tbody tr th:only-of-type {\n",
       "        vertical-align: middle;\n",
       "    }\n",
       "\n",
       "    .dataframe tbody tr th {\n",
       "        vertical-align: top;\n",
       "    }\n",
       "\n",
       "    .dataframe thead th {\n",
       "        text-align: right;\n",
       "    }\n",
       "</style>\n",
       "<table border=\"1\" class=\"dataframe\">\n",
       "  <thead>\n",
       "    <tr style=\"text-align: right;\">\n",
       "      <th></th>\n",
       "      <th>order_id</th>\n",
       "      <th>user_id</th>\n",
       "      <th>product_id</th>\n",
       "      <th>reordered_count</th>\n",
       "      <th>reordered_sum</th>\n",
       "      <th>reordered_latest</th>\n",
       "      <th>aisle_id</th>\n",
       "      <th>department_id</th>\n",
       "      <th>reordered</th>\n",
       "      <th>u_total_orders</th>\n",
       "      <th>u_reordered_ratio</th>\n",
       "      <th>p_total_purchases</th>\n",
       "      <th>p_reorder_ratio</th>\n",
       "      <th>uxp_total_bought</th>\n",
       "    </tr>\n",
       "  </thead>\n",
       "  <tbody>\n",
       "    <tr>\n",
       "      <th>0</th>\n",
       "      <td>1</td>\n",
       "      <td>112108</td>\n",
       "      <td>2067</td>\n",
       "      <td>1</td>\n",
       "      <td>0</td>\n",
       "      <td>NaN</td>\n",
       "      <td>3</td>\n",
       "      <td>19</td>\n",
       "      <td>0.0</td>\n",
       "      <td>3</td>\n",
       "      <td>0.428571</td>\n",
       "      <td>3138</td>\n",
       "      <td>0.606119</td>\n",
       "      <td>1</td>\n",
       "    </tr>\n",
       "    <tr>\n",
       "      <th>1</th>\n",
       "      <td>96</td>\n",
       "      <td>17227</td>\n",
       "      <td>2067</td>\n",
       "      <td>1</td>\n",
       "      <td>0</td>\n",
       "      <td>NaN</td>\n",
       "      <td>3</td>\n",
       "      <td>19</td>\n",
       "      <td>0.0</td>\n",
       "      <td>6</td>\n",
       "      <td>0.232558</td>\n",
       "      <td>3138</td>\n",
       "      <td>0.606119</td>\n",
       "      <td>1</td>\n",
       "    </tr>\n",
       "    <tr>\n",
       "      <th>2</th>\n",
       "      <td>3243</td>\n",
       "      <td>206024</td>\n",
       "      <td>2067</td>\n",
       "      <td>1</td>\n",
       "      <td>0</td>\n",
       "      <td>NaN</td>\n",
       "      <td>3</td>\n",
       "      <td>19</td>\n",
       "      <td>0.0</td>\n",
       "      <td>42</td>\n",
       "      <td>0.620896</td>\n",
       "      <td>3138</td>\n",
       "      <td>0.606119</td>\n",
       "      <td>1</td>\n",
       "    </tr>\n",
       "    <tr>\n",
       "      <th>3</th>\n",
       "      <td>12950</td>\n",
       "      <td>11456</td>\n",
       "      <td>2067</td>\n",
       "      <td>1</td>\n",
       "      <td>0</td>\n",
       "      <td>0.0</td>\n",
       "      <td>3</td>\n",
       "      <td>19</td>\n",
       "      <td>0.0</td>\n",
       "      <td>9</td>\n",
       "      <td>0.547619</td>\n",
       "      <td>3138</td>\n",
       "      <td>0.606119</td>\n",
       "      <td>1</td>\n",
       "    </tr>\n",
       "    <tr>\n",
       "      <th>4</th>\n",
       "      <td>17683</td>\n",
       "      <td>177724</td>\n",
       "      <td>2067</td>\n",
       "      <td>1</td>\n",
       "      <td>0</td>\n",
       "      <td>NaN</td>\n",
       "      <td>3</td>\n",
       "      <td>19</td>\n",
       "      <td>0.0</td>\n",
       "      <td>29</td>\n",
       "      <td>0.608586</td>\n",
       "      <td>3138</td>\n",
       "      <td>0.606119</td>\n",
       "      <td>1</td>\n",
       "    </tr>\n",
       "  </tbody>\n",
       "</table>\n",
       "</div>"
      ],
      "text/plain": [
       "   order_id  user_id  product_id  reordered_count  reordered_sum  \\\n",
       "0         1   112108        2067                1              0   \n",
       "1        96    17227        2067                1              0   \n",
       "2      3243   206024        2067                1              0   \n",
       "3     12950    11456        2067                1              0   \n",
       "4     17683   177724        2067                1              0   \n",
       "\n",
       "   reordered_latest  aisle_id  department_id  reordered  u_total_orders  \\\n",
       "0               NaN         3             19        0.0               3   \n",
       "1               NaN         3             19        0.0               6   \n",
       "2               NaN         3             19        0.0              42   \n",
       "3               0.0         3             19        0.0               9   \n",
       "4               NaN         3             19        0.0              29   \n",
       "\n",
       "   u_reordered_ratio  p_total_purchases  p_reorder_ratio  uxp_total_bought  \n",
       "0           0.428571               3138         0.606119                 1  \n",
       "1           0.232558               3138         0.606119                 1  \n",
       "2           0.620896               3138         0.606119                 1  \n",
       "3           0.547619               3138         0.606119                 1  \n",
       "4           0.608586               3138         0.606119                 1  "
      ]
     },
     "execution_count": 90,
     "metadata": {},
     "output_type": "execute_result"
    }
   ],
   "source": [
    "train_df = train_df.merge(uxp, on=['user_id', 'product_id'], how='left')\n",
    "train_df.head()"
   ]
  },
  {
   "cell_type": "code",
   "execution_count": null,
   "id": "aba556bd",
   "metadata": {},
   "outputs": [],
   "source": [
    "# delete all unnecessary df"
   ]
  },
  {
   "cell_type": "code",
   "execution_count": 91,
   "id": "f25d24ca",
   "metadata": {},
   "outputs": [
    {
     "name": "stdout",
     "output_type": "stream",
     "text": [
      "Size of training data:  (8474661, 14)\n"
     ]
    }
   ],
   "source": [
    "print('Size of training data: ', train_df.shape)"
   ]
  },
  {
   "cell_type": "markdown",
   "id": "f3f2360c",
   "metadata": {},
   "source": [
    "# Models"
   ]
  },
  {
   "cell_type": "code",
   "execution_count": 92,
   "id": "e5faa32d",
   "metadata": {},
   "outputs": [
    {
     "name": "stdout",
     "output_type": "stream",
     "text": [
      "shape of new train data:  (8474661, 14)\n"
     ]
    },
    {
     "data": {
      "text/html": [
       "<div>\n",
       "<style scoped>\n",
       "    .dataframe tbody tr th:only-of-type {\n",
       "        vertical-align: middle;\n",
       "    }\n",
       "\n",
       "    .dataframe tbody tr th {\n",
       "        vertical-align: top;\n",
       "    }\n",
       "\n",
       "    .dataframe thead th {\n",
       "        text-align: right;\n",
       "    }\n",
       "</style>\n",
       "<table border=\"1\" class=\"dataframe\">\n",
       "  <thead>\n",
       "    <tr style=\"text-align: right;\">\n",
       "      <th></th>\n",
       "      <th>order_id</th>\n",
       "      <th>user_id</th>\n",
       "      <th>product_id</th>\n",
       "      <th>reordered_count</th>\n",
       "      <th>reordered_sum</th>\n",
       "      <th>reordered_latest</th>\n",
       "      <th>aisle_id</th>\n",
       "      <th>department_id</th>\n",
       "      <th>u_total_orders</th>\n",
       "      <th>u_reordered_ratio</th>\n",
       "      <th>p_total_purchases</th>\n",
       "      <th>p_reorder_ratio</th>\n",
       "      <th>uxp_total_bought</th>\n",
       "    </tr>\n",
       "  </thead>\n",
       "  <tbody>\n",
       "    <tr>\n",
       "      <th>0</th>\n",
       "      <td>1</td>\n",
       "      <td>112108</td>\n",
       "      <td>2067</td>\n",
       "      <td>1</td>\n",
       "      <td>0</td>\n",
       "      <td>NaN</td>\n",
       "      <td>3</td>\n",
       "      <td>19</td>\n",
       "      <td>3</td>\n",
       "      <td>0.428571</td>\n",
       "      <td>3138</td>\n",
       "      <td>0.606119</td>\n",
       "      <td>1</td>\n",
       "    </tr>\n",
       "    <tr>\n",
       "      <th>1</th>\n",
       "      <td>96</td>\n",
       "      <td>17227</td>\n",
       "      <td>2067</td>\n",
       "      <td>1</td>\n",
       "      <td>0</td>\n",
       "      <td>NaN</td>\n",
       "      <td>3</td>\n",
       "      <td>19</td>\n",
       "      <td>6</td>\n",
       "      <td>0.232558</td>\n",
       "      <td>3138</td>\n",
       "      <td>0.606119</td>\n",
       "      <td>1</td>\n",
       "    </tr>\n",
       "    <tr>\n",
       "      <th>2</th>\n",
       "      <td>3243</td>\n",
       "      <td>206024</td>\n",
       "      <td>2067</td>\n",
       "      <td>1</td>\n",
       "      <td>0</td>\n",
       "      <td>NaN</td>\n",
       "      <td>3</td>\n",
       "      <td>19</td>\n",
       "      <td>42</td>\n",
       "      <td>0.620896</td>\n",
       "      <td>3138</td>\n",
       "      <td>0.606119</td>\n",
       "      <td>1</td>\n",
       "    </tr>\n",
       "    <tr>\n",
       "      <th>3</th>\n",
       "      <td>12950</td>\n",
       "      <td>11456</td>\n",
       "      <td>2067</td>\n",
       "      <td>1</td>\n",
       "      <td>0</td>\n",
       "      <td>0.0</td>\n",
       "      <td>3</td>\n",
       "      <td>19</td>\n",
       "      <td>9</td>\n",
       "      <td>0.547619</td>\n",
       "      <td>3138</td>\n",
       "      <td>0.606119</td>\n",
       "      <td>1</td>\n",
       "    </tr>\n",
       "    <tr>\n",
       "      <th>4</th>\n",
       "      <td>17683</td>\n",
       "      <td>177724</td>\n",
       "      <td>2067</td>\n",
       "      <td>1</td>\n",
       "      <td>0</td>\n",
       "      <td>NaN</td>\n",
       "      <td>3</td>\n",
       "      <td>19</td>\n",
       "      <td>29</td>\n",
       "      <td>0.608586</td>\n",
       "      <td>3138</td>\n",
       "      <td>0.606119</td>\n",
       "      <td>1</td>\n",
       "    </tr>\n",
       "  </tbody>\n",
       "</table>\n",
       "</div>"
      ],
      "text/plain": [
       "   order_id  user_id  product_id  reordered_count  reordered_sum  \\\n",
       "0         1   112108        2067                1              0   \n",
       "1        96    17227        2067                1              0   \n",
       "2      3243   206024        2067                1              0   \n",
       "3     12950    11456        2067                1              0   \n",
       "4     17683   177724        2067                1              0   \n",
       "\n",
       "   reordered_latest  aisle_id  department_id  u_total_orders  \\\n",
       "0               NaN         3             19               3   \n",
       "1               NaN         3             19               6   \n",
       "2               NaN         3             19              42   \n",
       "3               0.0         3             19               9   \n",
       "4               NaN         3             19              29   \n",
       "\n",
       "   u_reordered_ratio  p_total_purchases  p_reorder_ratio  uxp_total_bought  \n",
       "0           0.428571               3138         0.606119                 1  \n",
       "1           0.232558               3138         0.606119                 1  \n",
       "2           0.620896               3138         0.606119                 1  \n",
       "3           0.547619               3138         0.606119                 1  \n",
       "4           0.608586               3138         0.606119                 1  "
      ]
     },
     "execution_count": 92,
     "metadata": {},
     "output_type": "execute_result"
    }
   ],
   "source": [
    "\n",
    "tr_data = train_df #i did this step so that I have the independence to do this -> tr_data = train_df.iloc[:10000,:]\n",
    "print(\"shape of new train data: \",tr_data.shape)\n",
    "X=tr_data.drop('reordered',axis=1)\n",
    "X.head()"
   ]
  },
  {
   "cell_type": "code",
   "execution_count": 93,
   "id": "d5474190",
   "metadata": {},
   "outputs": [],
   "source": [
    "Y = tr_data['reordered']"
   ]
  },
  {
   "cell_type": "code",
   "execution_count": 94,
   "id": "f4da56f6",
   "metadata": {},
   "outputs": [],
   "source": [
    "X_train, X_test, y_train, y_test = train_test_split(X, Y, test_size=0.33, random_state=7)"
   ]
  },
  {
   "cell_type": "code",
   "execution_count": 95,
   "id": "d0812d2e",
   "metadata": {},
   "outputs": [],
   "source": [
    "X_train['reordered_latest'] = X_train['reordered_latest'].replace(np.nan, 0)\n",
    "X_test['reordered_latest'] = X_test['reordered_latest'].replace(np.nan, 0)"
   ]
  },
  {
   "cell_type": "code",
   "execution_count": 96,
   "id": "732c77be",
   "metadata": {},
   "outputs": [
    {
     "name": "stderr",
     "output_type": "stream",
     "text": [
      "/Library/Frameworks/Python.framework/Versions/3.8/lib/python3.8/site-packages/sklearn/ensemble/_forest.py:541: UserWarning:\n",
      "\n",
      "Some inputs do not have OOB scores. This probably means too few trees were used to compute any reliable oob estimates.\n",
      "\n",
      "/Library/Frameworks/Python.framework/Versions/3.8/lib/python3.8/site-packages/sklearn/ensemble/_forest.py:545: RuntimeWarning:\n",
      "\n",
      "invalid value encountered in true_divide\n",
      "\n"
     ]
    },
    {
     "name": "stdout",
     "output_type": "stream",
     "text": [
      "Accuracy using randomforest classifier:  0.9073648761960339\n",
      "CPU times: user 2min 59s, sys: 2.34 s, total: 3min 2s\n",
      "Wall time: 3min 3s\n"
     ]
    }
   ],
   "source": [
    "%%time\n",
    "\n",
    "clfrf = RandomForestClassifier(max_features=\"log2\", max_depth=11, n_estimators=24,min_samples_split=1000, oob_score=True)\n",
    "clfrf.fit(X_train, y_train)\n",
    "\n",
    "#predictions\n",
    "predrf = clfrf.predict(X_test)\n",
    "\n",
    "#accuracy score for the random forest model\n",
    "print(\"Accuracy using randomforest classifier: \",accuracy_score(predrf, y_test))"
   ]
  },
  {
   "cell_type": "markdown",
   "id": "eafe2c9f",
   "metadata": {},
   "source": [
    "# Association Rule mining"
   ]
  },
  {
   "cell_type": "code",
   "execution_count": 42,
   "id": "040c45d3",
   "metadata": {},
   "outputs": [],
   "source": [
    "products = pd.read_csv(\"data/products.csv\")\n",
    "products_id_to_name = {k: v for k, v in zip(products.product_id, products.product_name)}"
   ]
  },
  {
   "cell_type": "code",
   "execution_count": 43,
   "id": "0a4f5801",
   "metadata": {},
   "outputs": [
    {
     "data": {
      "text/html": [
       "<div>\n",
       "<style scoped>\n",
       "    .dataframe tbody tr th:only-of-type {\n",
       "        vertical-align: middle;\n",
       "    }\n",
       "\n",
       "    .dataframe tbody tr th {\n",
       "        vertical-align: top;\n",
       "    }\n",
       "\n",
       "    .dataframe thead th {\n",
       "        text-align: right;\n",
       "    }\n",
       "</style>\n",
       "<table border=\"1\" class=\"dataframe\">\n",
       "  <thead>\n",
       "    <tr style=\"text-align: right;\">\n",
       "      <th></th>\n",
       "      <th>order_id</th>\n",
       "      <th>product_id</th>\n",
       "      <th>add_to_cart_order</th>\n",
       "      <th>reordered</th>\n",
       "    </tr>\n",
       "  </thead>\n",
       "  <tbody>\n",
       "    <tr>\n",
       "      <th>0</th>\n",
       "      <td>2</td>\n",
       "      <td>33120</td>\n",
       "      <td>1</td>\n",
       "      <td>1</td>\n",
       "    </tr>\n",
       "    <tr>\n",
       "      <th>1</th>\n",
       "      <td>2</td>\n",
       "      <td>28985</td>\n",
       "      <td>2</td>\n",
       "      <td>1</td>\n",
       "    </tr>\n",
       "    <tr>\n",
       "      <th>2</th>\n",
       "      <td>2</td>\n",
       "      <td>9327</td>\n",
       "      <td>3</td>\n",
       "      <td>0</td>\n",
       "    </tr>\n",
       "    <tr>\n",
       "      <th>3</th>\n",
       "      <td>2</td>\n",
       "      <td>45918</td>\n",
       "      <td>4</td>\n",
       "      <td>1</td>\n",
       "    </tr>\n",
       "    <tr>\n",
       "      <th>4</th>\n",
       "      <td>2</td>\n",
       "      <td>30035</td>\n",
       "      <td>5</td>\n",
       "      <td>0</td>\n",
       "    </tr>\n",
       "    <tr>\n",
       "      <th>...</th>\n",
       "      <td>...</td>\n",
       "      <td>...</td>\n",
       "      <td>...</td>\n",
       "      <td>...</td>\n",
       "    </tr>\n",
       "    <tr>\n",
       "      <th>999995</th>\n",
       "      <td>105629</td>\n",
       "      <td>18670</td>\n",
       "      <td>9</td>\n",
       "      <td>1</td>\n",
       "    </tr>\n",
       "    <tr>\n",
       "      <th>999996</th>\n",
       "      <td>105629</td>\n",
       "      <td>7010</td>\n",
       "      <td>10</td>\n",
       "      <td>1</td>\n",
       "    </tr>\n",
       "    <tr>\n",
       "      <th>999997</th>\n",
       "      <td>105629</td>\n",
       "      <td>3142</td>\n",
       "      <td>11</td>\n",
       "      <td>1</td>\n",
       "    </tr>\n",
       "    <tr>\n",
       "      <th>999998</th>\n",
       "      <td>105629</td>\n",
       "      <td>28849</td>\n",
       "      <td>12</td>\n",
       "      <td>0</td>\n",
       "    </tr>\n",
       "    <tr>\n",
       "      <th>999999</th>\n",
       "      <td>105629</td>\n",
       "      <td>18557</td>\n",
       "      <td>13</td>\n",
       "      <td>1</td>\n",
       "    </tr>\n",
       "  </tbody>\n",
       "</table>\n",
       "<p>1000000 rows × 4 columns</p>\n",
       "</div>"
      ],
      "text/plain": [
       "        order_id  product_id  add_to_cart_order  reordered\n",
       "0              2       33120                  1          1\n",
       "1              2       28985                  2          1\n",
       "2              2        9327                  3          0\n",
       "3              2       45918                  4          1\n",
       "4              2       30035                  5          0\n",
       "...          ...         ...                ...        ...\n",
       "999995    105629       18670                  9          1\n",
       "999996    105629        7010                 10          1\n",
       "999997    105629        3142                 11          1\n",
       "999998    105629       28849                 12          0\n",
       "999999    105629       18557                 13          1\n",
       "\n",
       "[1000000 rows x 4 columns]"
      ]
     },
     "execution_count": 43,
     "metadata": {},
     "output_type": "execute_result"
    }
   ],
   "source": [
    "order_products = order_products_prior.iloc[0:1000000, :]\n",
    "order_products"
   ]
  },
  {
   "cell_type": "markdown",
   "id": "07692872",
   "metadata": {},
   "source": [
    "**Apriori Algorithm**"
   ]
  },
  {
   "cell_type": "code",
   "execution_count": 44,
   "id": "c5533940",
   "metadata": {},
   "outputs": [],
   "source": [
    "def association_rules(order_products, min_support, min_length = 2, max_length = 5, min_confidence = 0.2, min_lift = 1.0):\n",
    "    \n",
    "    print('Loading data...')\n",
    "    transactions_df = order_products[['order_id', 'product_id']]\n",
    "\n",
    "    print('Calculating product supports...')\n",
    "    n_orders = len(set(transactions_df.order_id))\n",
    "    product_frequency = transactions_df.product_id.value_counts()/n_orders\n",
    "    products_apriori = product_frequency[product_frequency >= min_support]\n",
    "    transactions_apriori = transactions_df[transactions_df.product_id.isin(products_apriori.index)]\n",
    "    \n",
    "    order_sizes = transactions_apriori.order_id.value_counts()\n",
    "    orders_apriori = order_sizes[order_sizes >= min_length]\n",
    "    transactions_apriori = transactions_apriori[transactions_apriori.order_id.isin(orders_apriori.index)]\n",
    "    \n",
    "    print('Calculating product combinations and supports...')\n",
    "    \n",
    "    def product_combinations(transactions_df, max_length = max_length):\n",
    "        transactions_by_order = transactions_df.groupby('order_id')['product_id']\n",
    "        max_length_reference = max_length\n",
    "        for order_id, order_list in transactions_by_order:\n",
    "            max_length = min(max_length_reference, len(order_list))\n",
    "            order_list = sorted(order_list)\n",
    "            for l in range(2, max_length + 1):\n",
    "                product_combinations = combinations(order_list, l)\n",
    "                for combination in product_combinations:\n",
    "                    yield combination\n",
    "   \n",
    "    combs = product_combinations(transactions_apriori)\n",
    "    counter = Counter(combs).items()\n",
    "    combinations_count = pd.Series([x[1] for x in counter], index = [x[0] for x in counter])\n",
    "    combinations_frequency = combinations_count/n_orders\n",
    "    combinations_apriori = combinations_frequency[combinations_frequency >= min_support]\n",
    "    combinations_apriori = combinations_apriori[combinations_apriori.index.map(len) >= min_length]\n",
    "    \n",
    "    print('Populating dataframe...')\n",
    "    A = []\n",
    "    B = []\n",
    "    AB = []\n",
    "    for c in combinations_apriori.index:\n",
    "        c_length = len(c)\n",
    "        for l in range(1, c_length):\n",
    "            comb = combinations(c, l)\n",
    "            for a in comb:\n",
    "                AB.append(c)\n",
    "                b = list(c)\n",
    "                for e in a:\n",
    "                    b.remove(e)\n",
    "                b = tuple(b)\n",
    "                if len(a) == 1:\n",
    "                    a = a[0]\n",
    "                A.append(a)\n",
    "                if len(b) == 1:\n",
    "                    b = b[0]\n",
    "                B.append(b)\n",
    "            \n",
    "    apriori_df = pd.DataFrame({'A': A,\n",
    "                               'B': B,\n",
    "                               'AB': AB})\n",
    "    support = {**{k: v for k, v in products_apriori.items()}, \n",
    "               **{k: v for k, v in combinations_frequency.items()}}\n",
    "    apriori_df[['support_A', 'support_B', 'support_AB']] = apriori_df[['A', 'B', 'AB']].applymap(lambda x: support[x])\n",
    "    apriori_df.drop('AB', axis = 1, inplace = True)\n",
    "    apriori_df['confidence'] = apriori_df.support_AB/apriori_df.support_A\n",
    "    apriori_df['lift'] = apriori_df.confidence / apriori_df.support_B\n",
    "    apriori_df = apriori_df[apriori_df.confidence >= min_confidence]\n",
    "    apriori_df = apriori_df[apriori_df.lift >= min_lift]\n",
    "    apriori_df = apriori_df.sort_values(by = 'lift', ascending = False).reset_index(drop = True)\n",
    "    \n",
    "    def convert_product_id_to_name(product_ids):\n",
    "        if type(product_ids) == int:\n",
    "            return products_id_to_name[product_ids]\n",
    "        names = []\n",
    "        for prod in product_ids:\n",
    "            name = products_id_to_name[prod]\n",
    "            names.append(name)\n",
    "        names = tuple(names)\n",
    "        return names\n",
    "    \n",
    "    apriori_df[['A', 'B']] = apriori_df[['A', 'B']].applymap(convert_product_id_to_name)\n",
    "\n",
    "    print('{} rules were generated'.format(len(apriori_df)))\n",
    "\n",
    "    return apriori_df"
   ]
  },
  {
   "cell_type": "code",
   "execution_count": 45,
   "id": "a6fab8a1",
   "metadata": {},
   "outputs": [
    {
     "name": "stdout",
     "output_type": "stream",
     "text": [
      "Loading data...\n",
      "Calculating product supports...\n",
      "Calculating product combinations and supports...\n",
      "Populating dataframe...\n",
      "11 rules were generated\n"
     ]
    },
    {
     "data": {
      "text/html": [
       "<div>\n",
       "<style scoped>\n",
       "    .dataframe tbody tr th:only-of-type {\n",
       "        vertical-align: middle;\n",
       "    }\n",
       "\n",
       "    .dataframe tbody tr th {\n",
       "        vertical-align: top;\n",
       "    }\n",
       "\n",
       "    .dataframe thead th {\n",
       "        text-align: right;\n",
       "    }\n",
       "</style>\n",
       "<table border=\"1\" class=\"dataframe\">\n",
       "  <thead>\n",
       "    <tr style=\"text-align: right;\">\n",
       "      <th></th>\n",
       "      <th>A</th>\n",
       "      <th>B</th>\n",
       "      <th>support_A</th>\n",
       "      <th>support_B</th>\n",
       "      <th>support_AB</th>\n",
       "      <th>confidence</th>\n",
       "      <th>lift</th>\n",
       "    </tr>\n",
       "  </thead>\n",
       "  <tbody>\n",
       "    <tr>\n",
       "      <th>0</th>\n",
       "      <td>Organic Raspberries</td>\n",
       "      <td>Organic Strawberries</td>\n",
       "      <td>0.042696</td>\n",
       "      <td>0.081987</td>\n",
       "      <td>0.010115</td>\n",
       "      <td>0.236904</td>\n",
       "      <td>2.889544</td>\n",
       "    </tr>\n",
       "    <tr>\n",
       "      <th>1</th>\n",
       "      <td>Organic Fuji Apple</td>\n",
       "      <td>Banana</td>\n",
       "      <td>0.027594</td>\n",
       "      <td>0.148690</td>\n",
       "      <td>0.010326</td>\n",
       "      <td>0.374224</td>\n",
       "      <td>2.516803</td>\n",
       "    </tr>\n",
       "    <tr>\n",
       "      <th>2</th>\n",
       "      <td>Organic Raspberries</td>\n",
       "      <td>Bag of Organic Bananas</td>\n",
       "      <td>0.042696</td>\n",
       "      <td>0.119555</td>\n",
       "      <td>0.012795</td>\n",
       "      <td>0.299670</td>\n",
       "      <td>2.506548</td>\n",
       "    </tr>\n",
       "    <tr>\n",
       "      <th>3</th>\n",
       "      <td>Organic Hass Avocado</td>\n",
       "      <td>Bag of Organic Bananas</td>\n",
       "      <td>0.065998</td>\n",
       "      <td>0.119555</td>\n",
       "      <td>0.019101</td>\n",
       "      <td>0.289421</td>\n",
       "      <td>2.420829</td>\n",
       "    </tr>\n",
       "    <tr>\n",
       "      <th>4</th>\n",
       "      <td>Organic Avocado</td>\n",
       "      <td>Banana</td>\n",
       "      <td>0.054191</td>\n",
       "      <td>0.148690</td>\n",
       "      <td>0.016593</td>\n",
       "      <td>0.306191</td>\n",
       "      <td>2.059252</td>\n",
       "    </tr>\n",
       "    <tr>\n",
       "      <th>5</th>\n",
       "      <td>Strawberries</td>\n",
       "      <td>Banana</td>\n",
       "      <td>0.044207</td>\n",
       "      <td>0.148690</td>\n",
       "      <td>0.012885</td>\n",
       "      <td>0.291477</td>\n",
       "      <td>1.960294</td>\n",
       "    </tr>\n",
       "    <tr>\n",
       "      <th>6</th>\n",
       "      <td>Organic Strawberries</td>\n",
       "      <td>Bag of Organic Bananas</td>\n",
       "      <td>0.081987</td>\n",
       "      <td>0.119555</td>\n",
       "      <td>0.018890</td>\n",
       "      <td>0.230401</td>\n",
       "      <td>1.927156</td>\n",
       "    </tr>\n",
       "    <tr>\n",
       "      <th>7</th>\n",
       "      <td>Large Lemon</td>\n",
       "      <td>Banana</td>\n",
       "      <td>0.047350</td>\n",
       "      <td>0.148690</td>\n",
       "      <td>0.012906</td>\n",
       "      <td>0.272553</td>\n",
       "      <td>1.833026</td>\n",
       "    </tr>\n",
       "    <tr>\n",
       "      <th>8</th>\n",
       "      <td>Organic Baby Spinach</td>\n",
       "      <td>Bag of Organic Bananas</td>\n",
       "      <td>0.075327</td>\n",
       "      <td>0.119555</td>\n",
       "      <td>0.016049</td>\n",
       "      <td>0.213053</td>\n",
       "      <td>1.782058</td>\n",
       "    </tr>\n",
       "    <tr>\n",
       "      <th>9</th>\n",
       "      <td>Organic Strawberries</td>\n",
       "      <td>Banana</td>\n",
       "      <td>0.081987</td>\n",
       "      <td>0.148690</td>\n",
       "      <td>0.017993</td>\n",
       "      <td>0.219464</td>\n",
       "      <td>1.475982</td>\n",
       "    </tr>\n",
       "    <tr>\n",
       "      <th>10</th>\n",
       "      <td>Organic Baby Spinach</td>\n",
       "      <td>Banana</td>\n",
       "      <td>0.075327</td>\n",
       "      <td>0.148690</td>\n",
       "      <td>0.016280</td>\n",
       "      <td>0.216129</td>\n",
       "      <td>1.453554</td>\n",
       "    </tr>\n",
       "  </tbody>\n",
       "</table>\n",
       "</div>"
      ],
      "text/plain": [
       "                       A                       B  support_A  support_B  \\\n",
       "0    Organic Raspberries    Organic Strawberries   0.042696   0.081987   \n",
       "1     Organic Fuji Apple                  Banana   0.027594   0.148690   \n",
       "2    Organic Raspberries  Bag of Organic Bananas   0.042696   0.119555   \n",
       "3   Organic Hass Avocado  Bag of Organic Bananas   0.065998   0.119555   \n",
       "4        Organic Avocado                  Banana   0.054191   0.148690   \n",
       "5           Strawberries                  Banana   0.044207   0.148690   \n",
       "6   Organic Strawberries  Bag of Organic Bananas   0.081987   0.119555   \n",
       "7            Large Lemon                  Banana   0.047350   0.148690   \n",
       "8   Organic Baby Spinach  Bag of Organic Bananas   0.075327   0.119555   \n",
       "9   Organic Strawberries                  Banana   0.081987   0.148690   \n",
       "10  Organic Baby Spinach                  Banana   0.075327   0.148690   \n",
       "\n",
       "    support_AB  confidence      lift  \n",
       "0     0.010115    0.236904  2.889544  \n",
       "1     0.010326    0.374224  2.516803  \n",
       "2     0.012795    0.299670  2.506548  \n",
       "3     0.019101    0.289421  2.420829  \n",
       "4     0.016593    0.306191  2.059252  \n",
       "5     0.012885    0.291477  1.960294  \n",
       "6     0.018890    0.230401  1.927156  \n",
       "7     0.012906    0.272553  1.833026  \n",
       "8     0.016049    0.213053  1.782058  \n",
       "9     0.017993    0.219464  1.475982  \n",
       "10    0.016280    0.216129  1.453554  "
      ]
     },
     "metadata": {},
     "output_type": "display_data"
    },
    {
     "name": "stdout",
     "output_type": "stream",
     "text": [
      "CPU times: user 6.72 s, sys: 436 ms, total: 7.16 s\n",
      "Wall time: 7.42 s\n"
     ]
    }
   ],
   "source": [
    "%%time\n",
    "rules = association_rules(order_products, min_support = 0.01)\n",
    "display(rules.head(20))"
   ]
  },
  {
   "cell_type": "markdown",
   "id": "5fbf8385",
   "metadata": {},
   "source": [
    "We can see that Banana is bought more frequently with other Organic food items\n",
    "Fruits, Vegetables, Greens - The pattern is all these food items are healthy and natural"
   ]
  },
  {
   "cell_type": "code",
   "execution_count": 46,
   "id": "01238146",
   "metadata": {},
   "outputs": [
    {
     "name": "stdout",
     "output_type": "stream",
     "text": [
      "Loading data...\n",
      "Calculating product supports...\n",
      "Calculating product combinations and supports...\n",
      "Populating dataframe...\n",
      "210 rules were generated\n"
     ]
    },
    {
     "data": {
      "text/html": [
       "<div>\n",
       "<style scoped>\n",
       "    .dataframe tbody tr th:only-of-type {\n",
       "        vertical-align: middle;\n",
       "    }\n",
       "\n",
       "    .dataframe tbody tr th {\n",
       "        vertical-align: top;\n",
       "    }\n",
       "\n",
       "    .dataframe thead th {\n",
       "        text-align: right;\n",
       "    }\n",
       "</style>\n",
       "<table border=\"1\" class=\"dataframe\">\n",
       "  <thead>\n",
       "    <tr style=\"text-align: right;\">\n",
       "      <th></th>\n",
       "      <th>A</th>\n",
       "      <th>B</th>\n",
       "      <th>support_A</th>\n",
       "      <th>support_B</th>\n",
       "      <th>support_AB</th>\n",
       "      <th>confidence</th>\n",
       "      <th>lift</th>\n",
       "    </tr>\n",
       "  </thead>\n",
       "  <tbody>\n",
       "    <tr>\n",
       "      <th>0</th>\n",
       "      <td>Non Fat Raspberry Yogurt</td>\n",
       "      <td>Icelandic Style Skyr Blueberry Non-fat Yogurt</td>\n",
       "      <td>0.004725</td>\n",
       "      <td>0.005803</td>\n",
       "      <td>0.002196</td>\n",
       "      <td>0.464819</td>\n",
       "      <td>80.100539</td>\n",
       "    </tr>\n",
       "    <tr>\n",
       "      <th>1</th>\n",
       "      <td>Icelandic Style Skyr Blueberry Non-fat Yogurt</td>\n",
       "      <td>Non Fat Raspberry Yogurt</td>\n",
       "      <td>0.005803</td>\n",
       "      <td>0.004725</td>\n",
       "      <td>0.002196</td>\n",
       "      <td>0.378472</td>\n",
       "      <td>80.100539</td>\n",
       "    </tr>\n",
       "    <tr>\n",
       "      <th>2</th>\n",
       "      <td>Total 2% Lowfat Greek Strained Yogurt With Blueberry</td>\n",
       "      <td>Total 2% Lowfat Greek Strained Yogurt with Peach</td>\n",
       "      <td>0.006639</td>\n",
       "      <td>0.006317</td>\n",
       "      <td>0.002206</td>\n",
       "      <td>0.332322</td>\n",
       "      <td>52.609652</td>\n",
       "    </tr>\n",
       "    <tr>\n",
       "      <th>3</th>\n",
       "      <td>Total 2% Lowfat Greek Strained Yogurt with Peach</td>\n",
       "      <td>Total 2% Lowfat Greek Strained Yogurt With Blueberry</td>\n",
       "      <td>0.006317</td>\n",
       "      <td>0.006639</td>\n",
       "      <td>0.002206</td>\n",
       "      <td>0.349282</td>\n",
       "      <td>52.609652</td>\n",
       "    </tr>\n",
       "    <tr>\n",
       "      <th>4</th>\n",
       "      <td>Total 2% Lowfat Greek Strained Yogurt with Peach</td>\n",
       "      <td>Total 2% with Strawberry Lowfat Greek Strained Yogurt</td>\n",
       "      <td>0.006317</td>\n",
       "      <td>0.009601</td>\n",
       "      <td>0.002801</td>\n",
       "      <td>0.443381</td>\n",
       "      <td>46.180499</td>\n",
       "    </tr>\n",
       "    <tr>\n",
       "      <th>5</th>\n",
       "      <td>Total 2% with Strawberry Lowfat Greek Strained Yogurt</td>\n",
       "      <td>Total 2% Lowfat Greek Strained Yogurt with Peach</td>\n",
       "      <td>0.009601</td>\n",
       "      <td>0.006317</td>\n",
       "      <td>0.002801</td>\n",
       "      <td>0.291710</td>\n",
       "      <td>46.180499</td>\n",
       "    </tr>\n",
       "    <tr>\n",
       "      <th>6</th>\n",
       "      <td>Total 2% with Strawberry Lowfat Greek Strained Yogurt</td>\n",
       "      <td>Total 2% Lowfat Greek Strained Yogurt With Blueberry</td>\n",
       "      <td>0.009601</td>\n",
       "      <td>0.006639</td>\n",
       "      <td>0.002932</td>\n",
       "      <td>0.305352</td>\n",
       "      <td>45.992704</td>\n",
       "    </tr>\n",
       "    <tr>\n",
       "      <th>7</th>\n",
       "      <td>Total 2% Lowfat Greek Strained Yogurt With Blueberry</td>\n",
       "      <td>Total 2% with Strawberry Lowfat Greek Strained Yogurt</td>\n",
       "      <td>0.006639</td>\n",
       "      <td>0.009601</td>\n",
       "      <td>0.002932</td>\n",
       "      <td>0.441578</td>\n",
       "      <td>45.992704</td>\n",
       "    </tr>\n",
       "    <tr>\n",
       "      <th>8</th>\n",
       "      <td>Yellow Bell Pepper</td>\n",
       "      <td>Orange Bell Pepper</td>\n",
       "      <td>0.007808</td>\n",
       "      <td>0.011606</td>\n",
       "      <td>0.002025</td>\n",
       "      <td>0.259355</td>\n",
       "      <td>22.346841</td>\n",
       "    </tr>\n",
       "    <tr>\n",
       "      <th>9</th>\n",
       "      <td>Sparkling Lemon Water</td>\n",
       "      <td>Lime Sparkling Water</td>\n",
       "      <td>0.010044</td>\n",
       "      <td>0.013994</td>\n",
       "      <td>0.002488</td>\n",
       "      <td>0.247743</td>\n",
       "      <td>17.704099</td>\n",
       "    </tr>\n",
       "    <tr>\n",
       "      <th>10</th>\n",
       "      <td>Peach Pear Flavored Sparkling Water</td>\n",
       "      <td>Sparkling Water Grapefruit</td>\n",
       "      <td>0.006488</td>\n",
       "      <td>0.023212</td>\n",
       "      <td>0.002065</td>\n",
       "      <td>0.318323</td>\n",
       "      <td>13.713862</td>\n",
       "    </tr>\n",
       "    <tr>\n",
       "      <th>11</th>\n",
       "      <td>Sparkling Lemon Water</td>\n",
       "      <td>Sparkling Water Grapefruit</td>\n",
       "      <td>0.010044</td>\n",
       "      <td>0.023212</td>\n",
       "      <td>0.002791</td>\n",
       "      <td>0.277834</td>\n",
       "      <td>11.969511</td>\n",
       "    </tr>\n",
       "    <tr>\n",
       "      <th>12</th>\n",
       "      <td>Lime Sparkling Water</td>\n",
       "      <td>Sparkling Water Grapefruit</td>\n",
       "      <td>0.013994</td>\n",
       "      <td>0.023212</td>\n",
       "      <td>0.003848</td>\n",
       "      <td>0.275018</td>\n",
       "      <td>11.848215</td>\n",
       "    </tr>\n",
       "    <tr>\n",
       "      <th>13</th>\n",
       "      <td>Organic Ginger Root</td>\n",
       "      <td>Organic Garlic</td>\n",
       "      <td>0.016663</td>\n",
       "      <td>0.034012</td>\n",
       "      <td>0.003637</td>\n",
       "      <td>0.218259</td>\n",
       "      <td>6.417170</td>\n",
       "    </tr>\n",
       "    <tr>\n",
       "      <th>14</th>\n",
       "      <td>Bunched Cilantro</td>\n",
       "      <td>Limes</td>\n",
       "      <td>0.014255</td>\n",
       "      <td>0.043492</td>\n",
       "      <td>0.003889</td>\n",
       "      <td>0.272792</td>\n",
       "      <td>6.272246</td>\n",
       "    </tr>\n",
       "    <tr>\n",
       "      <th>15</th>\n",
       "      <td>Jalapeno Peppers</td>\n",
       "      <td>Limes</td>\n",
       "      <td>0.012815</td>\n",
       "      <td>0.043492</td>\n",
       "      <td>0.003486</td>\n",
       "      <td>0.272013</td>\n",
       "      <td>6.254336</td>\n",
       "    </tr>\n",
       "    <tr>\n",
       "      <th>16</th>\n",
       "      <td>Organic Cilantro</td>\n",
       "      <td>Limes</td>\n",
       "      <td>0.021308</td>\n",
       "      <td>0.043492</td>\n",
       "      <td>0.005460</td>\n",
       "      <td>0.256265</td>\n",
       "      <td>5.892250</td>\n",
       "    </tr>\n",
       "    <tr>\n",
       "      <th>17</th>\n",
       "      <td>Organic Garlic</td>\n",
       "      <td>Organic Yellow Onion</td>\n",
       "      <td>0.034012</td>\n",
       "      <td>0.034717</td>\n",
       "      <td>0.006820</td>\n",
       "      <td>0.200533</td>\n",
       "      <td>5.776240</td>\n",
       "    </tr>\n",
       "    <tr>\n",
       "      <th>18</th>\n",
       "      <td>(Organic Lemon, Bag of Organic Bananas)</td>\n",
       "      <td>Organic Hass Avocado</td>\n",
       "      <td>0.007344</td>\n",
       "      <td>0.065998</td>\n",
       "      <td>0.002640</td>\n",
       "      <td>0.359396</td>\n",
       "      <td>5.445534</td>\n",
       "    </tr>\n",
       "    <tr>\n",
       "      <th>19</th>\n",
       "      <td>(Banana, Limes)</td>\n",
       "      <td>Large Lemon</td>\n",
       "      <td>0.009742</td>\n",
       "      <td>0.047350</td>\n",
       "      <td>0.002368</td>\n",
       "      <td>0.243020</td>\n",
       "      <td>5.132368</td>\n",
       "    </tr>\n",
       "  </tbody>\n",
       "</table>\n",
       "</div>"
      ],
      "text/plain": [
       "                                                        A  \\\n",
       "0                                Non Fat Raspberry Yogurt   \n",
       "1           Icelandic Style Skyr Blueberry Non-fat Yogurt   \n",
       "2    Total 2% Lowfat Greek Strained Yogurt With Blueberry   \n",
       "3        Total 2% Lowfat Greek Strained Yogurt with Peach   \n",
       "4        Total 2% Lowfat Greek Strained Yogurt with Peach   \n",
       "5   Total 2% with Strawberry Lowfat Greek Strained Yogurt   \n",
       "6   Total 2% with Strawberry Lowfat Greek Strained Yogurt   \n",
       "7    Total 2% Lowfat Greek Strained Yogurt With Blueberry   \n",
       "8                                      Yellow Bell Pepper   \n",
       "9                                   Sparkling Lemon Water   \n",
       "10                    Peach Pear Flavored Sparkling Water   \n",
       "11                                  Sparkling Lemon Water   \n",
       "12                                   Lime Sparkling Water   \n",
       "13                                    Organic Ginger Root   \n",
       "14                                       Bunched Cilantro   \n",
       "15                                       Jalapeno Peppers   \n",
       "16                                       Organic Cilantro   \n",
       "17                                         Organic Garlic   \n",
       "18                (Organic Lemon, Bag of Organic Bananas)   \n",
       "19                                        (Banana, Limes)   \n",
       "\n",
       "                                                        B  support_A  \\\n",
       "0           Icelandic Style Skyr Blueberry Non-fat Yogurt   0.004725   \n",
       "1                                Non Fat Raspberry Yogurt   0.005803   \n",
       "2        Total 2% Lowfat Greek Strained Yogurt with Peach   0.006639   \n",
       "3    Total 2% Lowfat Greek Strained Yogurt With Blueberry   0.006317   \n",
       "4   Total 2% with Strawberry Lowfat Greek Strained Yogurt   0.006317   \n",
       "5        Total 2% Lowfat Greek Strained Yogurt with Peach   0.009601   \n",
       "6    Total 2% Lowfat Greek Strained Yogurt With Blueberry   0.009601   \n",
       "7   Total 2% with Strawberry Lowfat Greek Strained Yogurt   0.006639   \n",
       "8                                      Orange Bell Pepper   0.007808   \n",
       "9                                    Lime Sparkling Water   0.010044   \n",
       "10                             Sparkling Water Grapefruit   0.006488   \n",
       "11                             Sparkling Water Grapefruit   0.010044   \n",
       "12                             Sparkling Water Grapefruit   0.013994   \n",
       "13                                         Organic Garlic   0.016663   \n",
       "14                                                  Limes   0.014255   \n",
       "15                                                  Limes   0.012815   \n",
       "16                                                  Limes   0.021308   \n",
       "17                                   Organic Yellow Onion   0.034012   \n",
       "18                                   Organic Hass Avocado   0.007344   \n",
       "19                                            Large Lemon   0.009742   \n",
       "\n",
       "    support_B  support_AB  confidence       lift  \n",
       "0    0.005803    0.002196    0.464819  80.100539  \n",
       "1    0.004725    0.002196    0.378472  80.100539  \n",
       "2    0.006317    0.002206    0.332322  52.609652  \n",
       "3    0.006639    0.002206    0.349282  52.609652  \n",
       "4    0.009601    0.002801    0.443381  46.180499  \n",
       "5    0.006317    0.002801    0.291710  46.180499  \n",
       "6    0.006639    0.002932    0.305352  45.992704  \n",
       "7    0.009601    0.002932    0.441578  45.992704  \n",
       "8    0.011606    0.002025    0.259355  22.346841  \n",
       "9    0.013994    0.002488    0.247743  17.704099  \n",
       "10   0.023212    0.002065    0.318323  13.713862  \n",
       "11   0.023212    0.002791    0.277834  11.969511  \n",
       "12   0.023212    0.003848    0.275018  11.848215  \n",
       "13   0.034012    0.003637    0.218259   6.417170  \n",
       "14   0.043492    0.003889    0.272792   6.272246  \n",
       "15   0.043492    0.003486    0.272013   6.254336  \n",
       "16   0.043492    0.005460    0.256265   5.892250  \n",
       "17   0.034717    0.006820    0.200533   5.776240  \n",
       "18   0.065998    0.002640    0.359396   5.445534  \n",
       "19   0.047350    0.002368    0.243020   5.132368  "
      ]
     },
     "metadata": {},
     "output_type": "display_data"
    }
   ],
   "source": [
    "rules = association_rules(order_products, min_support = 0.002, max_length=3)\n",
    "with pd.option_context('display.max_colwidth', None):\n",
    "    display(rules.head(20))"
   ]
  },
  {
   "cell_type": "markdown",
   "id": "3d9f74f0",
   "metadata": {},
   "source": [
    "Here these rules show high lift, meaning if one item is purchased, chances of the other item being purchased is very high. Showing that consumers take more than one flavored yogurt and water."
   ]
  },
  {
   "cell_type": "code",
   "execution_count": 47,
   "id": "b93996db",
   "metadata": {},
   "outputs": [],
   "source": [
    "#rules.tail(10)"
   ]
  },
  {
   "cell_type": "markdown",
   "id": "71db0830",
   "metadata": {},
   "source": [
    "**FPGrowth Algorithm**"
   ]
  },
  {
   "cell_type": "code",
   "execution_count": 49,
   "id": "b2db1471",
   "metadata": {},
   "outputs": [],
   "source": [
    "from pyspark.context import SparkContext\n",
    "from pyspark.sql import SparkSession\n",
    "from pyspark.sql import functions as F\n",
    "\n",
    "spark = SparkSession.builder.master(\"local[*]\").getOrCreate()\n"
   ]
  },
  {
   "cell_type": "code",
   "execution_count": 48,
   "id": "dfedba0b",
   "metadata": {},
   "outputs": [
    {
     "data": {
      "text/html": [
       "<div>\n",
       "<style scoped>\n",
       "    .dataframe tbody tr th:only-of-type {\n",
       "        vertical-align: middle;\n",
       "    }\n",
       "\n",
       "    .dataframe tbody tr th {\n",
       "        vertical-align: top;\n",
       "    }\n",
       "\n",
       "    .dataframe thead th {\n",
       "        text-align: right;\n",
       "    }\n",
       "</style>\n",
       "<table border=\"1\" class=\"dataframe\">\n",
       "  <thead>\n",
       "    <tr style=\"text-align: right;\">\n",
       "      <th></th>\n",
       "      <th>order_id</th>\n",
       "      <th>product_name</th>\n",
       "    </tr>\n",
       "  </thead>\n",
       "  <tbody>\n",
       "    <tr>\n",
       "      <th>0</th>\n",
       "      <td>2</td>\n",
       "      <td>Organic Egg Whites</td>\n",
       "    </tr>\n",
       "    <tr>\n",
       "      <th>1</th>\n",
       "      <td>26</td>\n",
       "      <td>Organic Egg Whites</td>\n",
       "    </tr>\n",
       "    <tr>\n",
       "      <th>2</th>\n",
       "      <td>120</td>\n",
       "      <td>Organic Egg Whites</td>\n",
       "    </tr>\n",
       "    <tr>\n",
       "      <th>3</th>\n",
       "      <td>327</td>\n",
       "      <td>Organic Egg Whites</td>\n",
       "    </tr>\n",
       "    <tr>\n",
       "      <th>4</th>\n",
       "      <td>390</td>\n",
       "      <td>Organic Egg Whites</td>\n",
       "    </tr>\n",
       "    <tr>\n",
       "      <th>...</th>\n",
       "      <td>...</td>\n",
       "      <td>...</td>\n",
       "    </tr>\n",
       "    <tr>\n",
       "      <th>999995</th>\n",
       "      <td>105604</td>\n",
       "      <td>Chocolate Chip French Twists</td>\n",
       "    </tr>\n",
       "    <tr>\n",
       "      <th>999996</th>\n",
       "      <td>105605</td>\n",
       "      <td>Juicy Limes</td>\n",
       "    </tr>\n",
       "    <tr>\n",
       "      <th>999997</th>\n",
       "      <td>105605</td>\n",
       "      <td>Alcon Naphcon A Eye Drops Eye Allergy Relief</td>\n",
       "    </tr>\n",
       "    <tr>\n",
       "      <th>999998</th>\n",
       "      <td>105611</td>\n",
       "      <td>Awapuhi Ginger Shampoo</td>\n",
       "    </tr>\n",
       "    <tr>\n",
       "      <th>999999</th>\n",
       "      <td>105615</td>\n",
       "      <td>Single &amp; Sparkling Natural Mineral Water</td>\n",
       "    </tr>\n",
       "  </tbody>\n",
       "</table>\n",
       "<p>1000000 rows × 2 columns</p>\n",
       "</div>"
      ],
      "text/plain": [
       "        order_id                                  product_name\n",
       "0              2                            Organic Egg Whites\n",
       "1             26                            Organic Egg Whites\n",
       "2            120                            Organic Egg Whites\n",
       "3            327                            Organic Egg Whites\n",
       "4            390                            Organic Egg Whites\n",
       "...          ...                                           ...\n",
       "999995    105604                  Chocolate Chip French Twists\n",
       "999996    105605                                   Juicy Limes\n",
       "999997    105605  Alcon Naphcon A Eye Drops Eye Allergy Relief\n",
       "999998    105611                        Awapuhi Ginger Shampoo\n",
       "999999    105615      Single & Sparkling Natural Mineral Water\n",
       "\n",
       "[1000000 rows x 2 columns]"
      ]
     },
     "execution_count": 48,
     "metadata": {},
     "output_type": "execute_result"
    }
   ],
   "source": [
    "order_products = pd.merge(order_products, products, on='product_id')\n",
    "order_products = order_products[['order_id', 'product_name']]\n",
    "order_products"
   ]
  },
  {
   "cell_type": "code",
   "execution_count": 50,
   "id": "6a0bec23",
   "metadata": {},
   "outputs": [
    {
     "data": {
      "text/plain": [
       "DataFrame[order_id: bigint, product_name: string]"
      ]
     },
     "execution_count": 50,
     "metadata": {},
     "output_type": "execute_result"
    }
   ],
   "source": [
    "sparkdata = spark.createDataFrame(order_products)\n",
    "sparkdata"
   ]
  },
  {
   "cell_type": "code",
   "execution_count": 51,
   "id": "350816a0",
   "metadata": {},
   "outputs": [
    {
     "data": {
      "text/plain": [
       "DataFrame[order_id: bigint, collect_list(product_name): array<string>]"
      ]
     },
     "execution_count": 51,
     "metadata": {},
     "output_type": "execute_result"
    }
   ],
   "source": [
    "basketdata = sparkdata.groupBy(\"order_id\").agg(F.collect_list(\"product_name\"))\n",
    "basketdata"
   ]
  },
  {
   "cell_type": "code",
   "execution_count": 52,
   "id": "a2589a49",
   "metadata": {},
   "outputs": [
    {
     "name": "stdout",
     "output_type": "stream",
     "text": [
      "CPU times: user 41.7 ms, sys: 25.6 ms, total: 67.3 ms\n",
      "Wall time: 20.8 s\n"
     ]
    }
   ],
   "source": [
    "%%time\n",
    "fpGrowth = FPGrowth(itemsCol=\"collect_list(product_name)\", minSupport=0.01, minConfidence=0.01)\n",
    "model = fpGrowth.fit(basketdata)\n"
   ]
  },
  {
   "cell_type": "code",
   "execution_count": 53,
   "id": "e3879f37",
   "metadata": {},
   "outputs": [],
   "source": [
    "# Display frequent itemsets.\n",
    "# model.freqItemsets.show()\n",
    "items = model.freqItemsets\n",
    "# Display generated association rules.\n",
    "# model.associationRules.show()\n",
    "rules = model.associationRules\n",
    "# transform examines the input items against all the association rules and summarize the consequents as prediction\n",
    "# model.transform(basketdata).show()\n",
    "transformed = model.transform(basketdata)"
   ]
  },
  {
   "cell_type": "code",
   "execution_count": 54,
   "id": "64bcf2c1",
   "metadata": {},
   "outputs": [
    {
     "data": {
      "text/html": [
       "<div>\n",
       "<style scoped>\n",
       "    .dataframe tbody tr th:only-of-type {\n",
       "        vertical-align: middle;\n",
       "    }\n",
       "\n",
       "    .dataframe tbody tr th {\n",
       "        vertical-align: top;\n",
       "    }\n",
       "\n",
       "    .dataframe thead th {\n",
       "        text-align: right;\n",
       "    }\n",
       "</style>\n",
       "<table border=\"1\" class=\"dataframe\">\n",
       "  <thead>\n",
       "    <tr style=\"text-align: right;\">\n",
       "      <th></th>\n",
       "      <th>items</th>\n",
       "      <th>freq</th>\n",
       "    </tr>\n",
       "  </thead>\n",
       "  <tbody>\n",
       "    <tr>\n",
       "      <th>0</th>\n",
       "      <td>[Banana]</td>\n",
       "      <td>14759</td>\n",
       "    </tr>\n",
       "    <tr>\n",
       "      <th>1</th>\n",
       "      <td>[Bag of Organic Bananas]</td>\n",
       "      <td>11867</td>\n",
       "    </tr>\n",
       "    <tr>\n",
       "      <th>2</th>\n",
       "      <td>[Organic Strawberries]</td>\n",
       "      <td>8138</td>\n",
       "    </tr>\n",
       "    <tr>\n",
       "      <th>3</th>\n",
       "      <td>[Organic Strawberries, Bag of Organic Bananas]</td>\n",
       "      <td>1875</td>\n",
       "    </tr>\n",
       "    <tr>\n",
       "      <th>4</th>\n",
       "      <td>[Organic Strawberries, Banana]</td>\n",
       "      <td>1786</td>\n",
       "    </tr>\n",
       "    <tr>\n",
       "      <th>5</th>\n",
       "      <td>[Organic Baby Spinach]</td>\n",
       "      <td>7477</td>\n",
       "    </tr>\n",
       "    <tr>\n",
       "      <th>6</th>\n",
       "      <td>[Organic Baby Spinach, Organic Strawberries]</td>\n",
       "      <td>1180</td>\n",
       "    </tr>\n",
       "    <tr>\n",
       "      <th>7</th>\n",
       "      <td>[Organic Baby Spinach, Bag of Organic Bananas]</td>\n",
       "      <td>1593</td>\n",
       "    </tr>\n",
       "    <tr>\n",
       "      <th>8</th>\n",
       "      <td>[Organic Baby Spinach, Banana]</td>\n",
       "      <td>1616</td>\n",
       "    </tr>\n",
       "    <tr>\n",
       "      <th>9</th>\n",
       "      <td>[Organic Hass Avocado]</td>\n",
       "      <td>6551</td>\n",
       "    </tr>\n",
       "    <tr>\n",
       "      <th>10</th>\n",
       "      <td>[Organic Hass Avocado, Organic Strawberries]</td>\n",
       "      <td>1222</td>\n",
       "    </tr>\n",
       "    <tr>\n",
       "      <th>11</th>\n",
       "      <td>[Organic Hass Avocado, Bag of Organic Bananas]</td>\n",
       "      <td>1896</td>\n",
       "    </tr>\n",
       "    <tr>\n",
       "      <th>12</th>\n",
       "      <td>[Organic Hass Avocado, Organic Baby Spinach]</td>\n",
       "      <td>1038</td>\n",
       "    </tr>\n",
       "    <tr>\n",
       "      <th>13</th>\n",
       "      <td>[Organic Hass Avocado, Banana]</td>\n",
       "      <td>1039</td>\n",
       "    </tr>\n",
       "    <tr>\n",
       "      <th>14</th>\n",
       "      <td>[Organic Avocado]</td>\n",
       "      <td>5379</td>\n",
       "    </tr>\n",
       "    <tr>\n",
       "      <th>15</th>\n",
       "      <td>[Organic Avocado, Banana]</td>\n",
       "      <td>1647</td>\n",
       "    </tr>\n",
       "    <tr>\n",
       "      <th>16</th>\n",
       "      <td>[Large Lemon]</td>\n",
       "      <td>4700</td>\n",
       "    </tr>\n",
       "    <tr>\n",
       "      <th>17</th>\n",
       "      <td>[Large Lemon, Banana]</td>\n",
       "      <td>1281</td>\n",
       "    </tr>\n",
       "    <tr>\n",
       "      <th>18</th>\n",
       "      <td>[Strawberries]</td>\n",
       "      <td>4388</td>\n",
       "    </tr>\n",
       "    <tr>\n",
       "      <th>19</th>\n",
       "      <td>[Strawberries, Banana]</td>\n",
       "      <td>1279</td>\n",
       "    </tr>\n",
       "  </tbody>\n",
       "</table>\n",
       "</div>"
      ],
      "text/plain": [
       "                                             items   freq\n",
       "0                                         [Banana]  14759\n",
       "1                         [Bag of Organic Bananas]  11867\n",
       "2                           [Organic Strawberries]   8138\n",
       "3   [Organic Strawberries, Bag of Organic Bananas]   1875\n",
       "4                   [Organic Strawberries, Banana]   1786\n",
       "5                           [Organic Baby Spinach]   7477\n",
       "6     [Organic Baby Spinach, Organic Strawberries]   1180\n",
       "7   [Organic Baby Spinach, Bag of Organic Bananas]   1593\n",
       "8                   [Organic Baby Spinach, Banana]   1616\n",
       "9                           [Organic Hass Avocado]   6551\n",
       "10    [Organic Hass Avocado, Organic Strawberries]   1222\n",
       "11  [Organic Hass Avocado, Bag of Organic Bananas]   1896\n",
       "12    [Organic Hass Avocado, Organic Baby Spinach]   1038\n",
       "13                  [Organic Hass Avocado, Banana]   1039\n",
       "14                               [Organic Avocado]   5379\n",
       "15                       [Organic Avocado, Banana]   1647\n",
       "16                                   [Large Lemon]   4700\n",
       "17                           [Large Lemon, Banana]   1281\n",
       "18                                  [Strawberries]   4388\n",
       "19                          [Strawberries, Banana]   1279"
      ]
     },
     "execution_count": 54,
     "metadata": {},
     "output_type": "execute_result"
    }
   ],
   "source": [
    "items_pdf = items.select(\"*\").toPandas()\n",
    "items_pdf.head(20)"
   ]
  },
  {
   "cell_type": "code",
   "execution_count": 55,
   "id": "becb60e7",
   "metadata": {},
   "outputs": [
    {
     "data": {
      "text/html": [
       "<div>\n",
       "<style scoped>\n",
       "    .dataframe tbody tr th:only-of-type {\n",
       "        vertical-align: middle;\n",
       "    }\n",
       "\n",
       "    .dataframe tbody tr th {\n",
       "        vertical-align: top;\n",
       "    }\n",
       "\n",
       "    .dataframe thead th {\n",
       "        text-align: right;\n",
       "    }\n",
       "</style>\n",
       "<table border=\"1\" class=\"dataframe\">\n",
       "  <thead>\n",
       "    <tr style=\"text-align: right;\">\n",
       "      <th></th>\n",
       "      <th>antecedent</th>\n",
       "      <th>consequent</th>\n",
       "      <th>confidence</th>\n",
       "      <th>lift</th>\n",
       "      <th>support</th>\n",
       "    </tr>\n",
       "  </thead>\n",
       "  <tbody>\n",
       "    <tr>\n",
       "      <th>0</th>\n",
       "      <td>[Bag of Organic Bananas]</td>\n",
       "      <td>[Organic Strawberries]</td>\n",
       "      <td>0.158001</td>\n",
       "      <td>1.927156</td>\n",
       "      <td>0.018890</td>\n",
       "    </tr>\n",
       "    <tr>\n",
       "      <th>1</th>\n",
       "      <td>[Bag of Organic Bananas]</td>\n",
       "      <td>[Organic Baby Spinach]</td>\n",
       "      <td>0.134238</td>\n",
       "      <td>1.782058</td>\n",
       "      <td>0.016049</td>\n",
       "    </tr>\n",
       "    <tr>\n",
       "      <th>2</th>\n",
       "      <td>[Bag of Organic Bananas]</td>\n",
       "      <td>[Organic Hass Avocado]</td>\n",
       "      <td>0.159771</td>\n",
       "      <td>2.420829</td>\n",
       "      <td>0.019101</td>\n",
       "    </tr>\n",
       "    <tr>\n",
       "      <th>3</th>\n",
       "      <td>[Bag of Organic Bananas]</td>\n",
       "      <td>[Organic Raspberries]</td>\n",
       "      <td>0.107019</td>\n",
       "      <td>2.506548</td>\n",
       "      <td>0.012795</td>\n",
       "    </tr>\n",
       "    <tr>\n",
       "      <th>4</th>\n",
       "      <td>[Banana]</td>\n",
       "      <td>[Organic Strawberries]</td>\n",
       "      <td>0.121011</td>\n",
       "      <td>1.475982</td>\n",
       "      <td>0.017993</td>\n",
       "    </tr>\n",
       "    <tr>\n",
       "      <th>5</th>\n",
       "      <td>[Banana]</td>\n",
       "      <td>[Organic Baby Spinach]</td>\n",
       "      <td>0.109493</td>\n",
       "      <td>1.453554</td>\n",
       "      <td>0.016280</td>\n",
       "    </tr>\n",
       "    <tr>\n",
       "      <th>6</th>\n",
       "      <td>[Banana]</td>\n",
       "      <td>[Organic Hass Avocado]</td>\n",
       "      <td>0.070398</td>\n",
       "      <td>1.066658</td>\n",
       "      <td>0.010467</td>\n",
       "    </tr>\n",
       "    <tr>\n",
       "      <th>7</th>\n",
       "      <td>[Banana]</td>\n",
       "      <td>[Organic Avocado]</td>\n",
       "      <td>0.111593</td>\n",
       "      <td>2.059252</td>\n",
       "      <td>0.016593</td>\n",
       "    </tr>\n",
       "    <tr>\n",
       "      <th>8</th>\n",
       "      <td>[Banana]</td>\n",
       "      <td>[Large Lemon]</td>\n",
       "      <td>0.086794</td>\n",
       "      <td>1.833026</td>\n",
       "      <td>0.012906</td>\n",
       "    </tr>\n",
       "    <tr>\n",
       "      <th>9</th>\n",
       "      <td>[Banana]</td>\n",
       "      <td>[Strawberries]</td>\n",
       "      <td>0.086659</td>\n",
       "      <td>1.960294</td>\n",
       "      <td>0.012885</td>\n",
       "    </tr>\n",
       "    <tr>\n",
       "      <th>10</th>\n",
       "      <td>[Banana]</td>\n",
       "      <td>[Organic Fuji Apple]</td>\n",
       "      <td>0.069449</td>\n",
       "      <td>2.516803</td>\n",
       "      <td>0.010326</td>\n",
       "    </tr>\n",
       "    <tr>\n",
       "      <th>11</th>\n",
       "      <td>[Organic Avocado]</td>\n",
       "      <td>[Banana]</td>\n",
       "      <td>0.306191</td>\n",
       "      <td>2.059252</td>\n",
       "      <td>0.016593</td>\n",
       "    </tr>\n",
       "    <tr>\n",
       "      <th>12</th>\n",
       "      <td>[Large Lemon]</td>\n",
       "      <td>[Banana]</td>\n",
       "      <td>0.272553</td>\n",
       "      <td>1.833026</td>\n",
       "      <td>0.012906</td>\n",
       "    </tr>\n",
       "    <tr>\n",
       "      <th>13</th>\n",
       "      <td>[Organic Strawberries]</td>\n",
       "      <td>[Bag of Organic Bananas]</td>\n",
       "      <td>0.230401</td>\n",
       "      <td>1.927156</td>\n",
       "      <td>0.018890</td>\n",
       "    </tr>\n",
       "    <tr>\n",
       "      <th>14</th>\n",
       "      <td>[Organic Strawberries]</td>\n",
       "      <td>[Banana]</td>\n",
       "      <td>0.219464</td>\n",
       "      <td>1.475982</td>\n",
       "      <td>0.017993</td>\n",
       "    </tr>\n",
       "    <tr>\n",
       "      <th>15</th>\n",
       "      <td>[Organic Strawberries]</td>\n",
       "      <td>[Organic Baby Spinach]</td>\n",
       "      <td>0.144999</td>\n",
       "      <td>1.924913</td>\n",
       "      <td>0.011888</td>\n",
       "    </tr>\n",
       "    <tr>\n",
       "      <th>16</th>\n",
       "      <td>[Organic Strawberries]</td>\n",
       "      <td>[Organic Hass Avocado]</td>\n",
       "      <td>0.150160</td>\n",
       "      <td>2.275203</td>\n",
       "      <td>0.012311</td>\n",
       "    </tr>\n",
       "    <tr>\n",
       "      <th>17</th>\n",
       "      <td>[Organic Strawberries]</td>\n",
       "      <td>[Organic Raspberries]</td>\n",
       "      <td>0.123372</td>\n",
       "      <td>2.889544</td>\n",
       "      <td>0.010115</td>\n",
       "    </tr>\n",
       "    <tr>\n",
       "      <th>18</th>\n",
       "      <td>[Organic Raspberries]</td>\n",
       "      <td>[Organic Strawberries]</td>\n",
       "      <td>0.236904</td>\n",
       "      <td>2.889544</td>\n",
       "      <td>0.010115</td>\n",
       "    </tr>\n",
       "    <tr>\n",
       "      <th>19</th>\n",
       "      <td>[Organic Raspberries]</td>\n",
       "      <td>[Bag of Organic Bananas]</td>\n",
       "      <td>0.299670</td>\n",
       "      <td>2.506548</td>\n",
       "      <td>0.012795</td>\n",
       "    </tr>\n",
       "  </tbody>\n",
       "</table>\n",
       "</div>"
      ],
      "text/plain": [
       "                  antecedent                consequent  confidence      lift  \\\n",
       "0   [Bag of Organic Bananas]    [Organic Strawberries]    0.158001  1.927156   \n",
       "1   [Bag of Organic Bananas]    [Organic Baby Spinach]    0.134238  1.782058   \n",
       "2   [Bag of Organic Bananas]    [Organic Hass Avocado]    0.159771  2.420829   \n",
       "3   [Bag of Organic Bananas]     [Organic Raspberries]    0.107019  2.506548   \n",
       "4                   [Banana]    [Organic Strawberries]    0.121011  1.475982   \n",
       "5                   [Banana]    [Organic Baby Spinach]    0.109493  1.453554   \n",
       "6                   [Banana]    [Organic Hass Avocado]    0.070398  1.066658   \n",
       "7                   [Banana]         [Organic Avocado]    0.111593  2.059252   \n",
       "8                   [Banana]             [Large Lemon]    0.086794  1.833026   \n",
       "9                   [Banana]            [Strawberries]    0.086659  1.960294   \n",
       "10                  [Banana]      [Organic Fuji Apple]    0.069449  2.516803   \n",
       "11         [Organic Avocado]                  [Banana]    0.306191  2.059252   \n",
       "12             [Large Lemon]                  [Banana]    0.272553  1.833026   \n",
       "13    [Organic Strawberries]  [Bag of Organic Bananas]    0.230401  1.927156   \n",
       "14    [Organic Strawberries]                  [Banana]    0.219464  1.475982   \n",
       "15    [Organic Strawberries]    [Organic Baby Spinach]    0.144999  1.924913   \n",
       "16    [Organic Strawberries]    [Organic Hass Avocado]    0.150160  2.275203   \n",
       "17    [Organic Strawberries]     [Organic Raspberries]    0.123372  2.889544   \n",
       "18     [Organic Raspberries]    [Organic Strawberries]    0.236904  2.889544   \n",
       "19     [Organic Raspberries]  [Bag of Organic Bananas]    0.299670  2.506548   \n",
       "\n",
       "     support  \n",
       "0   0.018890  \n",
       "1   0.016049  \n",
       "2   0.019101  \n",
       "3   0.012795  \n",
       "4   0.017993  \n",
       "5   0.016280  \n",
       "6   0.010467  \n",
       "7   0.016593  \n",
       "8   0.012906  \n",
       "9   0.012885  \n",
       "10  0.010326  \n",
       "11  0.016593  \n",
       "12  0.012906  \n",
       "13  0.018890  \n",
       "14  0.017993  \n",
       "15  0.011888  \n",
       "16  0.012311  \n",
       "17  0.010115  \n",
       "18  0.010115  \n",
       "19  0.012795  "
      ]
     },
     "execution_count": 55,
     "metadata": {},
     "output_type": "execute_result"
    }
   ],
   "source": [
    "rules_pdf = rules.select(\"*\").toPandas()\n",
    "rules_pdf.head(20)"
   ]
  },
  {
   "cell_type": "code",
   "execution_count": 58,
   "id": "b8e0233b",
   "metadata": {},
   "outputs": [
    {
     "data": {
      "text/html": [
       "<div>\n",
       "<style scoped>\n",
       "    .dataframe tbody tr th:only-of-type {\n",
       "        vertical-align: middle;\n",
       "    }\n",
       "\n",
       "    .dataframe tbody tr th {\n",
       "        vertical-align: top;\n",
       "    }\n",
       "\n",
       "    .dataframe thead th {\n",
       "        text-align: right;\n",
       "    }\n",
       "</style>\n",
       "<table border=\"1\" class=\"dataframe\">\n",
       "  <thead>\n",
       "    <tr style=\"text-align: right;\">\n",
       "      <th></th>\n",
       "      <th>order_id</th>\n",
       "      <th>collect_list(product_name)</th>\n",
       "      <th>prediction</th>\n",
       "    </tr>\n",
       "  </thead>\n",
       "  <tbody>\n",
       "    <tr>\n",
       "      <th>0</th>\n",
       "      <td>26</td>\n",
       "      <td>[Organic Unsweetened Almond Milk, Red Grapefruit, Boneless Skinless Chicken Breasts, Berry Medley, Organic Baby Spinach, Banana, Organic Avocado, Organic Egg Whites]</td>\n",
       "      <td>[Organic Strawberries, Organic Hass Avocado, Large Lemon, Strawberries, Organic Fuji Apple, Bag of Organic Bananas]</td>\n",
       "    </tr>\n",
       "    <tr>\n",
       "      <th>1</th>\n",
       "      <td>29</td>\n",
       "      <td>[Raspberries, Smartwater, Baby Cucumbers, Sinfully Sweet Campari Tomatoes, Bag of Organic Bananas]</td>\n",
       "      <td>[Organic Strawberries, Organic Baby Spinach, Organic Hass Avocado, Organic Raspberries]</td>\n",
       "    </tr>\n",
       "    <tr>\n",
       "      <th>2</th>\n",
       "      <td>964</td>\n",
       "      <td>[Green Bell Pepper, Organic Diced Tomatoes, Kids Sensible Foods Broccoli Littles, Organic Cottage Cheese, Organic Stage 2 Peaches &amp; Bananas Baby Food, Organic Cannellini Beans, Organic Pumpkin, Organic Pears, Peas and Broccoli Puree Stage 1, Organic 4 Months Butternut Squash Carrots Apples + Prunes Baby Food, Grovestand Lots of Pulp Orange Juice]</td>\n",
       "      <td>[]</td>\n",
       "    </tr>\n",
       "    <tr>\n",
       "      <th>3</th>\n",
       "      <td>1677</td>\n",
       "      <td>[Original Almondmilk, 0% Greek Strained Yogurt]</td>\n",
       "      <td>[]</td>\n",
       "    </tr>\n",
       "    <tr>\n",
       "      <th>4</th>\n",
       "      <td>1697</td>\n",
       "      <td>[Iceberg Lettuce, Unsalted Pure Irish Butter, Heavy Whipping Cream, Organic Dill, Romaine Hearts, Ready-to-Bake 9 Inch Pie Crusts, Organic White Onions, Organic Green Leaf Lettuce, Goat Cheese Log, Ginger Ale Jamaican Style, 8\\\" Apple Pie, Brownberry Natural Wheat Bread, Thai Peanut Sauce, Pure, All-Natural Clam Juice, Chicken Base, Organic, Chopped Clams, Organic Avocado, Organic Half &amp; Half]</td>\n",
       "      <td>[Banana]</td>\n",
       "    </tr>\n",
       "    <tr>\n",
       "      <th>5</th>\n",
       "      <td>1806</td>\n",
       "      <td>[Direct Trade Black Cat Classic Espresso Roast Whole Bean Coffee]</td>\n",
       "      <td>[]</td>\n",
       "    </tr>\n",
       "    <tr>\n",
       "      <th>6</th>\n",
       "      <td>1950</td>\n",
       "      <td>[Milk, Organic, Vitamin D, 100% Recycled Paper Towels]</td>\n",
       "      <td>[]</td>\n",
       "    </tr>\n",
       "    <tr>\n",
       "      <th>7</th>\n",
       "      <td>2040</td>\n",
       "      <td>[Organic Blackberries, Total 0% Nonfat Greek Yogurt, ALMONDBREEZE UNSWEETENED, Hazelnuts, Cheddar Cheese Medium, Bag of Organic Bananas, Organic Raspberries, Vanilla Almond Breeze Almond Milk]</td>\n",
       "      <td>[Organic Strawberries, Organic Baby Spinach, Organic Hass Avocado]</td>\n",
       "    </tr>\n",
       "    <tr>\n",
       "      <th>8</th>\n",
       "      <td>2214</td>\n",
       "      <td>[Raspberries, Tilapia Filet, Limes, Hass Avocados, Fresh Ginger Root, Kale Greens, Russet Potato, No Pulp Calcium &amp; Vitamin D Pure Premium 100% Pure Orange Juice, Organic Navel Orange, Green Onions, Raspberry Yoghurt, Tomato Paste, Organic Blueberry Waffles, Blueberry Yoghurt, 93% Ground Beef, Organic Broccoli Slaw, Yellow Onions, Organic Whole Milk]</td>\n",
       "      <td>[]</td>\n",
       "    </tr>\n",
       "    <tr>\n",
       "      <th>9</th>\n",
       "      <td>2250</td>\n",
       "      <td>[Squeeze Real Mayonnaise, Raisin Bran Cereal, Lavender Dish Soap, Bagel Bites Three Cheese Mini Bagel Pizzas, Multigrain Tortilla Chips, Everyday 2 Ply Premium Napkins, Organic Pack Peasant Bread, Pink Virgin Lemonade, Sweetened Light Whipped Cream, Orange Juice with Calcium, Dry Roasted Lightly Salted Peanuts, Sweet Pea and Violet Body Wash, Frosted Flakes Cereal, Fruity Cheerios Cereal, Post Selects Great Grains Cereal Raisins, Dates and Pecans, Great Grains, Banana]</td>\n",
       "      <td>[Organic Strawberries, Organic Baby Spinach, Organic Hass Avocado, Organic Avocado, Large Lemon, Strawberries, Organic Fuji Apple]</td>\n",
       "    </tr>\n",
       "    <tr>\n",
       "      <th>10</th>\n",
       "      <td>2453</td>\n",
       "      <td>[Organic Tomato Cluster, Pure Lemon Juice, Special Reserve Extra Sharp Cheddar Cheese, Organic Caesar Dressing, Saltine Crackers, Organic Fuel High Protein Vanilla Milk Shake, Caesar Rules Dressing, Organic Chocolate  Chip Cookie Vanilla Bean Ice Cream Sandwiches]</td>\n",
       "      <td>[]</td>\n",
       "    </tr>\n",
       "    <tr>\n",
       "      <th>11</th>\n",
       "      <td>2509</td>\n",
       "      <td>[Chicken Pot Pie, Ultra-Purified Water, Chocolate Peanut Butter Ice Cream, Electrolyte Enhanced Water, Honey Nut Cheerios, Naturally Alkaline Spring Water, Select Tender Chicken with Vegetables &amp; Brown Rice Dog Food Recipe, Ibuprofen Liquid Gels, Chunky Beef with Vegetables &amp; Brown Rice Dog Food, Blazin' Beef Recipe Dog Food, Kickin' Chicken Recipe Dog Food, Chillin' Chicken Recipe, Artesian Water, Chicken Curry Salad, Apple &amp; Cherry Simple Combos Organic]</td>\n",
       "      <td>[]</td>\n",
       "    </tr>\n",
       "    <tr>\n",
       "      <th>12</th>\n",
       "      <td>2529</td>\n",
       "      <td>[Large Lemon, Strawberries, Roman Raspberry Sorbetto, Gourmet Tomato Medley, Organic Cinnamon Crunch Cereal, Margherita With Cherry Tomatoes Pizza, Light &amp; Lean Pasta &amp; Veggie Bowl, Aged Red Wine Vinegar, Aged White Wine Vinegar, Organic Rainier Cherries, Organic Fat Free Milk]</td>\n",
       "      <td>[Banana]</td>\n",
       "    </tr>\n",
       "    <tr>\n",
       "      <th>13</th>\n",
       "      <td>2927</td>\n",
       "      <td>[Large Lemon, Dark Red Kidney Beans, Petite Diced Tomatoes, Jack's Special Mild Salsa, Fresh Lean Ground Turkey, Goldfish Baby Cheddar Baked Snack Crackers, Original Petroleum Jelly, Fat-Free Refried Beans]</td>\n",
       "      <td>[Banana]</td>\n",
       "    </tr>\n",
       "    <tr>\n",
       "      <th>14</th>\n",
       "      <td>3506</td>\n",
       "      <td>[Shredded Parmesan, Organic Garlic, Organic Small Curd Cottage Cheese, Cantaloupe, Dried Sweetened Cranberries, Emmentaler Swiss Slices, Certified Compostable Large Baking Cups, Organic Raspberries, Baby Spinach, Organic Extra Virgin Olive Oil]</td>\n",
       "      <td>[Organic Strawberries, Bag of Organic Bananas]</td>\n",
       "    </tr>\n",
       "    <tr>\n",
       "      <th>15</th>\n",
       "      <td>3764</td>\n",
       "      <td>[Seedless Red Grapes, Organic Whole String Cheese, Unsweetened Vanilla Almond Milk, Large Grapefruit, Organic Raw Kombucha Gingerade, Cold Brew Coffee Double Espresso with Almond Milk, Organic Vanilla Chip Chewy Granola, Oragnic Ginger Lemon Kombucha, Arancita Rossa, Total 2% All Natural Low Fat 2% Milkfat Greek Strained Yogurt, Organic Chewy Honey Roasted Nut Granola Bars, Egg &amp; Green Chile Burrito, Vanilla dipped in chocolate  Bars, Organic Strawberries]</td>\n",
       "      <td>[Bag of Organic Bananas, Banana, Organic Baby Spinach, Organic Hass Avocado, Organic Raspberries]</td>\n",
       "    </tr>\n",
       "    <tr>\n",
       "      <th>16</th>\n",
       "      <td>4823</td>\n",
       "      <td>[Organic Heavy Whipping Cream, Tomatoes, Crushed, Organic, Double Concentrated Tomato Paste in Tube, Pure Coconut Water, 100% Raw Coconut Water, Organic White Onions, Orange Calcium &amp; Vitamin D Pulp Free, Grapefruit Sparkling Water, Whipped Cream Cheese, Tomato Paste, Country Morning White Bread, Plain Soymilk Creamer, Lemon Love Juice Drink, Plain Bagelettes, Low fat Chocolate Milk, Italian Pasta Sauce Basilico Tomato, Basil &amp; Garlic]</td>\n",
       "      <td>[]</td>\n",
       "    </tr>\n",
       "    <tr>\n",
       "      <th>17</th>\n",
       "      <td>4894</td>\n",
       "      <td>[Organic Lemonade, 100% Cranberry Juice]</td>\n",
       "      <td>[]</td>\n",
       "    </tr>\n",
       "    <tr>\n",
       "      <th>18</th>\n",
       "      <td>5385</td>\n",
       "      <td>[Ancient Grain Original Granola, Gluten Free Honey Almond Granola, Unsweetened Almondmilk]</td>\n",
       "      <td>[]</td>\n",
       "    </tr>\n",
       "    <tr>\n",
       "      <th>19</th>\n",
       "      <td>5409</td>\n",
       "      <td>[Organic Cheese Frozen Pizza, Rosemary Raisin Raincoast Crisps, Air Chilled Breaded Chicken Breast Nuggets, Garlic &amp; Fine Herbs Gournay Cheese]</td>\n",
       "      <td>[]</td>\n",
       "    </tr>\n",
       "  </tbody>\n",
       "</table>\n",
       "</div>"
      ],
      "text/plain": [
       "    order_id  \\\n",
       "0         26   \n",
       "1         29   \n",
       "2        964   \n",
       "3       1677   \n",
       "4       1697   \n",
       "5       1806   \n",
       "6       1950   \n",
       "7       2040   \n",
       "8       2214   \n",
       "9       2250   \n",
       "10      2453   \n",
       "11      2509   \n",
       "12      2529   \n",
       "13      2927   \n",
       "14      3506   \n",
       "15      3764   \n",
       "16      4823   \n",
       "17      4894   \n",
       "18      5385   \n",
       "19      5409   \n",
       "\n",
       "                                                                                                                                                                                                                                                                                                                                                                                                                                                                   collect_list(product_name)  \\\n",
       "0                                                                                                                                                                                                                                                                                                                       [Organic Unsweetened Almond Milk, Red Grapefruit, Boneless Skinless Chicken Breasts, Berry Medley, Organic Baby Spinach, Banana, Organic Avocado, Organic Egg Whites]   \n",
       "1                                                                                                                                                                                                                                                                                                                                                                                          [Raspberries, Smartwater, Baby Cucumbers, Sinfully Sweet Campari Tomatoes, Bag of Organic Bananas]   \n",
       "2                                                                                                                                [Green Bell Pepper, Organic Diced Tomatoes, Kids Sensible Foods Broccoli Littles, Organic Cottage Cheese, Organic Stage 2 Peaches & Bananas Baby Food, Organic Cannellini Beans, Organic Pumpkin, Organic Pears, Peas and Broccoli Puree Stage 1, Organic 4 Months Butternut Squash Carrots Apples + Prunes Baby Food, Grovestand Lots of Pulp Orange Juice]   \n",
       "3                                                                                                                                                                                                                                                                                                                                                                                                                                             [Original Almondmilk, 0% Greek Strained Yogurt]   \n",
       "4                                                                                [Iceberg Lettuce, Unsalted Pure Irish Butter, Heavy Whipping Cream, Organic Dill, Romaine Hearts, Ready-to-Bake 9 Inch Pie Crusts, Organic White Onions, Organic Green Leaf Lettuce, Goat Cheese Log, Ginger Ale Jamaican Style, 8\\\" Apple Pie, Brownberry Natural Wheat Bread, Thai Peanut Sauce, Pure, All-Natural Clam Juice, Chicken Base, Organic, Chopped Clams, Organic Avocado, Organic Half & Half]   \n",
       "5                                                                                                                                                                                                                                                                                                                                                                                                                           [Direct Trade Black Cat Classic Espresso Roast Whole Bean Coffee]   \n",
       "6                                                                                                                                                                                                                                                                                                                                                                                                                                      [Milk, Organic, Vitamin D, 100% Recycled Paper Towels]   \n",
       "7                                                                                                                                                                                                                                                                                            [Organic Blackberries, Total 0% Nonfat Greek Yogurt, ALMONDBREEZE UNSWEETENED, Hazelnuts, Cheddar Cheese Medium, Bag of Organic Bananas, Organic Raspberries, Vanilla Almond Breeze Almond Milk]   \n",
       "8                                                                                                                            [Raspberries, Tilapia Filet, Limes, Hass Avocados, Fresh Ginger Root, Kale Greens, Russet Potato, No Pulp Calcium & Vitamin D Pure Premium 100% Pure Orange Juice, Organic Navel Orange, Green Onions, Raspberry Yoghurt, Tomato Paste, Organic Blueberry Waffles, Blueberry Yoghurt, 93% Ground Beef, Organic Broccoli Slaw, Yellow Onions, Organic Whole Milk]   \n",
       "9   [Squeeze Real Mayonnaise, Raisin Bran Cereal, Lavender Dish Soap, Bagel Bites Three Cheese Mini Bagel Pizzas, Multigrain Tortilla Chips, Everyday 2 Ply Premium Napkins, Organic Pack Peasant Bread, Pink Virgin Lemonade, Sweetened Light Whipped Cream, Orange Juice with Calcium, Dry Roasted Lightly Salted Peanuts, Sweet Pea and Violet Body Wash, Frosted Flakes Cereal, Fruity Cheerios Cereal, Post Selects Great Grains Cereal Raisins, Dates and Pecans, Great Grains, Banana]   \n",
       "10                                                                                                                                                                                                                   [Organic Tomato Cluster, Pure Lemon Juice, Special Reserve Extra Sharp Cheddar Cheese, Organic Caesar Dressing, Saltine Crackers, Organic Fuel High Protein Vanilla Milk Shake, Caesar Rules Dressing, Organic Chocolate  Chip Cookie Vanilla Bean Ice Cream Sandwiches]   \n",
       "11               [Chicken Pot Pie, Ultra-Purified Water, Chocolate Peanut Butter Ice Cream, Electrolyte Enhanced Water, Honey Nut Cheerios, Naturally Alkaline Spring Water, Select Tender Chicken with Vegetables & Brown Rice Dog Food Recipe, Ibuprofen Liquid Gels, Chunky Beef with Vegetables & Brown Rice Dog Food, Blazin' Beef Recipe Dog Food, Kickin' Chicken Recipe Dog Food, Chillin' Chicken Recipe, Artesian Water, Chicken Curry Salad, Apple & Cherry Simple Combos Organic]   \n",
       "12                                                                                                                                                                                                     [Large Lemon, Strawberries, Roman Raspberry Sorbetto, Gourmet Tomato Medley, Organic Cinnamon Crunch Cereal, Margherita With Cherry Tomatoes Pizza, Light & Lean Pasta & Veggie Bowl, Aged Red Wine Vinegar, Aged White Wine Vinegar, Organic Rainier Cherries, Organic Fat Free Milk]   \n",
       "13                                                                                                                                                                                                                                                                             [Large Lemon, Dark Red Kidney Beans, Petite Diced Tomatoes, Jack's Special Mild Salsa, Fresh Lean Ground Turkey, Goldfish Baby Cheddar Baked Snack Crackers, Original Petroleum Jelly, Fat-Free Refried Beans]   \n",
       "14                                                                                                                                                                                                                                       [Shredded Parmesan, Organic Garlic, Organic Small Curd Cottage Cheese, Cantaloupe, Dried Sweetened Cranberries, Emmentaler Swiss Slices, Certified Compostable Large Baking Cups, Organic Raspberries, Baby Spinach, Organic Extra Virgin Olive Oil]   \n",
       "15               [Seedless Red Grapes, Organic Whole String Cheese, Unsweetened Vanilla Almond Milk, Large Grapefruit, Organic Raw Kombucha Gingerade, Cold Brew Coffee Double Espresso with Almond Milk, Organic Vanilla Chip Chewy Granola, Oragnic Ginger Lemon Kombucha, Arancita Rossa, Total 2% All Natural Low Fat 2% Milkfat Greek Strained Yogurt, Organic Chewy Honey Roasted Nut Granola Bars, Egg & Green Chile Burrito, Vanilla dipped in chocolate  Bars, Organic Strawberries]   \n",
       "16                                    [Organic Heavy Whipping Cream, Tomatoes, Crushed, Organic, Double Concentrated Tomato Paste in Tube, Pure Coconut Water, 100% Raw Coconut Water, Organic White Onions, Orange Calcium & Vitamin D Pulp Free, Grapefruit Sparkling Water, Whipped Cream Cheese, Tomato Paste, Country Morning White Bread, Plain Soymilk Creamer, Lemon Love Juice Drink, Plain Bagelettes, Low fat Chocolate Milk, Italian Pasta Sauce Basilico Tomato, Basil & Garlic]   \n",
       "17                                                                                                                                                                                                                                                                                                                                                                                                                                                   [Organic Lemonade, 100% Cranberry Juice]   \n",
       "18                                                                                                                                                                                                                                                                                                                                                                                                 [Ancient Grain Original Granola, Gluten Free Honey Almond Granola, Unsweetened Almondmilk]   \n",
       "19                                                                                                                                                                                                                                                                                                                                            [Organic Cheese Frozen Pizza, Rosemary Raisin Raincoast Crisps, Air Chilled Breaded Chicken Breast Nuggets, Garlic & Fine Herbs Gournay Cheese]   \n",
       "\n",
       "                                                                                                                            prediction  \n",
       "0                  [Organic Strawberries, Organic Hass Avocado, Large Lemon, Strawberries, Organic Fuji Apple, Bag of Organic Bananas]  \n",
       "1                                              [Organic Strawberries, Organic Baby Spinach, Organic Hass Avocado, Organic Raspberries]  \n",
       "2                                                                                                                                   []  \n",
       "3                                                                                                                                   []  \n",
       "4                                                                                                                             [Banana]  \n",
       "5                                                                                                                                   []  \n",
       "6                                                                                                                                   []  \n",
       "7                                                                   [Organic Strawberries, Organic Baby Spinach, Organic Hass Avocado]  \n",
       "8                                                                                                                                   []  \n",
       "9   [Organic Strawberries, Organic Baby Spinach, Organic Hass Avocado, Organic Avocado, Large Lemon, Strawberries, Organic Fuji Apple]  \n",
       "10                                                                                                                                  []  \n",
       "11                                                                                                                                  []  \n",
       "12                                                                                                                            [Banana]  \n",
       "13                                                                                                                            [Banana]  \n",
       "14                                                                                      [Organic Strawberries, Bag of Organic Bananas]  \n",
       "15                                   [Bag of Organic Bananas, Banana, Organic Baby Spinach, Organic Hass Avocado, Organic Raspberries]  \n",
       "16                                                                                                                                  []  \n",
       "17                                                                                                                                  []  \n",
       "18                                                                                                                                  []  \n",
       "19                                                                                                                                  []  "
      ]
     },
     "metadata": {},
     "output_type": "display_data"
    }
   ],
   "source": [
    "transformed_pdf = transformed.select(\"*\").toPandas()\n",
    "with pd.option_context('display.max_colwidth', None):\n",
    "  display(transformed_pdf.head(20))"
   ]
  }
 ],
 "metadata": {
  "colab": {
   "collapsed_sections": [],
   "name": "Instacart.ipynb",
   "provenance": []
  },
  "kernelspec": {
   "display_name": "Python 3",
   "language": "python",
   "name": "python3"
  },
  "language_info": {
   "codemirror_mode": {
    "name": "ipython",
    "version": 3
   },
   "file_extension": ".py",
   "mimetype": "text/x-python",
   "name": "python",
   "nbconvert_exporter": "python",
   "pygments_lexer": "ipython3",
   "version": "3.8.8"
  }
 },
 "nbformat": 4,
 "nbformat_minor": 5
}
